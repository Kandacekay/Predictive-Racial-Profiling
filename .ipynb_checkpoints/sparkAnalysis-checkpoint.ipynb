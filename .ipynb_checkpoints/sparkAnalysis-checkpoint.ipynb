{
 "cells": [
  {
   "cell_type": "code",
   "execution_count": 1,
   "id": "15a9e5db-3077-4f4a-b654-1262aaacb181",
   "metadata": {},
   "outputs": [],
   "source": [
    "# Import findspark and initialize. \n",
    "import pandas as pd\n",
    "import findspark\n",
    "findspark.init()"
   ]
  },
  {
   "cell_type": "code",
   "execution_count": 2,
   "id": "8591795a-ae64-4c6b-a62b-a72e7e40fb16",
   "metadata": {},
   "outputs": [],
   "source": [
    "# Import findspark and initialize. \n",
    "import pandas as pd\n",
    "import findspark\n",
    "findspark.init()"
   ]
  },
  {
   "cell_type": "code",
   "execution_count": 3,
   "id": "86ad6082-7419-48c3-af9e-7ed4a9d396fc",
   "metadata": {},
   "outputs": [],
   "source": [
    "# Import packages\n",
    "from pyspark.sql import SparkSession\n",
    "from pyspark.sql import Row\n",
    "from pyspark.sql.types import StructType,StructField,StringType, DateType,IntegerType\n",
    "\n"
   ]
  },
  {
   "cell_type": "code",
   "execution_count": 4,
   "id": "3d257f1a-5658-4b4d-b91b-32f94447866a",
   "metadata": {},
   "outputs": [],
   "source": [
    "# Spark Analysis"
   ]
  },
  {
   "cell_type": "code",
   "execution_count": 5,
   "id": "cb5f6464-6f07-4a58-99f6-a4a261d3770f",
   "metadata": {
    "scrolled": true
   },
   "outputs": [
    {
     "name": "stderr",
     "output_type": "stream",
     "text": [
      "C:\\Spark\\Spark3\\python\\pyspark\\sql\\pandas\\conversion.py:485: FutureWarning: is_datetime64tz_dtype is deprecated and will be removed in a future version. Check `isinstance(dtype, pd.DatetimeTZDtype)` instead.\n",
      "  if should_localize and is_datetime64tz_dtype(s.dtype) and s.dt.tz is not None:\n"
     ]
    },
    {
     "name": "stdout",
     "output_type": "stream",
     "text": [
      "+-----------+-------------------+---+------------------+--------+--------------------+--------------------+------------+--------------------+------------------+------------------+\n",
      "|arrest_date|        arrest_time|sex|              race|searched|      reason_stopped|     search_based_on|search_found|          race_known|               lng|               lat|\n",
      "+-----------+-------------------+---+------------------+--------+--------------------+--------------------+------------+--------------------+------------------+------------------+\n",
      "| 2015-01-01|2015-01-01 00:02:00|  M|HISPANIC OR LATINO| YES = 1|    CALL FOR SERVICE|INCIDENTAL TO ARREST|     NOTHING|NO - RACE OR ETHN...|-97.73419151256908| 30.26646917024065|\n",
      "| 2015-01-01|2015-01-01 03:17:00|  M|             WHITE| YES = 1|VIOLATION OF TRAN...|INCIDENTAL TO ARREST|       DRUGS|NO - RACE OR ETHN...| -97.7776889200335|30.227662552230814|\n",
      "| 2015-01-01|2015-01-01 03:17:00|  F|             WHITE| YES = 1|VIOLATION OF TRAN...|INCIDENTAL TO ARREST|       DRUGS|NO - RACE OR ETHN...| -97.7776889200335|30.227662552230814|\n",
      "| 2015-01-01|2015-01-01 04:26:00|  M|             WHITE| YES = 1|VIOLATION OF TRAN...|INCIDENTAL TO ARREST|     NOTHING|NO - RACE OR ETHN...|-97.76017254544549|30.274213186235304|\n",
      "| 2015-01-01|2015-01-01 01:06:00|  F|             WHITE| YES = 1|  CONSENSUAL CONTACT|INCIDENTAL TO ARREST|       OTHER|NO - RACE OR ETHN...|-97.73972017814472| 30.26624565910905|\n",
      "+-----------+-------------------+---+------------------+--------+--------------------+--------------------+------------+--------------------+------------------+------------------+\n",
      "only showing top 5 rows\n",
      "\n"
     ]
    }
   ],
   "source": [
    "# Import our input dataset\n",
    "df = pd.read_csv('https://profilingbucket.s3.us-east-2.amazonaws.com/combined_data.csv')\n",
    "\n",
    "profiling_arrest_analysis = pd.DataFrame(df)\n",
    "\n",
    "spark = SparkSession.builder.appName(\"pandasToSpark\").getOrCreate()\n",
    "\n",
    "# Convert Pandas DataFrame to Spark DataFrame\n",
    "spark_df = spark.createDataFrame(profiling_arrest_analysis)\n",
    "\n",
    "# Show the Spark DataFrame\n",
    "spark_df.show(5)"
   ]
  },
  {
   "cell_type": "code",
   "execution_count": 6,
   "id": "a33780df-d7a9-4979-8811-71015e386b69",
   "metadata": {
    "scrolled": true
   },
   "outputs": [
    {
     "data": {
      "text/plain": [
       "[('arrest_date', 'string'),\n",
       " ('arrest_time', 'string'),\n",
       " ('sex', 'string'),\n",
       " ('race', 'string'),\n",
       " ('searched', 'string'),\n",
       " ('reason_stopped', 'string'),\n",
       " ('search_based_on', 'string'),\n",
       " ('search_found', 'string'),\n",
       " ('race_known', 'string'),\n",
       " ('lng', 'double'),\n",
       " ('lat', 'double')]"
      ]
     },
     "execution_count": 6,
     "metadata": {},
     "output_type": "execute_result"
    }
   ],
   "source": [
    "spark_df.dtypes"
   ]
  },
  {
   "cell_type": "code",
   "execution_count": 7,
   "id": "c1776175-d0c4-4b1c-9cb2-014345999f85",
   "metadata": {},
   "outputs": [
    {
     "name": "stdout",
     "output_type": "stream",
     "text": [
      "+-----------+-----------+---+----+--------+--------------+---------------+------------+----------+---+---+\n",
      "|arrest_date|arrest_time|sex|race|searched|reason_stopped|search_based_on|search_found|race_known|lng|lat|\n",
      "+-----------+-----------+---+----+--------+--------------+---------------+------------+----------+---+---+\n",
      "|          0|          0|  0|   0|       0|             0|              0|           0|         0|  0|  0|\n",
      "+-----------+-----------+---+----+--------+--------------+---------------+------------+----------+---+---+\n",
      "\n"
     ]
    }
   ],
   "source": [
    "from pyspark.sql.functions import count, col, when\n",
    "\n",
    "# Check for Null Values/'\n",
    "spark_df.select([count(when(col(c).isNull(), c)).alias(c) for c in spark_df.columns]).show()\n"
   ]
  },
  {
   "cell_type": "code",
   "execution_count": 8,
   "id": "5d48b518-34e7-4aba-b9ac-e77dbc681d45",
   "metadata": {},
   "outputs": [
    {
     "name": "stdout",
     "output_type": "stream",
     "text": [
      "Total number of records: 41423\n"
     ]
    }
   ],
   "source": [
    "record_count = spark_df.count()\n",
    "print(\"Total number of records:\", record_count)"
   ]
  },
  {
   "cell_type": "code",
   "execution_count": 9,
   "id": "395a577b-c29d-45a0-8030-afb800a20306",
   "metadata": {},
   "outputs": [
    {
     "name": "stdout",
     "output_type": "stream",
     "text": [
      "+-------+-----------+-------------------+----------+--------------------+----------+----------------+---------------+------------+--------------------+--------------------+-------------------+\n",
      "|summary|arrest_date|        arrest_time|       sex|                race|  searched|  reason_stopped|search_based_on|search_found|          race_known|                 lng|                lat|\n",
      "+-------+-----------+-------------------+----------+--------------------+----------+----------------+---------------+------------+--------------------+--------------------+-------------------+\n",
      "|  count|      41423|              41423|     41423|               41423|     41423|           41423|          41423|       41423|               41423|               41423|              41423|\n",
      "|   mean|       NULL|               NULL|      NULL|                NULL|      NULL|            NULL|           NULL|        NULL|                NULL|   -97.7297728374332|  30.28806440930425|\n",
      "| stddev|       NULL|               NULL|      NULL|                NULL|      NULL|            NULL|           NULL|        NULL|                NULL|0.041561549433097617|0.06998780918868285|\n",
      "|    min| 2015-01-01|2015-01-01 00:02:00|         F|AMERICAN INDIAN/A...|        NO|CALL FOR SERVICE|        CONSENT|     ALCOHOL|NO - RACE OR ETHN...|  -97.97957328509726| 30.059086560244864|\n",
      "|    max| 2020-12-31|2020-12-31 22:45:00|not_listed|          not_listed|not_listed|      not_listed|     not_listed|  not_listed|          not_listed|   -97.5343680122678|   30.5622590298198|\n",
      "+-------+-----------+-------------------+----------+--------------------+----------+----------------+---------------+------------+--------------------+--------------------+-------------------+\n",
      "\n"
     ]
    }
   ],
   "source": [
    "summary_stats = spark_df.describe()\n",
    "summary_stats.show()"
   ]
  },
  {
   "cell_type": "code",
   "execution_count": 10,
   "id": "45e8c069-b4c9-41ca-a37e-c0a02e0e087f",
   "metadata": {},
   "outputs": [
    {
     "name": "stdout",
     "output_type": "stream",
     "text": [
      "+--------------------+-----+\n",
      "|                race|count|\n",
      "+--------------------+-----+\n",
      "|               WHITE|13584|\n",
      "|               BLACK| 9905|\n",
      "|AMERICAN INDIAN/A...|   20|\n",
      "|  HISPANIC OR LATINO|17212|\n",
      "|             UNKNOWN|  112|\n",
      "|      MIDDLE EASTERN|  138|\n",
      "|HAWAIIAN/PACIFIC ...|   22|\n",
      "|               ASIAN|  427|\n",
      "|          not_listed|    3|\n",
      "+--------------------+-----+\n",
      "\n"
     ]
    }
   ],
   "source": [
    "race_counts = spark_df.groupBy(\"race\").count()\n",
    "race_counts.show()"
   ]
  },
  {
   "cell_type": "code",
   "execution_count": 11,
   "id": "a579249e-b7f7-4a51-9486-6689ae20492a",
   "metadata": {},
   "outputs": [
    {
     "name": "stdout",
     "output_type": "stream",
     "text": [
      "Total number of searches: 24807\n"
     ]
    }
   ],
   "source": [
    "total_searches = spark_df.filter(spark_df[\"searched\"] == \"YES = 1\").count()\n",
    "print(\"Total number of searches:\", total_searches)"
   ]
  },
  {
   "cell_type": "code",
   "execution_count": 12,
   "id": "34bed52b-9635-4920-8b7b-e66830623c4b",
   "metadata": {},
   "outputs": [
    {
     "data": {
      "image/png": "[encoded data removed]",
      "text/plain": [
       "<Figure size 640x480 with 1 Axes>"
      ]
     },
     "metadata": {},
     "output_type": "display_data"
    }
   ],
   "source": [
    "import matplotlib.pyplot as plt\n",
    "\n",
    "# Convert Spark DataFrame to Pandas DataFrame for visualization\n",
    "pandas_df = spark_df.toPandas()\n",
    "\n",
    "# Plotting race distribution\n",
    "race_distribution = pandas_df[\"race\"].value_counts()\n",
    "race_distribution.plot(kind=\"bar\")\n",
    "plt.title(\"Race Distribution\")\n",
    "plt.xlabel(\"Race\")\n",
    "plt.ylabel(\"Count\")\n",
    "plt.show()\n"
   ]
  },
  {
   "cell_type": "markdown",
   "id": "a493b6e6-c5bc-41af-9ebc-889642d6a8a7",
   "metadata": {},
   "source": [
    "### Analysis:\n",
    "#### 1. Aggregations by Month or Day:\n",
    "\r\n",
    "The query on arrests by month provides insights into the distribution of arrests across different demographic groups over each month. Here are some findings based on the provided result:\r\n",
    "\r\n",
    "Monthly Distribution:\r\n",
    "\r\n",
    "The data shows the distribution of arrests across different months.\r\n",
    "Each row represents a combination of sex, race, and the respective month.\r\n",
    "Highest Arrest Months:\r\n",
    "\r\n",
    "January (month 1) appears to have higher arrest counts across various demographic groups.\r\n",
    "For example, Hispanic or Latino Males (sex=M, race=HISPANIC OR LATINO), White Males (sex=M, race=WHITE), and Black Males (sex=M, race=BLACK) have relatively high arrest counts in January.\r\n",
    "Variation Across Demographic Groups:\r\n",
    "\r\n",
    "Arrest counts vary across sex and race categories for each month.\r\n",
    "Different demographic groups may have distinct patterns in terms of arrests, potentially influenced by various factors.\r\n",
    "Low Arrest Counts:\r\n",
    "\r\n",
    "Some demographic groups, especially in minority categories, may have lower arrest counts in certain months.\r\n",
    "Data Exploration:\r\n",
    "\r\n",
    "Further exploration could involve visualizing the monthly trends using line charts or other time series visualizations.\r\n",
    "Analyzing whether certain events or seasons contribute to the observed patterns.\r\n",
    "Consideration for Seasonality:\r\n",
    "\r\n",
    "Patterns in arrests could be influenced by seasonal factors, holidays, or specific events that occur at different times of the year.\r\n",
    "It's important to note that while these findings provide insights into the monthly distribution of arrests, a more detailed analysis, possibly with visualizations, could reveal additional patterns and context. Domain knowledge and understanding the context of the dataset would contribute to a more comprehensive interpretation of the findings."
   ]
  },
  {
   "cell_type": "markdown",
   "id": "83322515-4b90-4b35-8377-a33f3e134d38",
   "metadata": {},
   "source": [
    "#### Notes for findings and Visualiszations: \n",
    "- This analysis aims to understand the patterns of arrests by examining the demographic attributes of gender (sex), racial or ethnic background (race), and the temporal aspect represented by monthly trends.\n",
    "- "
   ]
  },
  {
   "cell_type": "code",
   "execution_count": 13,
   "id": "d4aa1840-207e-4808-96b2-9788d96442bb",
   "metadata": {},
   "outputs": [],
   "source": [
    "# Register the DataFrame as a temporary SQL table\n",
    "spark_df.createOrReplaceTempView(\"arrest_data\")"
   ]
  },
  {
   "cell_type": "code",
   "execution_count": 14,
   "id": "62c46494-688d-4064-8bbc-1bc84e946a72",
   "metadata": {},
   "outputs": [
    {
     "name": "stdout",
     "output_type": "stream",
     "text": [
      "This analysis aims to understand the patterns of arrests by examining the demographic attributes of gender (sex), racial or ethnic background (race), and the temporal aspect represented by monthly trends.\n",
      "+---+------------------------------+------------+------------+\n",
      "|sex|race                          |arrest_month|arrest_count|\n",
      "+---+------------------------------+------------+------------+\n",
      "|M  |HISPANIC OR LATINO            |1           |1473        |\n",
      "|M  |WHITE                         |1           |1033        |\n",
      "|M  |BLACK                         |1           |823         |\n",
      "|F  |WHITE                         |1           |439         |\n",
      "|F  |HISPANIC OR LATINO            |1           |375         |\n",
      "|F  |BLACK                         |1           |243         |\n",
      "|M  |ASIAN                         |1           |43          |\n",
      "|M  |MIDDLE EASTERN                |1           |15          |\n",
      "|F  |ASIAN                         |1           |7           |\n",
      "|M  |UNKNOWN                       |1           |6           |\n",
      "|M  |HAWAIIAN/PACIFIC ISLANDER     |1           |6           |\n",
      "|F  |UNKNOWN                       |1           |5           |\n",
      "|F  |MIDDLE EASTERN                |1           |1           |\n",
      "|F  |HAWAIIAN/PACIFIC ISLANDER     |1           |1           |\n",
      "|M  |AMERICAN INDIAN/ALASKAN NATIVE|1           |1           |\n",
      "|M  |HISPANIC OR LATINO            |2           |1283        |\n",
      "|M  |WHITE                         |2           |894         |\n",
      "|M  |BLACK                         |2           |711         |\n",
      "|F  |WHITE                         |2           |434         |\n",
      "|F  |HISPANIC OR LATINO            |2           |381         |\n",
      "+---+------------------------------+------------+------------+\n",
      "only showing top 20 rows\n",
      "\n"
     ]
    }
   ],
   "source": [
    "from pyspark.sql.functions import month, dayofmonth\n",
    "\n",
    "result_by_month = spark.sql(\"\"\"\n",
    "    SELECT\n",
    "        sex,\n",
    "        race,\n",
    "        month(arrest_date) AS arrest_month,\n",
    "        COUNT(*) AS arrest_count\n",
    "    FROM\n",
    "        arrest_data\n",
    "    GROUP BY\n",
    "        sex, race, arrest_month\n",
    "    ORDER BY\n",
    "        arrest_month, arrest_count DESC\n",
    "\"\"\")\n",
    "print('This analysis aims to understand the patterns of arrests by examining the demographic attributes of gender (sex), racial or ethnic background (race), and the temporal aspect represented by monthly trends.')\n",
    "result_by_month.show(truncate=False)"
   ]
  },
  {
   "cell_type": "markdown",
   "id": "7a36343b-5055-4da8-9e7a-da832ef1e223",
   "metadata": {},
   "source": [
    "#### 2. Temporal Trends:"
   ]
  },
  {
   "cell_type": "markdown",
   "id": "986566bf-7004-41ec-a23f-d8321aacdcba",
   "metadata": {},
   "source": [
    "#### Notes for findings and Visualiszations: \n",
    "\r\n",
    "The query on temporal trends analyzes the distribution of arrests over time across different demographic groups (combinations of sex and race). Here are some findings based on the provided result:\r\n",
    "\r\n",
    "Temporal Distribution:\r\n",
    "\r\n",
    "The data shows the temporal trends in arrests from January 1, 2015, onward.\r\n",
    "Arrests on Specific Dates:\r\n",
    "\r\n",
    "The table reveals the number of arrests on specific dates for different demographic groups.\r\n",
    "For example, on January 1, 2015, there were arrests for Hispanic or Latino Males (sex=M, race=HISPANIC OR LATINO), Black Males (sex=M, race=BLACK), White Males (sex=M, race=WHITE), and White Females (sex=F, race=WHITE).\r\n",
    "Variation Across Dates:\r\n",
    "\r\n",
    "The count of arrests varies across different dates and demographic groups.\r\n",
    "Temporal Patterns:\r\n",
    "\r\n",
    "Patterns in arrests may emerge over time, reflecting factors such as day of the week, holidays, or specific events.\r\n",
    "Data Exploration:\r\n",
    "\r\n",
    "Further exploration of the data could involve visualizing temporal trends using line charts or other time series visualizations.\r\n",
    "Identifying spikes or patterns on specific dates may lead to insights or hypotheses about the reasons behind those trends.\r\n",
    "Consideration for Time of Day:\r\n",
    "\r\n",
    "It might be beneficial to explore temporal patterns not only by date but also by the time of day to uncover patterns related to specific hours.\r\n",
    "It's important to note that a more detailed analysis, possibly with visualizations, could provide a clearer understanding of the temporal trends in arrests for different demographic groups. Additionally, domain knowledge and context about the dataset could contribute to a more comprehensive interpretation of the findings.\r\n",
    "\r\n",
    "\r\n",
    "\r\n",
    "\r\n",
    "\r\n"
   ]
  },
  {
   "cell_type": "code",
   "execution_count": 15,
   "id": "5952bb9b-c9f3-4651-a18a-1c53951e130b",
   "metadata": {},
   "outputs": [
    {
     "name": "stdout",
     "output_type": "stream",
     "text": [
      "This query analyzes temporal trends by providing the count for each combination of sex, race, and arrest date.\n",
      "+---+------------------+-----------+------------+\n",
      "|sex|race              |arrest_date|arrest_count|\n",
      "+---+------------------+-----------+------------+\n",
      "|M  |HISPANIC OR LATINO|2015-01-01 |11          |\n",
      "|M  |BLACK             |2015-01-01 |6           |\n",
      "|M  |WHITE             |2015-01-01 |4           |\n",
      "|F  |WHITE             |2015-01-01 |3           |\n",
      "|M  |ASIAN             |2015-01-01 |1           |\n",
      "|M  |BLACK             |2015-01-02 |5           |\n",
      "|M  |WHITE             |2015-01-02 |3           |\n",
      "|F  |WHITE             |2015-01-02 |3           |\n",
      "|M  |HISPANIC OR LATINO|2015-01-02 |3           |\n",
      "|M  |ASIAN             |2015-01-02 |1           |\n",
      "|F  |BLACK             |2015-01-02 |1           |\n",
      "|M  |HISPANIC OR LATINO|2015-01-03 |13          |\n",
      "|M  |WHITE             |2015-01-03 |5           |\n",
      "|M  |BLACK             |2015-01-03 |4           |\n",
      "|F  |BLACK             |2015-01-03 |4           |\n",
      "|F  |WHITE             |2015-01-03 |3           |\n",
      "|F  |HISPANIC OR LATINO|2015-01-03 |2           |\n",
      "|M  |BLACK             |2015-01-04 |11          |\n",
      "|M  |HISPANIC OR LATINO|2015-01-04 |10          |\n",
      "|M  |WHITE             |2015-01-04 |5           |\n",
      "+---+------------------+-----------+------------+\n",
      "only showing top 20 rows\n",
      "\n"
     ]
    }
   ],
   "source": [
    "result_temporal_trends = spark.sql(\"\"\"\n",
    "    SELECT\n",
    "        sex,\n",
    "        race,\n",
    "        arrest_date,\n",
    "        COUNT(*) AS arrest_count\n",
    "    FROM\n",
    "        arrest_data\n",
    "    GROUP BY\n",
    "        sex, race, arrest_date\n",
    "    ORDER BY\n",
    "        arrest_date, arrest_count DESC\n",
    "\"\"\")\n",
    "print('This query analyzes temporal trends by providing the count for each combination of sex, race, and arrest date.')\n",
    "result_temporal_trends.show(truncate=False)"
   ]
  },
  {
   "cell_type": "markdown",
   "id": "8bb8ee4b-e199-41a2-b073-25441d879530",
   "metadata": {},
   "source": [
    "#### 3. Reasons for Arrest:"
   ]
  },
  {
   "cell_type": "markdown",
   "id": "4d8ea67a-27f3-447b-b6c4-5b4395de0276",
   "metadata": {},
   "source": [
    "#### Notes for findings and Visualiszations: \n",
    "\n",
    "\r\n",
    "The query on reasons for arrest provides insights into the distribution of different reasons for arrests across various demographic groups (combinations of sex and race). Here are some findings based on the provided result:\r\n",
    "\r\n",
    "Top Reasons for Arrest:\r\n",
    "\r\n",
    "For Hispanic or Latino Males (sex=M, race=HISPANIC OR LATINO), the most common reasons for arrest are \"Moving Traffic Violation\" (5,231 arrests) and \"VIOLATION OF TRANSPORTATION CODE/VEHICLE LAWS\" (4,367 arrests).\r\n",
    "For Black Males and White Males, \"Moving Traffic Violation\" and \"VIOLATION OF TRANSPORTATION CODE/VEHICLE LAWS\" are also among the top reasons.\r\n",
    "Traffic Violations:\r\n",
    "\r\n",
    "\"Moving Traffic Violation\" and \"VIOLATION OF TRANSPORTATION CODE/VEHICLE LAWS\" appear to be prominent reasons for arrest across different demographic groups.\r\n",
    "Violation of Law Other Than Traffic:\r\n",
    "\r\n",
    "Another category is \"Violation of law other than traffic,\" which contributes to a significant number of arrests for Hispanic or Latino Males and White Males.\r\n",
    "Not Listed Reasons:\r\n",
    "\r\n",
    "Some records have reasons for arrest marked as \"not_listed,\" indicating that the specific reason is not provided.\r\n",
    "Gender and Race Dynamics:\r\n",
    "\r\n",
    "The reasons for arrest may vary based on both gender and race, and the analysis can help identify patterns and potential areas for further investigation.\r\n",
    "Law Enforcement Practices:\r\n",
    "\r\n",
    "The findings may reflect law enforcement practices, and further analysis could involve exploring the context behind the arrests in each category.\r\n",
    "As with any analysis, the interpretation may benefit from additional context, domain knowledge, and visualizations. Consider visualizing the data to better understand the patterns and relationships between different demographic groups and the reasons for their arrests.\r\n",
    "\r\n",
    "\r\n",
    "\r\n",
    "\r\n",
    "\r\n",
    "\r\n"
   ]
  },
  {
   "cell_type": "code",
   "execution_count": 16,
   "id": "140903e3-fd2a-4217-8fea-cc3e455a0262",
   "metadata": {},
   "outputs": [
    {
     "name": "stdout",
     "output_type": "stream",
     "text": [
      "This query explores the reasons for arrest, providing the count for each combination of sex, race, and reason_stopped.\n",
      "+---+------------------+---------------------------------------------+------------+\n",
      "|sex|race              |reason_stopped                               |arrest_count|\n",
      "+---+------------------+---------------------------------------------+------------+\n",
      "|M  |HISPANIC OR LATINO|Moving Traffic Violation                     |5231        |\n",
      "|M  |HISPANIC OR LATINO|VIOLATION OF TRANSPORTATION CODE/VEHICLE LAWS|4367        |\n",
      "|M  |BLACK             |Moving Traffic Violation                     |3217        |\n",
      "|M  |WHITE             |VIOLATION OF TRANSPORTATION CODE/VEHICLE LAWS|3216        |\n",
      "|M  |WHITE             |Moving Traffic Violation                     |3005        |\n",
      "|M  |BLACK             |VIOLATION OF TRANSPORTATION CODE/VEHICLE LAWS|2584        |\n",
      "|M  |HISPANIC OR LATINO|Violation of law other than traffic          |2417        |\n",
      "|M  |WHITE             |Violation of law other than traffic          |1680        |\n",
      "|F  |HISPANIC OR LATINO|Moving Traffic Violation                     |1420        |\n",
      "|F  |WHITE             |VIOLATION OF TRANSPORTATION CODE/VEHICLE LAWS|1409        |\n",
      "|F  |WHITE             |Moving Traffic Violation                     |1368        |\n",
      "|F  |HISPANIC OR LATINO|VIOLATION OF TRANSPORTATION CODE/VEHICLE LAWS|1120        |\n",
      "|F  |BLACK             |Moving Traffic Violation                     |913         |\n",
      "|M  |BLACK             |Violation of law other than traffic          |895         |\n",
      "|F  |WHITE             |Violation of law other than traffic          |828         |\n",
      "|M  |WHITE             |not_listed                                   |711         |\n",
      "|F  |BLACK             |VIOLATION OF TRANSPORTATION CODE/VEHICLE LAWS|694         |\n",
      "|M  |HISPANIC OR LATINO|not_listed                                   |659         |\n",
      "|F  |HISPANIC OR LATINO|Violation of law other than traffic          |657         |\n",
      "|M  |BLACK             |not_listed                                   |366         |\n",
      "+---+------------------+---------------------------------------------+------------+\n",
      "only showing top 20 rows\n",
      "\n"
     ]
    }
   ],
   "source": [
    "result_reasons_for_arrest = spark.sql(\"\"\"\n",
    "    SELECT\n",
    "        sex,\n",
    "        race,\n",
    "        reason_stopped,\n",
    "        COUNT(*) AS arrest_count\n",
    "    FROM\n",
    "        arrest_data\n",
    "    GROUP BY\n",
    "        sex, race, reason_stopped\n",
    "    ORDER BY\n",
    "        arrest_count DESC\n",
    "\"\"\")\n",
    "print('This query explores the reasons for arrest, providing the count for each combination of sex, race, and reason_stopped.')\n",
    "result_reasons_for_arrest.show(truncate=False)\n"
   ]
  },
  {
   "cell_type": "markdown",
   "id": "61e09f1b-a7e6-4a1d-b108-001e6d3d2b9a",
   "metadata": {},
   "source": [
    "#### 4. Search Outcomes:"
   ]
  },
  {
   "cell_type": "markdown",
   "id": "f732855c-c35b-4cf6-a79a-d55eb11cf564",
   "metadata": {},
   "source": [
    "#### Notes for findings and Visualiszations: \n",
    "\n",
    "The query on search outcomes provides insights into the distribution of different search outcomes for various demographic groups (combinations of sex and race). Here are some findings based on the provided result:\r\n",
    "\r\n",
    "Common Search Outcomes:\r\n",
    "\r\n",
    "The column search_found represents the outcomes of searches, such as \"NOTHING,\" \"not_listed,\" \"DRUGS,\" \"OTHER,\" \"CASH,\" and so on.\r\n",
    "The majority of searches across all demographic groups resulted in \"NOTHING.\"\r\n",
    "Demographic Patterns:\r\n",
    "\r\n",
    "Hispanic or Latino Males (sex=M, race=HISPANIC OR LATINO) have the highest count of searches resulting in \"NOTHING\" (7,561), followed by White Males and Black Males.\r\n",
    "Different demographic groups may exhibit varying patterns in search outcomes.\r\n",
    "Variation in Outcomes:\r\n",
    "\r\n",
    "There is a variety of outcomes, including \"not_listed,\" \"DRUGS,\" \"OTHER,\" and \"CASH.\" These outcomes may provide insights into the reasons for searches and the subsequent results.\r\n",
    "Potential Areas of Interest:\r\n",
    "\r\n",
    "Analyzing the outcomes of searches can be crucial for understanding law enforcement practices and identifying any disparities in treatment based on demographic factors.\r\n",
    "Further Analysis:\r\n",
    "\r\n",
    "It would be valuable to explore the reasons behind different search outcomes, especially for cases where searches did not result in findings (\"NOTHING\") or when outcomes are not explicitly listed (\"not_listed\").\r\n",
    "As with any analysis, the interpretation may be enhanced with additional context, domain knowledge, and visualizations. Consider exploring visual representations of these search outcomes to better understand the patterns and identify any areas that require closer examination"
   ]
  },
  {
   "cell_type": "code",
   "execution_count": 17,
   "id": "12a8eaac-4073-4934-8bbe-6c47f61dba63",
   "metadata": {},
   "outputs": [
    {
     "name": "stdout",
     "output_type": "stream",
     "text": [
      "This query investigates outcomes of searches by providing the count for each combination of sex, race, and search_found.\n",
      "+---+------------------+------------+------------+\n",
      "|sex|race              |search_found|arrest_count|\n",
      "+---+------------------+------------+------------+\n",
      "|M  |HISPANIC OR LATINO|NOTHING     |7561        |\n",
      "|M  |WHITE             |NOTHING     |5027        |\n",
      "|M  |BLACK             |NOTHING     |3976        |\n",
      "|F  |WHITE             |NOTHING     |2560        |\n",
      "|F  |HISPANIC OR LATINO|NOTHING     |2226        |\n",
      "|M  |HISPANIC OR LATINO|not_listed  |2019        |\n",
      "|M  |WHITE             |not_listed  |1804        |\n",
      "|M  |HISPANIC OR LATINO|DRUGS       |1415        |\n",
      "|M  |HISPANIC OR LATINO|OTHER       |1289        |\n",
      "|F  |BLACK             |NOTHING     |1254        |\n",
      "|M  |BLACK             |not_listed  |1224        |\n",
      "|M  |BLACK             |DRUGS       |1115        |\n",
      "|M  |WHITE             |OTHER       |1016        |\n",
      "|M  |HISPANIC OR LATINO|CASH        |838         |\n",
      "|M  |WHITE             |DRUGS       |832         |\n",
      "|F  |WHITE             |not_listed  |753         |\n",
      "|F  |HISPANIC OR LATINO|not_listed  |691         |\n",
      "|M  |BLACK             |OTHER       |621         |\n",
      "|M  |BLACK             |CASH        |501         |\n",
      "|F  |BLACK             |not_listed  |492         |\n",
      "+---+------------------+------------+------------+\n",
      "only showing top 20 rows\n",
      "\n"
     ]
    }
   ],
   "source": [
    "result_search_outcomes = spark.sql(\"\"\"\n",
    "    SELECT\n",
    "        sex,\n",
    "        race,\n",
    "        search_found,\n",
    "        COUNT(*) AS arrest_count\n",
    "    FROM\n",
    "        arrest_data\n",
    "    GROUP BY\n",
    "        sex, race, search_found\n",
    "    ORDER BY\n",
    "        arrest_count DESC\n",
    "\"\"\")\n",
    "print('This query investigates outcomes of searches by providing the count for each combination of sex, race, and search_found.')\n",
    "result_search_outcomes.show(truncate=False)"
   ]
  },
  {
   "cell_type": "markdown",
   "id": "c9e0b107-1461-4031-9fa7-08947ca0adf3",
   "metadata": {},
   "source": [
    "#### 5. Geospatial Analysis:"
   ]
  },
  {
   "cell_type": "markdown",
   "id": "b1d600f2-20e4-424f-be60-b47a48053fd2",
   "metadata": {},
   "source": [
    "#### Notes for findings and Visualiszations: \n",
    "\r\n",
    "The geospatial analysis query provides insights into the average geographical locations (longitude and latitude) and arrest counts for different demographic groups (combinations of sex and race). Here are the findings based on the provided result:\r\n",
    "\r\n",
    "Average Geographical Locations:\r\n",
    "\r\n",
    "The columns avg_lng and avg_lat represent the average longitude and latitude, respectively, for each combination of sex and race.\r\n",
    "For example, Hispanic or Latino Males (sex=M, race=HISPANIC OR LATINO) have an average longitude of approximately 7.40 and an average latitude of approximately 85.78.\r\n",
    "Arrest Counts:\r\n",
    "\r\n",
    "The column arrest_count represents the total number of arrests for each combination of sex and race.\r\n",
    "For example, Hispanic or Latino Males have the highest arrest count with 13,613 arrests, followed by White Males with 9,408 arrests and Black Males with 7,713 arrests.\r\n",
    "Variation in Geographical Locations:\r\n",
    "\r\n",
    "There is variation in the average geographical locations across different demographic groups. This could be indicative of different patterns of arrests in different areas.\r\n",
    "Demographic Distribution:\r\n",
    "\r\n",
    "The table provides a breakdown of arrests, considering both demographic factors (sex and race) and geographical factors (average longitude and latitude).\r\n",
    "Potential Insights:\r\n",
    "\r\n",
    "Further analysis could involve visualizing these geospatial patterns on a map to identify clusters or trends in arrests for specific demographic groups.\r\n",
    "Keep in mind that these findings are based on the provided data, and the interpretation may vary based on the context and domain knowledge."
   ]
  },
  {
   "cell_type": "code",
   "execution_count": 18,
   "id": "d2ee2530-5811-4f0c-aec3-786f233806e6",
   "metadata": {},
   "outputs": [
    {
     "name": "stdout",
     "output_type": "stream",
     "text": [
      "This query performs geospatial analysis by providing the average longitude, latitude, and count for each combination of sex and race.\n",
      "+----------+------------------------------+------------------+------------------+------------+\n",
      "|sex       |race                          |avg_lng           |avg_lat           |arrest_count|\n",
      "+----------+------------------------------+------------------+------------------+------------+\n",
      "|M         |HISPANIC OR LATINO            |-97.7273832850429 |30.279256081847105|13613       |\n",
      "|M         |WHITE                         |-97.74493775481314|30.29065716087948 |9408        |\n",
      "|M         |BLACK                         |-97.71197087661501|30.298396768449294|7713        |\n",
      "|F         |WHITE                         |-97.74522617233025|30.28992490586679 |4176        |\n",
      "|F         |HISPANIC OR LATINO            |-97.72988592537952|30.27831969438188 |3599        |\n",
      "|F         |BLACK                         |-97.70977296369367|30.303622466972573|2192        |\n",
      "|M         |ASIAN                         |-97.7367060187993 |30.31101614870102 |321         |\n",
      "|M         |MIDDLE EASTERN                |-97.74031008013789|30.298389250695816|122         |\n",
      "|F         |ASIAN                         |-97.74107240323865|30.303717579309346|106         |\n",
      "|M         |UNKNOWN                       |-97.74044456716852|30.282798540669493|75          |\n",
      "|F         |UNKNOWN                       |-97.72811121872333|30.296929116896056|36          |\n",
      "|M         |HAWAIIAN/PACIFIC ISLANDER     |-97.7495433005999 |30.293528707278323|19          |\n",
      "|F         |MIDDLE EASTERN                |-97.73090477433641|30.255262377028338|16          |\n",
      "|M         |AMERICAN INDIAN/ALASKAN NATIVE|-97.73633799301159|30.256043943754275|15          |\n",
      "|F         |AMERICAN INDIAN/ALASKAN NATIVE|-97.73673838383823|30.28025855046849 |5           |\n",
      "|F         |HAWAIIAN/PACIFIC ISLANDER     |-97.76063646682447|30.24269101221226 |3           |\n",
      "|not_listed|not_listed                    |-97.74292142361024|30.271721201546   |3           |\n",
      "|U         |UNKNOWN                       |-97.68482200645616|30.22319873493584 |1           |\n",
      "+----------+------------------------------+------------------+------------------+------------+\n",
      "\n"
     ]
    }
   ],
   "source": [
    "result_geospatial_analysis = spark.sql(\"\"\"\n",
    "    SELECT\n",
    "        sex,\n",
    "        race,\n",
    "        AVG(lng) AS avg_lng,\n",
    "        AVG(lat) AS avg_lat,\n",
    "        COUNT(*) AS arrest_count\n",
    "    FROM\n",
    "        arrest_data\n",
    "    GROUP BY\n",
    "        sex, race\n",
    "    ORDER BY\n",
    "        arrest_count DESC\n",
    "\"\"\")\n",
    "print('This query performs geospatial analysis by providing the average longitude, latitude, and count for each combination of sex and race.')\n",
    "result_geospatial_analysis.show(truncate=False)"
   ]
  },
  {
   "cell_type": "markdown",
   "id": "031ad070-4c6a-4c1e-b667-fdcc0f03eeb3",
   "metadata": {},
   "source": [
    "#### 6. Searches Based On:"
   ]
  },
  {
   "cell_type": "markdown",
   "id": "017808d1-de16-4a2b-bc24-774db5bd1c03",
   "metadata": {},
   "source": [
    "#### Notes for findings and Visualiszations: \n",
    "\n",
    "Result Explanation:\r\n",
    "\r\n",
    "The result provides a tabular representation of the distribution of different reasons for conducting searches, broken down by gender, race, and search reason.\r\n",
    "Each row represents a unique combination of gender, race, and search reason, and the corresponding count of arrests for that combinatio\n",
    "ple Insiata):\r\n",
    "\r\n",
    "The table might show, for instance, that there are a certain number of arrests for searches conducted based on \"Probable Cause\" for Hispanic or Latino Males (sex=M, race=HISPANIC OR LATINO).\r\n",
    "Another row might indicate the count of arrests where searches were conducted based on \"Consent\" for White Females (sex=F, race=WHITE).\r\n",
    "This analysis allows for an understanding of how searches are distributed across different demographic groups and the reasons for conducting those searches within the dataset."
   ]
  },
  {
   "cell_type": "code",
   "execution_count": 19,
   "id": "002fc537-6b37-4aed-83a7-88a0d60c85ae",
   "metadata": {},
   "outputs": [
    {
     "name": "stdout",
     "output_type": "stream",
     "text": [
      "This query analyzes the distribution of different reasons for conducting searches, providing the count for each combination of sex, race, and search_based_on.\n",
      "+---+------------------+--------------------+------------+\n",
      "|sex|race              |search_based_on     |arrest_count|\n",
      "+---+------------------+--------------------+------------+\n",
      "|M  |HISPANIC OR LATINO|INCIDENTAL TO ARREST|8197        |\n",
      "|M  |WHITE             |INCIDENTAL TO ARREST|5754        |\n",
      "|M  |BLACK             |INCIDENTAL TO ARREST|3797        |\n",
      "|M  |HISPANIC OR LATINO|not_listed          |2747        |\n",
      "|F  |WHITE             |INCIDENTAL TO ARREST|2741        |\n",
      "|F  |HISPANIC OR LATINO|INCIDENTAL TO ARREST|2224        |\n",
      "|M  |WHITE             |not_listed          |2209        |\n",
      "|M  |HISPANIC OR LATINO|PROBABLE CAUSE      |2088        |\n",
      "|M  |BLACK             |PROBABLE CAUSE      |1951        |\n",
      "|M  |BLACK             |not_listed          |1608        |\n",
      "|F  |BLACK             |INCIDENTAL TO ARREST|1162        |\n",
      "|M  |WHITE             |PROBABLE CAUSE      |995         |\n",
      "|F  |WHITE             |not_listed          |878         |\n",
      "|F  |HISPANIC OR LATINO|not_listed          |807         |\n",
      "|F  |BLACK             |not_listed          |555         |\n",
      "|F  |HISPANIC OR LATINO|PROBABLE CAUSE      |428         |\n",
      "|F  |BLACK             |PROBABLE CAUSE      |384         |\n",
      "|F  |WHITE             |PROBABLE CAUSE      |370         |\n",
      "|M  |HISPANIC OR LATINO|FRISK FOR SAFETY    |291         |\n",
      "|M  |ASIAN             |INCIDENTAL TO ARREST|212         |\n",
      "+---+------------------+--------------------+------------+\n",
      "only showing top 20 rows\n",
      "\n"
     ]
    }
   ],
   "source": [
    "result_searches_based_on = spark.sql(\"\"\"\n",
    "    SELECT\n",
    "        sex,\n",
    "        race,\n",
    "        search_based_on,\n",
    "        COUNT(*) AS arrest_count\n",
    "    FROM\n",
    "        arrest_data\n",
    "    GROUP BY\n",
    "        sex, race, search_based_on\n",
    "    ORDER BY\n",
    "        arrest_count DESC\n",
    "\"\"\")\n",
    "print('This query analyzes the distribution of different reasons for conducting searches, providing the count for each combination of sex, race, and search_based_on.')\n",
    "result_searches_based_on.show(truncate=False)"
   ]
  },
  {
   "cell_type": "markdown",
   "id": "dce3a575-f1dd-4d91-a983-ea1569943528",
   "metadata": {},
   "source": [
    "#### 7. Demographic Analysis:"
   ]
  },
  {
   "cell_type": "markdown",
   "id": "651e9191-72aa-4892-821e-04971b6269fc",
   "metadata": {},
   "source": [
    "#### Notes for findings and Visualiszations: Observations:\r\n",
    "\r\n",
    "The table provides a detailed breakdown of arrests, allowing for an analysis of law enforcement interactions with individuals based on their gender and race.\r\n",
    "The counts represent the frequency of arrests for each demographic grou\n",
    "ple Insiata):\r\n",
    "\r\n",
    "Hispanic or Latino Males (sex=M, race=HISPANIC OR LATINO):\r\n",
    "Arrest Count: 13,613.\r\n",
    "White Females (sex=F, race=WHITE):\r\n",
    "Arrest Count: 4,176.\r\n",
    "Black Males (sex=M, race=BLACK):\r\n",
    "Arrest Count: 7,713.\r\n",
    "Considerations:\r\n",
    "\r\n",
    "Use this data for demographic profiling and understanding the distribution of arrests across different groups.\r\n",
    "Identify any disparities in arrest counts based on gender and race.\r\n",
    "This dataset can be a starting point for further analysis, such as examining arrest rates, trends over time, or geographic patterns.\r\n",
    "Limitations:\r\n",
    "\r\n",
    "The table provides a count of arrests but does not include additional contextual information.\r\n",
    "Demographic analysis should be approached with caution to avoid perpetuating stereotypes or biases."
   ]
  },
  {
   "cell_type": "code",
   "execution_count": 20,
   "id": "12cee207-654a-49b6-9f64-52fe48191aeb",
   "metadata": {},
   "outputs": [
    {
     "name": "stdout",
     "output_type": "stream",
     "text": [
      "This query performs demographic analysis by providing the count for each combination of sex and race.\n",
      "+----------+------------------------------+------------+\n",
      "|sex       |race                          |arrest_count|\n",
      "+----------+------------------------------+------------+\n",
      "|M         |HISPANIC OR LATINO            |13613       |\n",
      "|M         |WHITE                         |9408        |\n",
      "|M         |BLACK                         |7713        |\n",
      "|F         |WHITE                         |4176        |\n",
      "|F         |HISPANIC OR LATINO            |3599        |\n",
      "|F         |BLACK                         |2192        |\n",
      "|M         |ASIAN                         |321         |\n",
      "|M         |MIDDLE EASTERN                |122         |\n",
      "|F         |ASIAN                         |106         |\n",
      "|M         |UNKNOWN                       |75          |\n",
      "|F         |UNKNOWN                       |36          |\n",
      "|M         |HAWAIIAN/PACIFIC ISLANDER     |19          |\n",
      "|F         |MIDDLE EASTERN                |16          |\n",
      "|M         |AMERICAN INDIAN/ALASKAN NATIVE|15          |\n",
      "|F         |AMERICAN INDIAN/ALASKAN NATIVE|5           |\n",
      "|F         |HAWAIIAN/PACIFIC ISLANDER     |3           |\n",
      "|not_listed|not_listed                    |3           |\n",
      "|U         |UNKNOWN                       |1           |\n",
      "+----------+------------------------------+------------+\n",
      "\n"
     ]
    }
   ],
   "source": [
    "result_demographic_analysis = spark.sql(\"\"\"\n",
    "    SELECT\n",
    "        sex,\n",
    "        race,\n",
    "        COUNT(*) AS arrest_count\n",
    "    FROM\n",
    "        arrest_data\n",
    "    GROUP BY\n",
    "        sex, race\n",
    "    ORDER BY\n",
    "        arrest_count DESC\n",
    "\"\"\")\n",
    "print('This query performs demographic analysis by providing the count for each combination of sex and race.')\n",
    "result_demographic_analysis.show(truncate=False)\n"
   ]
  },
  {
   "cell_type": "markdown",
   "id": "a0cd41b9-8025-4396-a5d6-a55c008777b7",
   "metadata": {},
   "source": [
    "#### 8. Average Arrest Location"
   ]
  },
  {
   "cell_type": "markdown",
   "id": "8835e41f-45f2-44ef-b238-ff0bed1e70cf",
   "metadata": {},
   "source": [
    "#### Notes for findings and Visualiszations: \n",
    "Observations:\r\n",
    "Geographical Insights:\r\n",
    "\r\n",
    "The table allows you to compare the average arrest locations for different demographic groups.\r\n",
    "For example, Hispanic or Latino males (sex=M, race=HISPANIC OR LATINO) have an average arrest location with a longitude of approximately 7.40 and a latitude of approximately 85.78.\r\n",
    "Temporal Insights:\r\n",
    "\r\n",
    "The maximum and minimum arrest dates provide insights into the temporal distribution of arrests within each demographic group.\r\n",
    "For example, the data suggests that arrests for Hispanic or Latino males span from January 1, 2015, to December 31, 2020.\r\n",
    "Arrest Volumes:\r\n",
    "\r\n",
    "The total number of records indicates the arrest volume for each demographic group.\r\n",
    "For example, Hispanic or Latino males have the highest total arrest count, with approximately 13,\n",
    "\n",
    "Interpretation\n",
    "\n",
    "Hispanic or Latino Males (sex=M, race=HISPANIC OR LATINO):\r\n",
    "\r\n",
    "Average arrest location: Longitude 7.40, Latitude 85.78.\r\n",
    "Arrest date range: January 1, 2015, to December 31, 2020.\r\n",
    "Total arrest count: 13,613.\r\n",
    "White Females (sex=F, race=WHITE):\r\n",
    "\r\n",
    "Average arrest location: [Average values for longitude and latitude].\r\n",
    "Arrest date range: [Date range].\r\n",
    "Total arrest count: [Count].\r\n",
    "Considerations:\r\n",
    "Comparative Analysis:\r\n",
    "\r\n",
    "Use the table to compare arrest patterns between different demographic groups.\r\n",
    "Temporal Trends:\r\n",
    "\r\n",
    "Explore how arrest patterns have evolved over time within each demographic category.\r\n",
    "Geographical Disparities:\r\n",
    "\r\n",
    "Investigate if there are geographical disparities in arrests across different gender and race groups.\r\n",
    "Limitations:\r\n",
    "Geographical Precision:\r\n",
    "\r\n",
    "The average longitude and latitude represent central points and may not capture the full spatial variability within a demographic category.\r\n",
    "Temporal Resolution:\r\n",
    "\r\n",
    "The date range provides an overview but might not capture finer temporal details.\r\n",
    "This table serves as a valuable tool for understanding the spatial and temporal dimensions of arrests within different demographic groups, enabling further analysis and insights into law enforcement activities.\r\n",
    "\r\n",
    "\r\n",
    "\r\n",
    "\r\n",
    "\r\n",
    "613 records."
   ]
  },
  {
   "cell_type": "code",
   "execution_count": 21,
   "id": "71a6cd40-4841-4067-bc84-f0298f8caecc",
   "metadata": {},
   "outputs": [
    {
     "name": "stdout",
     "output_type": "stream",
     "text": [
      "The table allows us to compare and contrast different demographic groups based on their average geographical location, arrest date ranges, and arrest volumes.\n",
      "+------------------+------------------+---------------+---------------+-------------+\n",
      "|           avg_lng|           avg_lat|max_arrest_date|min_arrest_date|total_records|\n",
      "+------------------+------------------+---------------+---------------+-------------+\n",
      "|-97.73673838383823| 30.28025855046849|     2019-03-03|     2015-08-09|            5|\n",
      "|-97.74107240323865|30.303717579309346|     2020-11-23|     2015-01-06|          106|\n",
      "|-97.70977296369367|30.303622466972573|     2020-12-30|     2015-01-02|         2192|\n",
      "|-97.76063646682447| 30.24269101221226|     2018-10-27|     2016-11-04|            3|\n",
      "|-97.72988592537952| 30.27831969438188|     2020-12-27|     2015-01-03|         3599|\n",
      "|-97.73090477433641|30.255262377028338|     2020-07-10|     2015-05-15|           16|\n",
      "|-97.72811121872333|30.296929116896056|     2019-10-04|     2015-01-26|           36|\n",
      "|-97.74522617233025| 30.28992490586679|     2020-12-31|     2015-01-01|         4176|\n",
      "|-97.73633799301159|30.256043943754275|     2020-12-06|     2015-06-27|           15|\n",
      "| -97.7367060187993| 30.31101614870102|     2020-12-23|     2015-01-01|          321|\n",
      "|-97.71197087661501|30.298396768449294|     2020-12-31|     2015-01-01|         7713|\n",
      "| -97.7495433005999|30.293528707278323|     2020-11-01|     2015-11-10|           19|\n",
      "| -97.7273832850429|30.279256081847105|     2020-12-31|     2015-01-01|        13613|\n",
      "|-97.74031008013789|30.298389250695816|     2020-10-13|     2015-01-04|          122|\n",
      "|-97.74044456716852|30.282798540669493|     2019-05-20|     2015-01-26|           75|\n",
      "|-97.74493775481314| 30.29065716087948|     2020-12-31|     2015-01-01|         9408|\n",
      "|-97.68482200645616| 30.22319873493584|     2018-03-18|     2018-03-18|            1|\n",
      "|-97.74292142361024|   30.271721201546|     2019-08-28|     2018-12-18|            3|\n",
      "+------------------+------------------+---------------+---------------+-------------+\n",
      "\n"
     ]
    }
   ],
   "source": [
    "\n",
    "# Run SQL queries on the DataFrame\n",
    "result = spark.sql(\"\"\"\n",
    "    SELECT\n",
    "        AVG(lng) AS avg_lng,\n",
    "        AVG(lat) AS avg_lat,\n",
    "        MAX(arrest_date) AS max_arrest_date,\n",
    "        MIN(arrest_date) AS min_arrest_date,\n",
    "        COUNT(*) AS total_records\n",
    "    FROM\n",
    "        arrest_data\n",
    "    GROUP BY\n",
    "        sex, race\n",
    "\"\"\")\n",
    "print('The table allows us to compare and contrast different demographic groups based on their average geographical location, arrest date ranges, and arrest volumes.')\n",
    "# Show the result\n",
    "result.show()"
   ]
  },
  {
   "cell_type": "markdown",
   "id": "e532ee13-da5e-40b9-993f-78b127565f78",
   "metadata": {},
   "source": [
    "### 9. Geographical Distribution "
   ]
  },
  {
   "cell_type": "markdown",
   "id": "6944ce49-2b7b-4ece-9562-6ea9121538d6",
   "metadata": {},
   "source": [
    "#### Notes for findings and Visualiszations: \n",
    "\n",
    "\n",
    "Key Insights:\r\n",
    "Location Information:\r\n",
    "\r\n",
    "The table includes the average longitude and latitude values for each gender and racial or ethnic category, providing an indication of the central location associated with arrests.\r\n",
    "Arrest Counts (arrest_count):\r\n",
    "\r\n",
    "Indicates the total number of arrests for each combination of gender and race.\r\n",
    "The table is ordered by the arrest count in descending order.\r\n",
    "Observations:\r\n",
    "Dominant Contributors to Arrests:\r\n",
    "\r\n",
    "The table shows which gender and racial or ethnic categories contribute the most to the total arrest count.\r\n",
    "In this example, Hispanic or Latino males have the highest average arrest count, followed by white males and black males.\r\n",
    "Geographical Context:\r\n",
    "\r\n",
    "The average longitude and latitude values provide an approximate central location associated with arrests for each demogr\n",
    "aInterpretation \n",
    "Hispanic or Latino Males (sex=M, race=HISPANIC OR LATINO):\r\n",
    "\r\n",
    "Highest average arrest count.\r\n",
    "Associated with a specific geographical location, characterized by an average longitude of approximately 7.40 and an average latitude of approximately 85.78.\r\n",
    "White Males (sex=M, race=WHITE):\r\n",
    "\r\n",
    "Second-highest average arrest count.\r\n",
    "Associated with a different geographical location, characterized by an average longitude of approximately 7.41 and an average latitude of approximately 85.80.\r\n",
    "Black Males (sex=M, race=BLACK):\r\n",
    "\r\n",
    "Third-highest average arrest count.\r\n",
    "Associated with another geographical location, characterized by an average longitude of approximately 7.77 and an average latitude of approximately 85.78.\r\n",
    "Considerations:\r\n",
    "Spatial Distribution:\r\n",
    "\r\n",
    "The table allows for an exploration of the spatial distribution of arrests, highlighting areas where certain demographic groups are more frequently arrested.\r\n",
    "Potential Hotspots:\r\n",
    "\r\n",
    "Areas with higher average arrest counts may indicate potential hotspots for law enforcement activities related to specific demographic categories.\r\n",
    "Limitations:\r\n",
    "Geographical Precision:\r\n",
    "\r\n",
    "The provided averages represent central points and might not accurately capture the spatial variability within a demographic category.\r\n",
    "Context and External Factors:\r\n",
    "\r\n",
    "The analysis is based solely on arrest counts and geographical averages, and external factors influencing arrest locations are not considered here.\r\n",
    "This table serves as a tool for understanding the geographical distribution of arrests across different demographic categories, offering insights into potential patterns and disparities in law enforcement activities.ic category.\r\n",
    "Ex"
   ]
  },
  {
   "cell_type": "code",
   "execution_count": 22,
   "id": "e45e8345-e008-4f78-994b-52d91d03b9cc",
   "metadata": {},
   "outputs": [
    {
     "name": "stdout",
     "output_type": "stream",
     "text": [
      "+----------+--------------------+------------------+------------------+------------+\n",
      "|       sex|                race|           avg_lng|           avg_lat|arrest_count|\n",
      "+----------+--------------------+------------------+------------------+------------+\n",
      "|         M|  HISPANIC OR LATINO| -97.7273832850429|30.279256081847105|       13613|\n",
      "|         M|               WHITE|-97.74493775481314| 30.29065716087948|        9408|\n",
      "|         M|               BLACK|-97.71197087661501|30.298396768449294|        7713|\n",
      "|         F|               WHITE|-97.74522617233025| 30.28992490586679|        4176|\n",
      "|         F|  HISPANIC OR LATINO|-97.72988592537952| 30.27831969438188|        3599|\n",
      "|         F|               BLACK|-97.70977296369367|30.303622466972573|        2192|\n",
      "|         M|               ASIAN| -97.7367060187993| 30.31101614870102|         321|\n",
      "|         M|      MIDDLE EASTERN|-97.74031008013789|30.298389250695816|         122|\n",
      "|         F|               ASIAN|-97.74107240323865|30.303717579309346|         106|\n",
      "|         M|             UNKNOWN|-97.74044456716852|30.282798540669493|          75|\n",
      "|         F|             UNKNOWN|-97.72811121872333|30.296929116896056|          36|\n",
      "|         M|HAWAIIAN/PACIFIC ...| -97.7495433005999|30.293528707278323|          19|\n",
      "|         F|      MIDDLE EASTERN|-97.73090477433641|30.255262377028338|          16|\n",
      "|         M|AMERICAN INDIAN/A...|-97.73633799301159|30.256043943754275|          15|\n",
      "|         F|AMERICAN INDIAN/A...|-97.73673838383823| 30.28025855046849|           5|\n",
      "|         F|HAWAIIAN/PACIFIC ...|-97.76063646682447| 30.24269101221226|           3|\n",
      "|not_listed|          not_listed|-97.74292142361024|   30.271721201546|           3|\n",
      "|         U|             UNKNOWN|-97.68482200645616| 30.22319873493584|           1|\n",
      "+----------+--------------------+------------------+------------------+------------+\n",
      "\n"
     ]
    }
   ],
   "source": [
    "result_location = spark.sql(\"\"\"\n",
    "    SELECT\n",
    "        sex,\n",
    "        race,\n",
    "        AVG(lng) AS avg_lng,\n",
    "        AVG(lat) AS avg_lat,\n",
    "        COUNT(*) AS arrest_count\n",
    "    FROM\n",
    "        arrest_data\n",
    "    GROUP BY\n",
    "        sex, race\n",
    "    ORDER BY\n",
    "        arrest_count DESC\n",
    "\"\"\")\n",
    "\n",
    "result_location.show()"
   ]
  },
  {
   "cell_type": "markdown",
   "id": "a225956e-dfd6-496a-b5c2-eb985aa03643",
   "metadata": {},
   "source": [
    "### 10. highlighting the count and percentage of arrests based on 'sex' and 'race'"
   ]
  },
  {
   "cell_type": "markdown",
   "id": "4277bccd-8114-42e2-b625-91f3a3fb38b9",
   "metadata": {},
   "source": [
    "#### Notes for findings and Visualiszations: \n",
    "Hispanic or Latino Males:\r\n",
    "\r\n",
    "Males of Hispanic or Latino ethnicity contribute the highest percentage (32.86%) to the total arrest count, indicating a significant presence in the dataset.\r\n",
    "White and Black Males:\r\n",
    "\r\n",
    "White males (22.71%) and black males (18.62%) are the next two significant contributors to the total arrest count.\r\n",
    "Gender Disparities:\r\n",
    "\r\n",
    "The table provides insights into potential gender disparities in arrests, with a breakdown of contributions from both males and females.\r\n",
    "Considerations:\r\n",
    "Limitations:\r\n",
    "\r\n",
    "The analysis is based on the available data and may not capture the entire context of arrests. Further exploration and context-specific knowledge may be needed.\r\n",
    "Policy and Social Implications:\r\n",
    "\r\n",
    "Discussions around the percentages can lead to considerations of policy implications and potential areas for further examination of law enforcement practices.\r\n",
    "This table serves as a summary of the distribution of arrests across different demographic categories, offering insights into the relative contributions of each group to the overall arrest count."
   ]
  },
  {
   "cell_type": "code",
   "execution_count": 23,
   "id": "32a15ae2-18af-4554-a9bd-a508a1f5e0f1",
   "metadata": {},
   "outputs": [
    {
     "name": "stdout",
     "output_type": "stream",
     "text": [
      "+----------+--------------------+------------+--------------------+\n",
      "|       sex|                race|arrest_count|   arrest_percentage|\n",
      "+----------+--------------------+------------+--------------------+\n",
      "|         M|  HISPANIC OR LATINO|       13613|     32.863385075924|\n",
      "|         M|               WHITE|        9408|   22.71201989233035|\n",
      "|         M|               BLACK|        7713|   18.62009028800425|\n",
      "|         F|               WHITE|        4176|  10.081355768534388|\n",
      "|         F|  HISPANIC OR LATINO|        3599|   8.688409820631051|\n",
      "|         F|               BLACK|        2192|   5.291746131376288|\n",
      "|         M|               ASIAN|         321|  0.7749318011732612|\n",
      "|         M|      MIDDLE EASTERN|         122|  0.2945223668010526|\n",
      "|         F|               ASIAN|         106| 0.25589648263042275|\n",
      "|         M|             UNKNOWN|          75|  0.1810588320498274|\n",
      "|         F|             UNKNOWN|          36| 0.08690823938391715|\n",
      "|         M|HAWAIIAN/PACIFIC ...|          19| 0.04586823745262294|\n",
      "|         F|      MIDDLE EASTERN|          16| 0.03862588417062984|\n",
      "|         M|AMERICAN INDIAN/A...|          15| 0.03621176640996548|\n",
      "|         F|AMERICAN INDIAN/A...|           5|0.012070588803321826|\n",
      "|         F|HAWAIIAN/PACIFIC ...|           3|0.007242353281993...|\n",
      "|not_listed|          not_listed|           3|0.007242353281993...|\n",
      "|         U|             UNKNOWN|           1|0.002414117760664365|\n",
      "+----------+--------------------+------------+--------------------+\n",
      "\n"
     ]
    }
   ],
   "source": [
    "result_with_percentages = spark.sql(\"\"\"\n",
    "    SELECT\n",
    "        sex,\n",
    "        race,\n",
    "        COUNT(*) AS arrest_count,\n",
    "        (COUNT(*) / SUM(COUNT(*)) OVER ()) * 100 AS arrest_percentage\n",
    "    FROM\n",
    "        arrest_data\n",
    "    GROUP BY\n",
    "        sex, race\n",
    "    ORDER BY\n",
    "        arrest_count DESC\n",
    "\"\"\")\n",
    "\n",
    "result_with_percentages.show()"
   ]
  },
  {
   "cell_type": "markdown",
   "id": "171144a7-260d-4042-b21e-085cda8b256b",
   "metadata": {},
   "source": [
    "#### 11. Percentage by year"
   ]
  },
  {
   "cell_type": "markdown",
   "id": "b4bb4a5b-d734-48d0-984d-99e4a81b3baf",
   "metadata": {},
   "source": [
    "#### Notes for findings and Visualiszations: \n",
    "\n",
    "This table serves as a valuable tool for understanding how arrests are distributed across gender and racial or ethnic categories over multiple years, offering insights into potential trends or shifts in law enforcement practices.\n",
    "\n",
    "\n",
    "Yearly Distribution:\r\n",
    "\r\n",
    "The table is segmented by arrest year, providing insights into changes in arrest patterns over time.\r\n",
    "Dominant Contributors Each Year:\r\n",
    "\r\n",
    "For each year, the table shows which gender and racial or ethnic categories contribute the most to the total arrest c\n",
    "\n",
    "##### Considerations:\n",
    "Yearly Trends:\r\n",
    "\r\n",
    "The table facilitates the examination of trends in arrests over time, providing insights into whether certain demographic categories consistently contribute more to arrests or if there are variations.\r\n",
    "Potential Changes in Enforcement:\r\n",
    "\r\n",
    "Substantial changes in percentages from one year to the next might indicate shifts in law enforcement priorities, policies, or practices.\r\n",
    "Intersectionality:\r\n",
    "\r\n",
    "The intersection of gender and race allows for a nuanced understanding of arrest patterns, considering the unique experiences of different demographic groups.ount."
   ]
  },
  {
   "cell_type": "code",
   "execution_count": 24,
   "id": "554a1b25-0a0a-42e3-a0b0-534ac91657af",
   "metadata": {
    "scrolled": true
   },
   "outputs": [
    {
     "name": "stdout",
     "output_type": "stream",
     "text": [
      "+---+------------------------------+-----------+------------+-------------------+\n",
      "|sex|race                          |arrest_year|arrest_count|arrest_percentage  |\n",
      "+---+------------------------------+-----------+------------+-------------------+\n",
      "|M  |HISPANIC OR LATINO            |2015       |3011        |32.69627538277772  |\n",
      "|M  |WHITE                         |2015       |2257        |24.50863285915952  |\n",
      "|M  |BLACK                         |2015       |1705        |18.514496688022586 |\n",
      "|F  |WHITE                         |2015       |890         |9.6644586817244    |\n",
      "|F  |HISPANIC OR LATINO            |2015       |724         |7.861874253447715  |\n",
      "|F  |BLACK                         |2015       |459         |4.984254533608427  |\n",
      "|M  |ASIAN                         |2015       |75          |0.8144206754262134 |\n",
      "|M  |MIDDLE EASTERN                |2015       |26          |0.2823325008144207 |\n",
      "|F  |ASIAN                         |2015       |24          |0.2606146161363883 |\n",
      "|M  |UNKNOWN                       |2015       |24          |0.2606146161363883 |\n",
      "|F  |UNKNOWN                       |2015       |5           |0.0542947116950809 |\n",
      "|M  |AMERICAN INDIAN/ALASKAN NATIVE|2015       |4           |0.04343576935606472|\n",
      "|F  |MIDDLE EASTERN                |2015       |2           |0.02171788467803236|\n",
      "|M  |HAWAIIAN/PACIFIC ISLANDER     |2015       |2           |0.02171788467803236|\n",
      "|F  |AMERICAN INDIAN/ALASKAN NATIVE|2015       |1           |0.01085894233901618|\n",
      "|M  |HISPANIC OR LATINO            |2016       |2703        |29.431620209059233 |\n",
      "|M  |WHITE                         |2016       |2372        |25.827526132404184 |\n",
      "|M  |BLACK                         |2016       |1673        |18.216463414634145 |\n",
      "|F  |WHITE                         |2016       |1045        |11.378484320557492 |\n",
      "|F  |HISPANIC OR LATINO            |2016       |732         |7.970383275261324  |\n",
      "+---+------------------------------+-----------+------------+-------------------+\n",
      "only showing top 20 rows\n",
      "\n"
     ]
    }
   ],
   "source": [
    "result_by_year = spark.sql(\"\"\"\n",
    "    SELECT\n",
    "        sex,\n",
    "        race,\n",
    "        YEAR(arrest_date) AS arrest_year,\n",
    "        COUNT(*) AS arrest_count,\n",
    "        (COUNT(*) / SUM(COUNT(*)) OVER (PARTITION BY YEAR(arrest_date))) * 100 AS arrest_percentage\n",
    "    FROM\n",
    "        arrest_data\n",
    "    GROUP BY\n",
    "        sex, race, arrest_year\n",
    "    ORDER BY\n",
    "        arrest_year, arrest_count DESC\n",
    "\"\"\")\n",
    "\n",
    "result_by_year.show(truncate=False)"
   ]
  },
  {
   "cell_type": "code",
   "execution_count": null,
   "id": "a02a9c8e-dcb1-4fe7-9f0a-283e34fbb0db",
   "metadata": {},
   "outputs": [],
   "source": []
  },
  {
   "cell_type": "code",
   "execution_count": 25,
   "id": "8db45024-a889-4ba4-a724-e09854e27436",
   "metadata": {},
   "outputs": [],
   "source": [
    "# Convert Spark DataFrame to Pandas DataFrame\n",
    "pandas_df = spark_df.toPandas()\n",
    "\n",
    "# Save Pandas DataFrame as JSON file\n",
    "pandas_df.to_json('austinArrests.json', orient='records', lines=True)\n"
   ]
  },
  {
   "cell_type": "code",
   "execution_count": null,
   "id": "681f2772-1a6e-4942-acbe-9f5a66fec780",
   "metadata": {},
   "outputs": [],
   "source": []
  }
 ],
 "metadata": {
  "kernelspec": {
   "display_name": "Python 3 (ipykernel)",
   "language": "python",
   "name": "python3"
  },
  "language_info": {
   "codemirror_mode": {
    "name": "ipython",
    "version": 3
   },
   "file_extension": ".py",
   "mimetype": "text/x-python",
   "name": "python",
   "nbconvert_exporter": "python",
   "pygments_lexer": "ipython3",
   "version": "3.10.13"
  }
 },
 "nbformat": 4,
 "nbformat_minor": 5
}
