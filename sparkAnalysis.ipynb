{
 "cells": [
  {
   "cell_type": "code",
   "execution_count": 13,
   "id": "15a9e5db-3077-4f4a-b654-1262aaacb181",
   "metadata": {},
   "outputs": [],
   "source": [
    "# Import findspark and initialize. \n",
    "import pandas as pd\n",
    "import findspark\n",
    "findspark.init()"
   ]
  },
  {
   "cell_type": "code",
   "execution_count": 14,
   "id": "8591795a-ae64-4c6b-a62b-a72e7e40fb16",
   "metadata": {},
   "outputs": [],
   "source": [
    "# Import findspark and initialize. \n",
    "import pandas as pd\n",
    "import findspark\n",
    "findspark.init()"
   ]
  },
  {
   "cell_type": "code",
   "execution_count": 15,
   "id": "86ad6082-7419-48c3-af9e-7ed4a9d396fc",
   "metadata": {},
   "outputs": [],
   "source": [
    "# Import packages\n",
    "from pyspark.sql import SparkSession\n",
    "from pyspark.sql import Row\n",
    "from pyspark.sql.types import StructType,StructField,StringType, DateType,IntegerType\n",
    "\n"
   ]
  },
  {
   "cell_type": "code",
   "execution_count": 16,
   "id": "3d257f1a-5658-4b4d-b91b-32f94447866a",
   "metadata": {},
   "outputs": [],
   "source": [
    "# Spark Analysis"
   ]
  },
  {
   "cell_type": "code",
   "execution_count": 17,
   "id": "cb5f6464-6f07-4a58-99f6-a4a261d3770f",
   "metadata": {
    "scrolled": true
   },
   "outputs": [
    {
     "name": "stderr",
     "output_type": "stream",
     "text": [
      "C:\\Spark\\Spark3\\python\\pyspark\\sql\\pandas\\conversion.py:485: FutureWarning: is_datetime64tz_dtype is deprecated and will be removed in a future version. Check `isinstance(dtype, pd.DatetimeTZDtype)` instead.\n",
      "  if should_localize and is_datetime64tz_dtype(s.dtype) and s.dt.tz is not None:\n"
     ]
    },
    {
     "name": "stdout",
     "output_type": "stream",
     "text": [
      "+-----------+-------------------+---+------------------+--------+--------------------+--------------------+------------+--------------------+------------------+------------------+\n",
      "|arrest_date|        arrest_time|sex|              race|searched|      reason_stopped|     search_based_on|search_found|          race_known|               lng|               lat|\n",
      "+-----------+-------------------+---+------------------+--------+--------------------+--------------------+------------+--------------------+------------------+------------------+\n",
      "| 2015-01-01|2015-01-01 00:02:00|  M|HISPANIC OR LATINO| YES = 1|    CALL FOR SERVICE|INCIDENTAL TO ARREST|     NOTHING|NO - RACE OR ETHN...|-97.73419151256908| 30.26646917024065|\n",
      "| 2015-01-01|2015-01-01 03:17:00|  M|             WHITE| YES = 1|VIOLATION OF TRAN...|INCIDENTAL TO ARREST|       DRUGS|NO - RACE OR ETHN...| -97.7776889200335|30.227662552230814|\n",
      "| 2015-01-01|2015-01-01 03:17:00|  F|             WHITE| YES = 1|VIOLATION OF TRAN...|INCIDENTAL TO ARREST|       DRUGS|NO - RACE OR ETHN...| -97.7776889200335|30.227662552230814|\n",
      "| 2015-01-01|2015-01-01 04:26:00|  M|             WHITE| YES = 1|VIOLATION OF TRAN...|INCIDENTAL TO ARREST|     NOTHING|NO - RACE OR ETHN...|-97.76017254544549|30.274213186235304|\n",
      "| 2015-01-01|2015-01-01 01:06:00|  F|             WHITE| YES = 1|  CONSENSUAL CONTACT|INCIDENTAL TO ARREST|       OTHER|NO - RACE OR ETHN...|-97.73972017814472| 30.26624565910905|\n",
      "+-----------+-------------------+---+------------------+--------+--------------------+--------------------+------------+--------------------+------------------+------------------+\n",
      "only showing top 5 rows\n",
      "\n"
     ]
    }
   ],
   "source": [
    "# Import our input dataset\n",
    "df = pd.read_csv('https://profilingbucket.s3.us-east-2.amazonaws.com/combined_data.csv')\n",
    "\n",
    "profiling_arrest_analysis = pd.DataFrame(df)\n",
    "\n",
    "spark = SparkSession.builder.appName(\"pandasToSpark\").getOrCreate()\n",
    "\n",
    "# Convert Pandas DataFrame to Spark DataFrame\n",
    "spark_df = spark.createDataFrame(profiling_arrest_analysis)\n",
    "\n",
    "# Show the Spark DataFrame\n",
    "spark_df.show(5)"
   ]
  },
  {
   "cell_type": "code",
   "execution_count": 18,
   "id": "3dfb675c-42d9-4ab8-9861-6541f3f8c1d5",
   "metadata": {},
   "outputs": [
    {
     "name": "stdout",
     "output_type": "stream",
     "text": [
      "+-----------+-------------------+---+------------------+--------+--------------------+--------------------+------------+--------------------+------------------+------------------+--------------+\n",
      "|arrest_date|        arrest_time|sex|              race|searched|      reason_stopped|     search_based_on|search_found|          race_known|               lng|               lat|search_grouped|\n",
      "+-----------+-------------------+---+------------------+--------+--------------------+--------------------+------------+--------------------+------------------+------------------+--------------+\n",
      "| 2015-01-01|2015-01-01 00:02:00|  M|HISPANIC OR LATINO| YES = 1|    CALL FOR SERVICE|INCIDENTAL TO ARREST|     NOTHING|NO - RACE OR ETHN...|-97.73419151256908| 30.26646917024065|           Yes|\n",
      "| 2015-01-01|2015-01-01 03:17:00|  M|             WHITE| YES = 1|VIOLATION OF TRAN...|INCIDENTAL TO ARREST|       DRUGS|NO - RACE OR ETHN...| -97.7776889200335|30.227662552230814|           Yes|\n",
      "| 2015-01-01|2015-01-01 03:17:00|  F|             WHITE| YES = 1|VIOLATION OF TRAN...|INCIDENTAL TO ARREST|       DRUGS|NO - RACE OR ETHN...| -97.7776889200335|30.227662552230814|           Yes|\n",
      "| 2015-01-01|2015-01-01 04:26:00|  M|             WHITE| YES = 1|VIOLATION OF TRAN...|INCIDENTAL TO ARREST|     NOTHING|NO - RACE OR ETHN...|-97.76017254544549|30.274213186235304|           Yes|\n",
      "| 2015-01-01|2015-01-01 01:06:00|  F|             WHITE| YES = 1|  CONSENSUAL CONTACT|INCIDENTAL TO ARREST|       OTHER|NO - RACE OR ETHN...|-97.73972017814472| 30.26624565910905|           Yes|\n",
      "| 2015-01-01|2015-01-01 05:26:00|  M|             ASIAN| YES = 1|VIOLATION OF TRAN...|INCIDENTAL TO ARREST|     NOTHING|NO - RACE OR ETHN...| -97.6791670602334|30.401785192691268|           Yes|\n",
      "| 2015-01-01|2015-01-01 02:01:00|  M|HISPANIC OR LATINO| YES = 1|VIOLATION OF TRAN...|INCIDENTAL TO ARREST|       OTHER|NO - RACE OR ETHN...|-97.75307172879292|30.335375521853145|           Yes|\n",
      "| 2015-01-01|2015-01-01 17:45:00|  M|             WHITE| YES = 1|VIOLATION OF TRAN...|INCIDENTAL TO ARREST|     ALCOHOL|NO - RACE OR ETHN...|-97.74095863682466|30.266851044357036|           Yes|\n",
      "| 2015-01-01|2015-01-01 02:21:00|  M|HISPANIC OR LATINO| YES = 1|VIOLATION OF TRAN...|INCIDENTAL TO ARREST|     NOTHING|NO - RACE OR ETHN...|-97.77790700003337| 30.17884069443365|           Yes|\n",
      "| 2015-01-01|2015-01-01 02:29:00|  M|HISPANIC OR LATINO| YES = 1|VIOLATION OF TRAN...|INCIDENTAL TO ARREST|        CASH|NO - RACE OR ETHN...| -97.7353957796524|30.249504718721624|           Yes|\n",
      "| 2015-01-01|2015-01-01 02:36:00|  M|HISPANIC OR LATINO| YES = 1|VIOLATION OF TRAN...|INCIDENTAL TO ARREST|     NOTHING|NO - RACE OR ETHN...|-97.70915241584488| 30.35081039588541|           Yes|\n",
      "| 2015-01-01|2015-01-01 04:57:00|  M|             WHITE| YES = 1|    CALL FOR SERVICE|    FRISK FOR SAFETY|     NOTHING|NO - RACE OR ETHN...|-97.73089627666798| 30.35615463773204|           Yes|\n",
      "| 2015-01-01|2015-01-01 11:18:00|  F|             WHITE| YES = 1|PRE-EXISTING KNOW...|INCIDENTAL TO ARREST|       OTHER|NO - RACE OR ETHN...|-97.74724197906022|30.239755188862585|           Yes|\n",
      "| 2015-01-01|2015-01-01 17:37:00|  M|HISPANIC OR LATINO| YES = 1|VIOLATION OF TRAN...|      PROBABLE CAUSE|     NOTHING|NO - RACE OR ETHN...|-97.71784331322992|30.274261052830173|           Yes|\n",
      "| 2015-01-01|2015-01-01 19:45:00|  M|             BLACK| YES = 1|VIOLATION OF TRAN...|INCIDENTAL TO ARREST|     NOTHING|NO - RACE OR ETHN...|-97.68388924851416| 30.30257726040083|           Yes|\n",
      "| 2015-01-01|2015-01-01 23:18:00|  M|HISPANIC OR LATINO| YES = 1|VIOLATION OF TRAN...|INCIDENTAL TO ARREST|     NOTHING|NO - RACE OR ETHN...|-97.77675458019642| 30.18159824055112|           Yes|\n",
      "| 2015-01-01|2015-01-01 23:18:00|  M|HISPANIC OR LATINO| YES = 1|VIOLATION OF TRAN...|INCIDENTAL TO ARREST|     NOTHING|NO - RACE OR ETHN...|-97.77675458019642| 30.18159824055112|           Yes|\n",
      "| 2015-01-01|2015-01-01 20:11:00|  M|HISPANIC OR LATINO| YES = 1|VIOLATION OF TRAN...|INCIDENTAL TO ARREST|     NOTHING|NO - RACE OR ETHN...|-97.68083086085416| 30.32908823367259|           Yes|\n",
      "| 2015-01-01|2015-01-01 20:54:00|  M|HISPANIC OR LATINO| YES = 1|VIOLATION OF TRAN...|INCIDENTAL TO ARREST|     WEAPONS|NO - RACE OR ETHN...|-97.77675458019642| 30.18159824055112|           Yes|\n",
      "| 2015-01-01|2015-01-01 23:32:00|  M|             BLACK| YES = 1|VIOLATION OF TRAN...|INCIDENTAL TO ARREST|     NOTHING|NO - RACE OR ETHN...|-97.69723807078236| 30.34221863553526|           Yes|\n",
      "+-----------+-------------------+---+------------------+--------+--------------------+--------------------+------------+--------------------+------------------+------------------+--------------+\n",
      "only showing top 20 rows\n",
      "\n"
     ]
    }
   ],
   "source": [
    "from pyspark.sql import SparkSession\n",
    "from pyspark.sql.functions import when\n",
    "\n",
    "# Create a Spark session\n",
    "spark = SparkSession.builder.appName(\"GroupSearch\").getOrCreate()\n",
    "\n",
    "# Your DataFrame\n",
    "# Replace this with your actual DataFrame\n",
    "# Assuming your DataFrame is named 'df'\n",
    "# df = ...\n",
    "\n",
    "# Use the 'when' function to create a new column 'search_grouped'\n",
    "df = spark_df.withColumn(\n",
    "    \"search_grouped\",\n",
    "    when((spark_df[\"searched\"] == \"YES\") | (spark_df[\"searched\"] == \"YES = 1\"), \"Yes\").otherwise(\"No\")\n",
    ")\n",
    "\n",
    "# Show the updated DataFrame\n",
    "df.show()\n"
   ]
  },
  {
   "cell_type": "code",
   "execution_count": 19,
   "id": "c111ad3a-1c50-42fd-b9b3-3b15c75dcdcb",
   "metadata": {},
   "outputs": [],
   "source": [
    "# Register the Spark DataFrame as a temporary table\n",
    "spark_df.createOrReplaceTempView(\"arrest_data\")"
   ]
  },
  {
   "cell_type": "code",
   "execution_count": 20,
   "id": "24638d5f-d8b8-4704-a19e-d6582903d584",
   "metadata": {},
   "outputs": [
    {
     "name": "stdout",
     "output_type": "stream",
     "text": [
      "+--------------------+------------+--------------------+\n",
      "|                race|arrest_count|         arrest_rate|\n",
      "+--------------------+------------+--------------------+\n",
      "|               WHITE|       13584|  0.3279337566086474|\n",
      "|               BLACK|        9905| 0.23911836419380536|\n",
      "|AMERICAN INDIAN/A...|          20|4.828235521328730...|\n",
      "|  HISPANIC OR LATINO|       17212| 0.41551794896555055|\n",
      "|             UNKNOWN|         112|0.002703811891944089|\n",
      "|      MIDDLE EASTERN|         138|0.003331482509716824|\n",
      "|HAWAIIAN/PACIFIC ...|          22|5.311059073461604E-4|\n",
      "|               ASIAN|         427| 0.01030828283803684|\n",
      "|          not_listed|           3|7.242353281993095E-5|\n",
      "+--------------------+------------+--------------------+\n",
      "\n"
     ]
    }
   ],
   "source": [
    "# Group by race and calculate the count of arrests for each race\n",
    "arrests_by_race = df.groupBy(\"race\").agg(count(\"race\").alias(\"arrest_count\"))\n",
    "\n",
    "# Calculate the total number of arrests\n",
    "total_arrests = df.count()\n",
    "\n",
    "# Calculate the arrest rate by dividing the arrest count for each race by the total arrests\n",
    "arrests_by_race = arrests_by_race.withColumn(\"arrest_rate\", arrests_by_race[\"arrest_count\"] / total_arrests)\n",
    "\n",
    "# Show the result\n",
    "arrests_by_race.show()"
   ]
  },
  {
   "cell_type": "code",
   "execution_count": 31,
   "id": "35302093-2584-4be6-adab-44616381f566",
   "metadata": {},
   "outputs": [
    {
     "name": "stdout",
     "output_type": "stream",
     "text": [
      "+----+--------------------+------------+------------------+--------------------+\n",
      "|year|                race|arrest_count|total_arrests_year|         arrest_rate|\n",
      "+----+--------------------+------------+------------------+--------------------+\n",
      "|2015|  HISPANIC OR LATINO|        3735|              9209|  0.4055814963622543|\n",
      "|2015|               ASIAN|          99|              9209|0.010750352915626017|\n",
      "|2015|AMERICAN INDIAN/A...|           5|              9209| 5.42947116950809E-4|\n",
      "|2015|HAWAIIAN/PACIFIC ...|           2|              9209|2.171788467803236E-4|\n",
      "|2015|      MIDDLE EASTERN|          28|              9209|0.003040503854924...|\n",
      "|2015|               WHITE|        3147|              9209| 0.34173091540883915|\n",
      "|2015|               BLACK|        2164|              9209| 0.23498751221631012|\n",
      "|2015|             UNKNOWN|          29|              9209|0.003149093278314692|\n",
      "|2016|AMERICAN INDIAN/A...|           5|              9184|5.444250871080139E-4|\n",
      "|2016|               BLACK|        2152|              9184|  0.2343205574912892|\n",
      "|2016|               ASIAN|          93|              9184| 0.01012630662020906|\n",
      "|2016|      MIDDLE EASTERN|          35|              9184|0.003810975609756...|\n",
      "|2016|  HISPANIC OR LATINO|        3435|              9184| 0.37402003484320556|\n",
      "|2016|             UNKNOWN|          42|              9184|0.004573170731707317|\n",
      "|2016|HAWAIIAN/PACIFIC ...|           5|              9184|5.444250871080139E-4|\n",
      "|2016|               WHITE|        3417|              9184| 0.37206010452961674|\n",
      "|2018|          not_listed|           1|             11214|8.917424647761727E-5|\n",
      "|2018|HAWAIIAN/PACIFIC ...|           9|             11214|8.025682182985554E-4|\n",
      "|2018|               BLACK|        2804|             11214|  0.2500445871232388|\n",
      "|2018|AMERICAN INDIAN/A...|           5|             11214|4.458712323880863...|\n",
      "+----+--------------------+------------+------------------+--------------------+\n",
      "only showing top 20 rows\n",
      "\n"
     ]
    }
   ],
   "source": [
    "from pyspark.sql.functions import year, count\n",
    "\n",
    "# Assuming 'arrest_date' is the column containing the arrest date\n",
    "df = df.withColumn(\"year\", year(\"arrest_date\"))\n",
    "\n",
    "# Group by race and year and calculate the count of arrests for each race and year\n",
    "arrests_by_race_year = df.groupBy(\"race\", \"year\").agg(count(\"race\").alias(\"arrest_count\"))\n",
    "\n",
    "# Calculate the total number of arrests for each year\n",
    "total_arrests_year = df.groupBy(\"year\").agg(count(\"race\").alias(\"total_arrests_year\"))\n",
    "\n",
    "# Join the two DataFrames to calculate the arrest rate for each race and year\n",
    "arrests_by_race_year = arrests_by_race_year.join(total_arrests_year, \"year\")\n",
    "arrests_by_race_year = arrests_by_race_year.withColumn(\"arrest_rate\", arrests_by_race_year[\"arrest_count\"] / arrests_by_race_year[\"total_arrests_year\"])\n",
    "\n",
    "# Show the result\n",
    "arrests_by_race_year.show()\n"
   ]
  },
  {
   "cell_type": "code",
   "execution_count": 35,
   "id": "58a40930-566c-4078-b89a-39c623f7e3fd",
   "metadata": {},
   "outputs": [
    {
     "name": "stdout",
     "output_type": "stream",
     "text": [
      "    year                            race  arrest_count  total_arrests_year  \\\n",
      "0   2015              HISPANIC OR LATINO          3735                9209   \n",
      "1   2015                           ASIAN            99                9209   \n",
      "2   2015  AMERICAN INDIAN/ALASKAN NATIVE             5                9209   \n",
      "3   2015       HAWAIIAN/PACIFIC ISLANDER             2                9209   \n",
      "4   2015                  MIDDLE EASTERN            28                9209   \n",
      "5   2015                           WHITE          3147                9209   \n",
      "6   2015                           BLACK          2164                9209   \n",
      "7   2015                         UNKNOWN            29                9209   \n",
      "8   2016  AMERICAN INDIAN/ALASKAN NATIVE             5                9184   \n",
      "9   2016                           BLACK          2152                9184   \n",
      "10  2016                           ASIAN            93                9184   \n",
      "11  2016                  MIDDLE EASTERN            35                9184   \n",
      "12  2016              HISPANIC OR LATINO          3435                9184   \n",
      "13  2016                         UNKNOWN            42                9184   \n",
      "14  2016       HAWAIIAN/PACIFIC ISLANDER             5                9184   \n",
      "15  2016                           WHITE          3417                9184   \n",
      "16  2018                      not_listed             1               11214   \n",
      "17  2018       HAWAIIAN/PACIFIC ISLANDER             9               11214   \n",
      "18  2018                           BLACK          2804               11214   \n",
      "19  2018  AMERICAN INDIAN/ALASKAN NATIVE             5               11214   \n",
      "20  2018                  MIDDLE EASTERN            44               11214   \n",
      "21  2018                           ASIAN           106               11214   \n",
      "22  2018                         UNKNOWN            27               11214   \n",
      "23  2018                           WHITE          3406               11214   \n",
      "24  2018              HISPANIC OR LATINO          4812               11214   \n",
      "25  2019                      not_listed             2                7747   \n",
      "26  2019                         UNKNOWN            14                7747   \n",
      "27  2019                           ASIAN            87                7747   \n",
      "28  2019  AMERICAN INDIAN/ALASKAN NATIVE             4                7747   \n",
      "29  2019                           BLACK          1927                7747   \n",
      "30  2019                           WHITE          2328                7747   \n",
      "31  2019              HISPANIC OR LATINO          3364                7747   \n",
      "32  2019                  MIDDLE EASTERN            18                7747   \n",
      "33  2019       HAWAIIAN/PACIFIC ISLANDER             3                7747   \n",
      "34  2020                           BLACK           858                4069   \n",
      "35  2020       HAWAIIAN/PACIFIC ISLANDER             3                4069   \n",
      "36  2020                  MIDDLE EASTERN            13                4069   \n",
      "37  2020                           ASIAN            42                4069   \n",
      "38  2020                           WHITE          1286                4069   \n",
      "39  2020              HISPANIC OR LATINO          1866                4069   \n",
      "40  2020  AMERICAN INDIAN/ALASKAN NATIVE             1                4069   \n",
      "\n",
      "    arrest_rate  \n",
      "0      0.405581  \n",
      "1      0.010750  \n",
      "2      0.000543  \n",
      "3      0.000217  \n",
      "4      0.003041  \n",
      "5      0.341731  \n",
      "6      0.234988  \n",
      "7      0.003149  \n",
      "8      0.000544  \n",
      "9      0.234321  \n",
      "10     0.010126  \n",
      "11     0.003811  \n",
      "12     0.374020  \n",
      "13     0.004573  \n",
      "14     0.000544  \n",
      "15     0.372060  \n",
      "16     0.000089  \n",
      "17     0.000803  \n",
      "18     0.250045  \n",
      "19     0.000446  \n",
      "20     0.003924  \n",
      "21     0.009452  \n",
      "22     0.002408  \n",
      "23     0.303727  \n",
      "24     0.429106  \n",
      "25     0.000258  \n",
      "26     0.001807  \n",
      "27     0.011230  \n",
      "28     0.000516  \n",
      "29     0.248741  \n",
      "30     0.300503  \n",
      "31     0.434233  \n",
      "32     0.002323  \n",
      "33     0.000387  \n",
      "34     0.210863  \n",
      "35     0.000737  \n",
      "36     0.003195  \n",
      "37     0.010322  \n",
      "38     0.316048  \n",
      "39     0.458589  \n",
      "40     0.000246  \n"
     ]
    }
   ],
   "source": [
    "# Convert PySpark DataFrame to Pandas DataFrame\n",
    "pandas_df = arrests_by_race_year.toPandas()\n",
    "\n",
    "# Show the Pandas DataFrame\n",
    "print(pandas_df)\n",
    "\n",
    "# Save the Pandas DataFrame as a CSV file\n",
    "output_path_pandas = \"arrests_by_race_year_pandas.csv\"\n",
    "pandas_df.to_csv(output_path_pandas, index=False)"
   ]
  },
  {
   "cell_type": "code",
   "execution_count": 9,
   "id": "326bdaf4-8786-4d64-b149-38c40de4f914",
   "metadata": {},
   "outputs": [
    {
     "name": "stdout",
     "output_type": "stream",
     "text": [
      "+--------------+-----+\n",
      "|search_grouped|count|\n",
      "+--------------+-----+\n",
      "|            No| 7550|\n",
      "|           Yes|33873|\n",
      "+--------------+-----+\n",
      "\n"
     ]
    }
   ],
   "source": [
    "from pyspark.sql import SparkSession\n",
    "from pyspark.sql.functions import count\n",
    "value_counts = df.groupBy(\"search_grouped\").agg(count(\"*\").alias(\"count\"))\n",
    "\n",
    "# Show the value counts\n",
    "value_counts.show()"
   ]
  },
  {
   "cell_type": "code",
   "execution_count": null,
   "id": "d1c83bf2-e3f9-44d0-8fbb-c75a9f55fb86",
   "metadata": {},
   "outputs": [],
   "source": []
  },
  {
   "cell_type": "code",
   "execution_count": 12,
   "id": "12724f1c-a881-44da-96ee-8de7d11b994c",
   "metadata": {},
   "outputs": [
    {
     "name": "stdout",
     "output_type": "stream",
     "text": [
      "Count of 'not_listed' in the 'searched' column: 516\n"
     ]
    }
   ],
   "source": [
    "from pyspark.sql import SparkSession\n",
    "from pyspark.sql.functions import col\n",
    "\n",
    "# Assuming your DataFrame is named 'df'\n",
    "# Replace this with your actual DataFrame\n",
    "# df = ...\n",
    "\n",
    "# Filter rows where 'searched' column is 'not_listed'\n",
    "not_listed_count = df.filter(col(\"searched\") == \"not_listed\").count()\n",
    "\n",
    "# Show the result\n",
    "print(\"Count of 'not_listed' in the 'searched' column:\", not_listed_count)\n"
   ]
  },
  {
   "cell_type": "code",
   "execution_count": 12,
   "id": "a33780df-d7a9-4979-8811-71015e386b69",
   "metadata": {
    "scrolled": true
   },
   "outputs": [
    {
     "name": "stdout",
     "output_type": "stream",
     "text": [
      "+--------------------+------------+\n",
      "|                race|arrest_count|\n",
      "+--------------------+------------+\n",
      "|               WHITE|       13584|\n",
      "|               BLACK|        9905|\n",
      "|AMERICAN INDIAN/A...|          20|\n",
      "|  HISPANIC OR LATINO|       17212|\n",
      "|             UNKNOWN|         112|\n",
      "|      MIDDLE EASTERN|         138|\n",
      "|HAWAIIAN/PACIFIC ...|          22|\n",
      "|               ASIAN|         427|\n",
      "|          not_listed|           3|\n",
      "+--------------------+------------+\n",
      "\n"
     ]
    }
   ],
   "source": [
    "# Aggregate by race and count the number of arrests\n",
    "race_aggregation = spark.sql(\"SELECT race,COUNT(*) as arrest_count FROM arrest_data GROUP BY race\").show()\n"
   ]
  },
  {
   "cell_type": "code",
   "execution_count": 35,
   "id": "807372ce-3ab3-4608-bb14-390b9dc9ffd8",
   "metadata": {},
   "outputs": [
    {
     "name": "stdout",
     "output_type": "stream",
     "text": [
      "+--------------------+------------+\n",
      "|                race|arrest_count|\n",
      "+--------------------+------------+\n",
      "|               WHITE|       13584|\n",
      "|               BLACK|        9905|\n",
      "|AMERICAN INDIAN/A...|          20|\n",
      "|  HISPANIC OR LATINO|       17212|\n",
      "|             UNKNOWN|         112|\n",
      "|      MIDDLE EASTERN|         138|\n",
      "|HAWAIIAN/PACIFIC ...|          22|\n",
      "|               ASIAN|         427|\n",
      "|          not_listed|           3|\n",
      "+--------------------+------------+\n",
      "\n"
     ]
    }
   ],
   "source": [
    "#AGGS for TABLEAU\n",
    "#Arrest Counts by Race:\n",
    "race_aggregation = spark.sql(\"SELECT race, COUNT(*) as arrest_count FROM arrest_data GROUP BY race\").show()\n"
   ]
  },
  {
   "cell_type": "code",
   "execution_count": 36,
   "id": "cf9922ea-c171-45fb-895c-f665307f627d",
   "metadata": {},
   "outputs": [
    {
     "name": "stdout",
     "output_type": "stream",
     "text": [
      "+--------------------+------------+\n",
      "|      reason_stopped|reason_count|\n",
      "+--------------------+------------+\n",
      "|    CALL FOR SERVICE|         841|\n",
      "|PRE-EXISTING KNOW...|         348|\n",
      "|VIOLATION OF PENA...|         126|\n",
      "|    WATER SAFETY ACT|         201|\n",
      "|VIOLATION OF TRAN...|       13632|\n",
      "|SUSPICIOUS PERSON...|         297|\n",
      "|  CONSENSUAL CONTACT|          36|\n",
      "|          not_listed|        2387|\n",
      "|               OTHER|         253|\n",
      "|VIOLATION OF CITY...|         229|\n",
      "|MOTOR VEHICLE DRIVER|          43|\n",
      "|Pre-existing know...|         743|\n",
      "|Violation of law ...|        6859|\n",
      "|Moving Traffic Vi...|       15428|\n",
      "+--------------------+------------+\n",
      "\n"
     ]
    }
   ],
   "source": [
    "#Reasons for Stops:\n",
    "reason_aggregation = spark.sql(\"SELECT reason_stopped, COUNT(*) as reason_count FROM arrest_data GROUP BY reason_stopped\").show()\n"
   ]
  },
  {
   "cell_type": "code",
   "execution_count": 37,
   "id": "fb4ab695-f69d-48b3-9d80-2354604b05b7",
   "metadata": {},
   "outputs": [],
   "source": [
    "#Overall Stop/Arrest Rate:\n",
    "overall_rate = spark.sql(\"SELECT COUNT(*) as total_stops FROM arrest_data\").collect()[0]['total_stops']\n"
   ]
  },
  {
   "cell_type": "code",
   "execution_count": 38,
   "id": "5e801770-b470-4856-8775-64f557a26034",
   "metadata": {},
   "outputs": [
    {
     "name": "stdout",
     "output_type": "stream",
     "text": [
      "+--------------------+-----------+\n",
      "|                race|group_stops|\n",
      "+--------------------+-----------+\n",
      "|               WHITE|      13584|\n",
      "|               BLACK|       9905|\n",
      "|AMERICAN INDIAN/A...|         20|\n",
      "|  HISPANIC OR LATINO|      17212|\n",
      "|             UNKNOWN|        112|\n",
      "|      MIDDLE EASTERN|        138|\n",
      "|HAWAIIAN/PACIFIC ...|         22|\n",
      "|               ASIAN|        427|\n",
      "|          not_listed|          3|\n",
      "+--------------------+-----------+\n",
      "\n"
     ]
    }
   ],
   "source": [
    "#Group-Specific Stop/Arrest Rates:\n",
    "group_rates = spark.sql(\"SELECT race, COUNT(*) as group_stops FROM arrest_data GROUP BY race\").show()\n"
   ]
  },
  {
   "cell_type": "code",
   "execution_count": 52,
   "id": "519e0e1c-a63d-4713-b8c8-c988ecf5940a",
   "metadata": {},
   "outputs": [],
   "source": [
    "#Search and Found Percentages:\n",
    "from pyspark.sql.functions import col\n",
    "total_arrests = spark_df.count()\n",
    "searches_conducted = spark_df.filter(col(\"searched\") == \"YES = 1\").count()\n",
    "searches_found = spark_df.filter((col(\"searched\") == \"YES = 1\") & (col(\"search_found\").isin(\"WEAPONS\", \"CASH\", \"ALCOHOL\", \"DRUGS\"))).count()\n"
   ]
  },
  {
   "cell_type": "code",
   "execution_count": 48,
   "id": "ce57d051-0144-4056-8d4c-abb95fc38c3f",
   "metadata": {},
   "outputs": [
    {
     "name": "stdout",
     "output_type": "stream",
     "text": [
      "+-----------+-----+\n",
      "|arrest_year|count|\n",
      "+-----------+-----+\n",
      "|       2015| 9209|\n",
      "|       2016| 9184|\n",
      "|       2018|11214|\n",
      "|       2019| 7747|\n",
      "|       2020| 4069|\n",
      "+-----------+-----+\n",
      "\n"
     ]
    }
   ],
   "source": [
    "#Arrest Counts by Year:\n",
    "arrests_by_year = spark_df.groupBy(\"arrest_year\").count().orderBy(\"arrest_year\").show()\n"
   ]
  },
  {
   "cell_type": "code",
   "execution_count": 56,
   "id": "f93043b5-58d9-47c9-92c4-75d11860b801",
   "metadata": {},
   "outputs": [],
   "source": [
    "#Arrest Counts by Race and Gender:\n",
    "arrests_by_race_gender = spark_df.groupBy(\"race\", \"sex\").count().orderBy(\"race\", \"sex\").show\n"
   ]
  },
  {
   "cell_type": "code",
   "execution_count": 50,
   "id": "60cf5dd9-730d-4056-87dc-e3f1f2442a31",
   "metadata": {},
   "outputs": [],
   "source": [
    "#Reasons for Stops and Search Outcomes:\n",
    "reasons_for_stops = spark_df.groupBy(\"reason_stopped\", \"search_found\").count().orderBy(\"count\", ascending=False)\n"
   ]
  },
  {
   "cell_type": "code",
   "execution_count": 43,
   "id": "e19076ea-fbd8-4650-9220-f7594969f3e4",
   "metadata": {},
   "outputs": [],
   "source": [
    "#Geospatial Analysis:\n",
    "arrests_by_location = spark_df.groupBy(\"location\").count()\n"
   ]
  },
  {
   "cell_type": "code",
   "execution_count": 44,
   "id": "11b35e92-52e6-48c9-9faf-030347d0c470",
   "metadata": {},
   "outputs": [],
   "source": [
    "#Temporal Trends:\n",
    "result_by_month = spark.sql(\"\"\"\n",
    "    SELECT\n",
    "        sex,\n",
    "        race,\n",
    "        month(arrest_date) AS arrest_month,\n",
    "        COUNT(*) AS arrest_count\n",
    "    FROM\n",
    "        arrest_data\n",
    "    GROUP BY\n",
    "        sex, race, arrest_month\n",
    "    ORDER BY\n",
    "        arrest_month, arrest_count DESC\n",
    "\"\"\")"
   ]
  },
  {
   "cell_type": "code",
   "execution_count": 45,
   "id": "415ea829-3bbb-46b8-987e-eb3fe9ba3f75",
   "metadata": {},
   "outputs": [],
   "source": [
    "#Demographic Analysis:\n",
    "result_demographic_analysis = spark.sql(\"\"\"\n",
    "    SELECT\n",
    "        sex,\n",
    "        race,\n",
    "        COUNT(*) AS arrest_count\n",
    "    FROM\n",
    "        arrest_data\n",
    "    GROUP BY\n",
    "        sex, race\n",
    "    ORDER BY\n",
    "        arrest_count DESC\n",
    "\"\"\")"
   ]
  },
  {
   "cell_type": "code",
   "execution_count": 46,
   "id": "27c18e38-2f0a-4b34-b21b-7f875af4a1bf",
   "metadata": {},
   "outputs": [],
   "source": [
    "#Aggregate Location Data:\n",
    "result_location = spark.sql(\"\"\"\n",
    "    SELECT\n",
    "        sex,\n",
    "        race,\n",
    "        AVG(lng) AS avg_lng,\n",
    "        AVG(lat) AS avg_lat,\n",
    "        COUNT(*) AS arrest_count\n",
    "    FROM\n",
    "        arrest_data\n",
    "    GROUP BY\n",
    "        sex, race\n",
    "    ORDER BY\n",
    "        arrest_count DESC\n",
    "\"\"\")\n"
   ]
  },
  {
   "cell_type": "code",
   "execution_count": 21,
   "id": "3188c84b-0661-4535-9dd7-15367eb15983",
   "metadata": {},
   "outputs": [
    {
     "name": "stdout",
     "output_type": "stream",
     "text": [
      "+--------------------+------------+\n",
      "|      reason_stopped|reason_count|\n",
      "+--------------------+------------+\n",
      "|    CALL FOR SERVICE|         841|\n",
      "|PRE-EXISTING KNOW...|         348|\n",
      "|VIOLATION OF PENA...|         126|\n",
      "|    WATER SAFETY ACT|         201|\n",
      "|VIOLATION OF TRAN...|       13632|\n",
      "|SUSPICIOUS PERSON...|         297|\n",
      "|  CONSENSUAL CONTACT|          36|\n",
      "|          not_listed|        2387|\n",
      "|               OTHER|         253|\n",
      "|VIOLATION OF CITY...|         229|\n",
      "|MOTOR VEHICLE DRIVER|          43|\n",
      "|Pre-existing know...|         743|\n",
      "|Violation of law ...|        6859|\n",
      "|Moving Traffic Vi...|       15428|\n",
      "+--------------------+------------+\n",
      "\n"
     ]
    }
   ],
   "source": [
    "# Aggregate by reason_stopped and find the count of each reason\n",
    "reason_aggregation = spark.sql(\"SELECT reason_stopped, COUNT(*) as reason_count FROM arrest_data GROUP BY reason_stopped\").show()\n"
   ]
  },
  {
   "cell_type": "code",
   "execution_count": 22,
   "id": "9e41727c-9eb9-4a86-bbf9-0ec8c4ace7a6",
   "metadata": {},
   "outputs": [
    {
     "name": "stdout",
     "output_type": "stream",
     "text": [
      "Overall Stop/Arrest Rate: 41423\n"
     ]
    }
   ],
   "source": [
    "# Calculate Overall Stop/Arrest Rates:\n",
    "overall_rate = spark.sql(\"SELECT COUNT(*) as total_stops FROM arrest_data\").collect()[0]['total_stops']\n",
    "\n",
    "# Display the overall rate\n",
    "print(\"Overall Stop/Arrest Rate:\", overall_rate)\n"
   ]
  },
  {
   "cell_type": "code",
   "execution_count": 23,
   "id": "259c251f-86af-441f-81a6-7c3b6fc1f0c3",
   "metadata": {},
   "outputs": [
    {
     "name": "stdout",
     "output_type": "stream",
     "text": [
      "+--------------------+-----------+\n",
      "|                race|group_stops|\n",
      "+--------------------+-----------+\n",
      "|               WHITE|      13584|\n",
      "|               BLACK|       9905|\n",
      "|AMERICAN INDIAN/A...|         20|\n",
      "|  HISPANIC OR LATINO|      17212|\n",
      "|             UNKNOWN|        112|\n",
      "|      MIDDLE EASTERN|        138|\n",
      "|HAWAIIAN/PACIFIC ...|         22|\n",
      "|               ASIAN|        427|\n",
      "|          not_listed|          3|\n",
      "+--------------------+-----------+\n",
      "\n"
     ]
    }
   ],
   "source": [
    "#Calculate Group-Specific Stop/Arrest Rates:\n",
    "#Calculate the stop or arrest rate for each racial or ethnic group.\n",
    "\n",
    "group_rates = spark.sql(\"SELECT race, COUNT(*) as group_stops FROM arrest_data GROUP BY race\").show()\n"
   ]
  },
  {
   "cell_type": "code",
   "execution_count": 24,
   "id": "4c599464-63bc-4f90-a547-56146f2c3eba",
   "metadata": {},
   "outputs": [
    {
     "name": "stdout",
     "output_type": "stream",
     "text": [
      "                             race  group_stops  disparity_index\n",
      "0                           WHITE        13584         0.327934\n",
      "1                           BLACK         9905         0.239118\n",
      "2  AMERICAN INDIAN/ALASKAN NATIVE           20         0.000483\n",
      "3              HISPANIC OR LATINO        17212         0.415518\n",
      "4                         UNKNOWN          112         0.002704\n",
      "5                  MIDDLE EASTERN          138         0.003331\n",
      "6       HAWAIIAN/PACIFIC ISLANDER           22         0.000531\n",
      "7                           ASIAN          427         0.010308\n",
      "8                      not_listed            3         0.000072\n"
     ]
    }
   ],
   "source": [
    "#Calculate Disparity Index:\n",
    "#Calculate the Disparity Index for each racial or ethnic group.\n",
    "\n",
    "# Calculate Group-Specific Stop/Arrest Rates:\n",
    "group_rates = spark.sql(\"SELECT race, COUNT(*) as group_stops FROM arrest_data GROUP BY race\")\n",
    "\n",
    "# Collect the group_rates DataFrame into a Pandas DataFrame\n",
    "group_rates_pd = group_rates.toPandas()\n",
    "\n",
    "# Calculate Overall Stop/Arrest Rates:\n",
    "overall_rate = group_rates_pd['group_stops'].sum()\n",
    "\n",
    "# Calculate Disparity Index:\n",
    "disparity_index = group_rates_pd.assign(disparity_index=group_rates_pd['group_stops'] / overall_rate)\n",
    "\n",
    "# Display the results\n",
    "print(disparity_index)\n"
   ]
  },
  {
   "cell_type": "code",
   "execution_count": 25,
   "id": "919b4f27-2f71-43db-893d-d3996ab079cc",
   "metadata": {},
   "outputs": [
    {
     "name": "stdout",
     "output_type": "stream",
     "text": [
      "Overall Stop/Arrest Rate: 41423\n"
     ]
    }
   ],
   "source": [
    "# Calculate Overall Stop/Arrest Rates:\n",
    "overall_rate = spark.sql(\"SELECT COUNT(*) as total_stops FROM arrest_data\").collect()[0]['total_stops']\n",
    "\n",
    "# Display the overall rate\n",
    "print(\"Overall Stop/Arrest Rate:\", overall_rate)\n"
   ]
  },
  {
   "cell_type": "code",
   "execution_count": null,
   "id": "c1776175-d0c4-4b1c-9cb2-014345999f85",
   "metadata": {},
   "outputs": [],
   "source": [
    "from pyspark.sql.functions import count, col, when\n",
    "\n",
    "# Check for Null Values/'\n",
    "spark_df.select([count(when(col(c).isNull(), c)).alias(c) for c in spark_df.columns]).show()\n"
   ]
  },
  {
   "cell_type": "code",
   "execution_count": null,
   "id": "5d48b518-34e7-4aba-b9ac-e77dbc681d45",
   "metadata": {},
   "outputs": [],
   "source": [
    "record_count = spark_df.count()\n",
    "print(\"Total number of records:\", record_count)"
   ]
  },
  {
   "cell_type": "code",
   "execution_count": null,
   "id": "395a577b-c29d-45a0-8030-afb800a20306",
   "metadata": {},
   "outputs": [],
   "source": [
    "summary_stats = spark_df.describe()\n",
    "summary_stats.show()"
   ]
  },
  {
   "cell_type": "code",
   "execution_count": null,
   "id": "45e8c069-b4c9-41ca-a37e-c0a02e0e087f",
   "metadata": {},
   "outputs": [],
   "source": [
    "race_counts = spark_df.groupBy(\"race\").count()\n",
    "race_counts.show()"
   ]
  },
  {
   "cell_type": "code",
   "execution_count": null,
   "id": "a579249e-b7f7-4a51-9486-6689ae20492a",
   "metadata": {},
   "outputs": [],
   "source": [
    "total_searches = spark_df.filter(spark_df[\"searched\"] == \"YES = 1\").count()\n",
    "print(\"Total number of searches:\", total_searches)"
   ]
  },
  {
   "cell_type": "code",
   "execution_count": null,
   "id": "e1a37709-4404-45c3-b59e-88b51db3d427",
   "metadata": {},
   "outputs": [],
   "source": [
    "from pyspark.sql.functions import year\n",
    "\n",
    "# Extract the year from the 'arrest_date' column\n",
    "spark_df = spark_df.withColumn(\"arrest_year\", year(\"arrest_date\"))\n",
    "\n",
    "# Aggregate the number of arrests for each year\n",
    "arrests_by_year = spark_df.groupBy(\"arrest_year\").count().orderBy(\"arrest_year\")\n",
    "\n",
    "# Show the results\n",
    "arrests_by_year.show()\n"
   ]
  },
  {
   "cell_type": "code",
   "execution_count": null,
   "id": "c3021e02-c195-4ae6-a397-1c5b0db9d6e7",
   "metadata": {},
   "outputs": [],
   "source": [
    "# Aggregate the number of arrests by race and gender\n",
    "arrests_by_race_gender = spark_df.groupBy(\"race\", \"sex\").count().orderBy(\"race\", \"sex\")\n",
    "\n",
    "# Show the results\n",
    "arrests_by_race_gender.show()\n"
   ]
  },
  {
   "cell_type": "code",
   "execution_count": null,
   "id": "f864d841-bdc0-4335-8e0a-ae7b0f34a33c",
   "metadata": {},
   "outputs": [],
   "source": [
    "# Aggregate the count of stops by reason and outcome\n",
    "reasons_for_stops = spark_df.groupBy(\"reason_stopped\", \"search_found\").count().orderBy(\"count\", ascending=False)\n",
    "\n",
    "# Show the results\n",
    "reasons_for_stops.show()\n"
   ]
  },
  {
   "cell_type": "code",
   "execution_count": null,
   "id": "7094bd4f-0483-4d99-a61b-de5393edf0ab",
   "metadata": {},
   "outputs": [],
   "source": [
    "from pyspark.sql.functions import col, concat, lit\n",
    "\n",
    "# Calculate the percentage of arrests where searches were conducted\n",
    "total_arrests = spark_df.count()\n",
    "searches_conducted = spark_df.filter(col(\"searched\") == \"YES = 1\").count()\n",
    "\n",
    "# Calculate the percentage of searches where something was found\n",
    "searches_found = spark_df.filter((col(\"searched\") == \"YES = 1\") & (col(\"search_found\").isin(\"WEAPONS\", \"CASH\", \"ALCOHOL\", \"DRUGS\"))).count()\n",
    "\n",
    "# Calculate percentages\n",
    "search_percentage = (searches_conducted / total_arrests) * 100\n",
    "found_percentage = (searches_found / searches_conducted) * 100\n",
    "\n",
    "# Show the results\n",
    "print(\"Percentage of arrests where searches were conducted:\", search_percentage)\n",
    "print(\"Percentage of searches where something was found:\", found_percentage)\n"
   ]
  },
  {
   "cell_type": "code",
   "execution_count": null,
   "id": "f86e446f-43cc-4840-9de1-2577ba2ec244",
   "metadata": {},
   "outputs": [],
   "source": [
    "from pyspark.sql.functions import col\n",
    "\n",
    "# Calculate the total number of arrests for each race\n",
    "arrests_by_race = spark_df.groupBy(\"race\").count()\n",
    "\n",
    "# Calculate the number of searches conducted for each race\n",
    "searches_by_race = spark_df.filter(col(\"searched\") == \"YES = 1\").groupBy(\"race\").count()\n",
    "\n",
    "# Calculate the number of searches where something was found for each race\n",
    "found_by_race = spark_df.filter((col(\"searched\") == \"YES = 1\") & (col(\"search_found\").isin(\"WEAPONS\", \"CASH\", \"ALCOHOL\", \"DRUGS\"))).groupBy(\"race\").count()\n",
    "\n",
    "# Join the DataFrames to calculate percentages\n",
    "search_percentage_by_race = searches_by_race.join(arrests_by_race.withColumnRenamed(\"count\", \"total_arrests\"), \"race\").withColumn(\"search_percentage\", (col(\"count\") / col(\"total_arrests\")) * 100)\n",
    "\n",
    "found_percentage_by_race = found_by_race.join(searches_by_race.withColumnRenamed(\"count\", \"total_searches\"), \"race\").withColumn(\"found_percentage\", (col(\"count\") / col(\"total_searches\")) * 100)\n",
    "\n",
    "# Show the results\n",
    "print(\"Search Percentage by Race:\")\n",
    "search_percentage_by_race.show()\n",
    "\n",
    "print(\"Found Percentage by Race:\")\n",
    "found_percentage_by_race.show()\n"
   ]
  },
  {
   "cell_type": "code",
   "execution_count": null,
   "id": "5fc0d2aa-ea0e-4b37-a173-d244f4fca0b9",
   "metadata": {},
   "outputs": [],
   "source": [
    "# Import necessary functions for geospatial analysis\n",
    "from pyspark.sql.functions import col\n",
    "from pyspark.sql.types import StringType\n",
    "\n",
    "# Create a new column combining 'lng' and 'lat' as a string\n",
    "spark_df = spark_df.withColumn(\"location\", concat(col(\"lng\"), lit(\",\"), col(\"lat\")).cast(StringType()))\n",
    "\n",
    "# Aggregate the count of arrests by location\n",
    "arrests_by_location = spark_df.groupBy(\"location\").count()\n",
    "\n",
    "# Show the results\n",
    "arrests_by_location.show()\n"
   ]
  },
  {
   "cell_type": "code",
   "execution_count": null,
   "id": "f0ef062c-2e68-4a6d-b345-65a66a729310",
   "metadata": {},
   "outputs": [],
   "source": []
  },
  {
   "cell_type": "code",
   "execution_count": null,
   "id": "34bed52b-9635-4920-8b7b-e66830623c4b",
   "metadata": {},
   "outputs": [],
   "source": [
    "import matplotlib.pyplot as plt\n",
    "\n",
    "# Convert Spark DataFrame to Pandas DataFrame for visualization\n",
    "pandas_df = spark_df.toPandas()\n",
    "\n",
    "# Plotting race distribution\n",
    "race_distribution = pandas_df[\"race\"].value_counts()\n",
    "race_distribution.plot(kind=\"bar\")\n",
    "plt.title(\"Race Distribution\")\n",
    "plt.xlabel(\"Race\")\n",
    "plt.ylabel(\"Count\")\n",
    "plt.show()\n"
   ]
  },
  {
   "cell_type": "markdown",
   "id": "a493b6e6-c5bc-41af-9ebc-889642d6a8a7",
   "metadata": {},
   "source": [
    "### Analysis:\n",
    "#### 1. Aggregations by Month or Day:\n",
    "\r\n",
    "The query on arrests by month provides insights into the distribution of arrests across different demographic groups over each month. Here are some findings based on the provided result:\r\n",
    "\r\n",
    "Monthly Distribution:\r\n",
    "\r\n",
    "The data shows the distribution of arrests across different months.\r\n",
    "Each row represents a combination of sex, race, and the respective month.\r\n",
    "Highest Arrest Months:\r\n",
    "\r\n",
    "January (month 1) appears to have higher arrest counts across various demographic groups.\r\n",
    "For example, Hispanic or Latino Males (sex=M, race=HISPANIC OR LATINO), White Males (sex=M, race=WHITE), and Black Males (sex=M, race=BLACK) have relatively high arrest counts in January.\r\n",
    "Variation Across Demographic Groups:\r\n",
    "\r\n",
    "Arrest counts vary across sex and race categories for each month.\r\n",
    "Different demographic groups may have distinct patterns in terms of arrests, potentially influenced by various factors.\r\n",
    "Low Arrest Counts:\r\n",
    "\r\n",
    "Some demographic groups, especially in minority categories, may have lower arrest counts in certain months.\r\n",
    "Data Exploration:\r\n",
    "\r\n",
    "Further exploration could involve visualizing the monthly trends using line charts or other time series visualizations.\r\n",
    "Analyzing whether certain events or seasons contribute to the observed patterns.\r\n",
    "Consideration for Seasonality:\r\n",
    "\r\n",
    "Patterns in arrests could be influenced by seasonal factors, holidays, or specific events that occur at different times of the year.\r\n",
    "It's important to note that while these findings provide insights into the monthly distribution of arrests, a more detailed analysis, possibly with visualizations, could reveal additional patterns and context. Domain knowledge and understanding the context of the dataset would contribute to a more comprehensive interpretation of the findings."
   ]
  },
  {
   "cell_type": "markdown",
   "id": "83322515-4b90-4b35-8377-a33f3e134d38",
   "metadata": {},
   "source": [
    "#### Notes for findings and Visualiszations: \n",
    "- This analysis aims to understand the patterns of arrests by examining the demographic attributes of gender (sex), racial or ethnic background (race), and the temporal aspect represented by monthly trends.\n",
    "- "
   ]
  },
  {
   "cell_type": "code",
   "execution_count": null,
   "id": "d4aa1840-207e-4808-96b2-9788d96442bb",
   "metadata": {},
   "outputs": [],
   "source": [
    "# Register the DataFrame as a temporary SQL table\n",
    "spark_df.createOrReplaceTempView(\"arrest_data\")"
   ]
  },
  {
   "cell_type": "code",
   "execution_count": null,
   "id": "62c46494-688d-4064-8bbc-1bc84e946a72",
   "metadata": {},
   "outputs": [],
   "source": [
    "from pyspark.sql.functions import month, dayofmonth\n",
    "\n",
    "result_by_month = spark.sql(\"\"\"\n",
    "    SELECT\n",
    "        sex,\n",
    "        race,\n",
    "        month(arrest_date) AS arrest_month,\n",
    "        COUNT(*) AS arrest_count\n",
    "    FROM\n",
    "        arrest_data\n",
    "    GROUP BY\n",
    "        sex, race, arrest_month\n",
    "    ORDER BY\n",
    "        arrest_month, arrest_count DESC\n",
    "\"\"\")\n",
    "print('This analysis aims to understand the patterns of arrests by examining the demographic attributes of gender (sex), racial or ethnic background (race), and the temporal aspect represented by monthly trends.')\n",
    "result_by_month.show(truncate=False)"
   ]
  },
  {
   "cell_type": "markdown",
   "id": "7a36343b-5055-4da8-9e7a-da832ef1e223",
   "metadata": {},
   "source": [
    "#### 2. Temporal Trends:"
   ]
  },
  {
   "cell_type": "markdown",
   "id": "986566bf-7004-41ec-a23f-d8321aacdcba",
   "metadata": {},
   "source": [
    "#### Notes for findings and Visualiszations: \n",
    "\r\n",
    "The query on temporal trends analyzes the distribution of arrests over time across different demographic groups (combinations of sex and race). Here are some findings based on the provided result:\r\n",
    "\r\n",
    "Temporal Distribution:\r\n",
    "\r\n",
    "The data shows the temporal trends in arrests from January 1, 2015, onward.\r\n",
    "Arrests on Specific Dates:\r\n",
    "\r\n",
    "The table reveals the number of arrests on specific dates for different demographic groups.\r\n",
    "For example, on January 1, 2015, there were arrests for Hispanic or Latino Males (sex=M, race=HISPANIC OR LATINO), Black Males (sex=M, race=BLACK), White Males (sex=M, race=WHITE), and White Females (sex=F, race=WHITE).\r\n",
    "Variation Across Dates:\r\n",
    "\r\n",
    "The count of arrests varies across different dates and demographic groups.\r\n",
    "Temporal Patterns:\r\n",
    "\r\n",
    "Patterns in arrests may emerge over time, reflecting factors such as day of the week, holidays, or specific events.\r\n",
    "Data Exploration:\r\n",
    "\r\n",
    "Further exploration of the data could involve visualizing temporal trends using line charts or other time series visualizations.\r\n",
    "Identifying spikes or patterns on specific dates may lead to insights or hypotheses about the reasons behind those trends.\r\n",
    "Consideration for Time of Day:\r\n",
    "\r\n",
    "It might be beneficial to explore temporal patterns not only by date but also by the time of day to uncover patterns related to specific hours.\r\n",
    "It's important to note that a more detailed analysis, possibly with visualizations, could provide a clearer understanding of the temporal trends in arrests for different demographic groups. Additionally, domain knowledge and context about the dataset could contribute to a more comprehensive interpretation of the findings.\r\n",
    "\r\n",
    "\r\n",
    "\r\n",
    "\r\n",
    "\r\n"
   ]
  },
  {
   "cell_type": "code",
   "execution_count": null,
   "id": "5952bb9b-c9f3-4651-a18a-1c53951e130b",
   "metadata": {},
   "outputs": [],
   "source": [
    "result_temporal_trends = spark.sql(\"\"\"\n",
    "    SELECT\n",
    "        sex,\n",
    "        race,\n",
    "        arrest_date,\n",
    "        COUNT(*) AS arrest_count\n",
    "    FROM\n",
    "        arrest_data\n",
    "    GROUP BY\n",
    "        sex, race, arrest_date\n",
    "    ORDER BY\n",
    "        arrest_date, arrest_count DESC\n",
    "\"\"\")\n",
    "print('This query analyzes temporal trends by providing the count for each combination of sex, race, and arrest date.')\n",
    "result_temporal_trends.show(truncate=False)"
   ]
  },
  {
   "cell_type": "markdown",
   "id": "8bb8ee4b-e199-41a2-b073-25441d879530",
   "metadata": {},
   "source": [
    "#### 3. Reasons for Arrest:"
   ]
  },
  {
   "cell_type": "markdown",
   "id": "4d8ea67a-27f3-447b-b6c4-5b4395de0276",
   "metadata": {},
   "source": [
    "#### Notes for findings and Visualiszations: \n",
    "\n",
    "\r\n",
    "The query on reasons for arrest provides insights into the distribution of different reasons for arrests across various demographic groups (combinations of sex and race). Here are some findings based on the provided result:\r\n",
    "\r\n",
    "Top Reasons for Arrest:\r\n",
    "\r\n",
    "For Hispanic or Latino Males (sex=M, race=HISPANIC OR LATINO), the most common reasons for arrest are \"Moving Traffic Violation\" (5,231 arrests) and \"VIOLATION OF TRANSPORTATION CODE/VEHICLE LAWS\" (4,367 arrests).\r\n",
    "For Black Males and White Males, \"Moving Traffic Violation\" and \"VIOLATION OF TRANSPORTATION CODE/VEHICLE LAWS\" are also among the top reasons.\r\n",
    "Traffic Violations:\r\n",
    "\r\n",
    "\"Moving Traffic Violation\" and \"VIOLATION OF TRANSPORTATION CODE/VEHICLE LAWS\" appear to be prominent reasons for arrest across different demographic groups.\r\n",
    "Violation of Law Other Than Traffic:\r\n",
    "\r\n",
    "Another category is \"Violation of law other than traffic,\" which contributes to a significant number of arrests for Hispanic or Latino Males and White Males.\r\n",
    "Not Listed Reasons:\r\n",
    "\r\n",
    "Some records have reasons for arrest marked as \"not_listed,\" indicating that the specific reason is not provided.\r\n",
    "Gender and Race Dynamics:\r\n",
    "\r\n",
    "The reasons for arrest may vary based on both gender and race, and the analysis can help identify patterns and potential areas for further investigation.\r\n",
    "Law Enforcement Practices:\r\n",
    "\r\n",
    "The findings may reflect law enforcement practices, and further analysis could involve exploring the context behind the arrests in each category.\r\n",
    "As with any analysis, the interpretation may benefit from additional context, domain knowledge, and visualizations. Consider visualizing the data to better understand the patterns and relationships between different demographic groups and the reasons for their arrests.\r\n",
    "\r\n",
    "\r\n",
    "\r\n",
    "\r\n",
    "\r\n",
    "\r\n"
   ]
  },
  {
   "cell_type": "code",
   "execution_count": null,
   "id": "140903e3-fd2a-4217-8fea-cc3e455a0262",
   "metadata": {
    "scrolled": true
   },
   "outputs": [],
   "source": [
    "result_reasons_for_arrest = spark.sql(\"\"\"\n",
    "    SELECT\n",
    "        sex,\n",
    "        race,\n",
    "        reason_stopped,\n",
    "        COUNT(*) AS arrest_count\n",
    "    FROM\n",
    "        arrest_data\n",
    "    GROUP BY\n",
    "        sex, race, reason_stopped\n",
    "    ORDER BY\n",
    "        arrest_count DESC\n",
    "\"\"\")\n",
    "print('This query explores the reasons for arrest, providing the count for each combination of sex, race, and reason_stopped.')\n",
    "result_reasons_for_arrest.show(truncate=False)\n"
   ]
  },
  {
   "cell_type": "markdown",
   "id": "61e09f1b-a7e6-4a1d-b108-001e6d3d2b9a",
   "metadata": {},
   "source": [
    "#### 4. Search Outcomes:"
   ]
  },
  {
   "cell_type": "markdown",
   "id": "f732855c-c35b-4cf6-a79a-d55eb11cf564",
   "metadata": {},
   "source": [
    "#### Notes for findings and Visualiszations: \n",
    "\n",
    "The query on search outcomes provides insights into the distribution of different search outcomes for various demographic groups (combinations of sex and race). Here are some findings based on the provided result:\r\n",
    "\r\n",
    "Common Search Outcomes:\r\n",
    "\r\n",
    "The column search_found represents the outcomes of searches, such as \"NOTHING,\" \"not_listed,\" \"DRUGS,\" \"OTHER,\" \"CASH,\" and so on.\r\n",
    "The majority of searches across all demographic groups resulted in \"NOTHING.\"\r\n",
    "Demographic Patterns:\r\n",
    "\r\n",
    "Hispanic or Latino Males (sex=M, race=HISPANIC OR LATINO) have the highest count of searches resulting in \"NOTHING\" (7,561), followed by White Males and Black Males.\r\n",
    "Different demographic groups may exhibit varying patterns in search outcomes.\r\n",
    "Variation in Outcomes:\r\n",
    "\r\n",
    "There is a variety of outcomes, including \"not_listed,\" \"DRUGS,\" \"OTHER,\" and \"CASH.\" These outcomes may provide insights into the reasons for searches and the subsequent results.\r\n",
    "Potential Areas of Interest:\r\n",
    "\r\n",
    "Analyzing the outcomes of searches can be crucial for understanding law enforcement practices and identifying any disparities in treatment based on demographic factors.\r\n",
    "Further Analysis:\r\n",
    "\r\n",
    "It would be valuable to explore the reasons behind different search outcomes, especially for cases where searches did not result in findings (\"NOTHING\") or when outcomes are not explicitly listed (\"not_listed\").\r\n",
    "As with any analysis, the interpretation may be enhanced with additional context, domain knowledge, and visualizations. Consider exploring visual representations of these search outcomes to better understand the patterns and identify any areas that require closer examination"
   ]
  },
  {
   "cell_type": "code",
   "execution_count": null,
   "id": "12a8eaac-4073-4934-8bbe-6c47f61dba63",
   "metadata": {},
   "outputs": [],
   "source": [
    "result_search_outcomes = spark.sql(\"\"\"\n",
    "    SELECT\n",
    "        sex,\n",
    "        race,\n",
    "        search_found,\n",
    "        COUNT(*) AS arrest_count\n",
    "    FROM\n",
    "        arrest_data\n",
    "    GROUP BY\n",
    "        sex, race, search_found\n",
    "    ORDER BY\n",
    "        arrest_count DESC\n",
    "\"\"\")\n",
    "print('This query investigates outcomes of searches by providing the count for each combination of sex, race, and search_found.')\n",
    "result_search_outcomes.show(truncate=False)"
   ]
  },
  {
   "cell_type": "markdown",
   "id": "c9e0b107-1461-4031-9fa7-08947ca0adf3",
   "metadata": {},
   "source": [
    "#### 5. Geospatial Analysis:"
   ]
  },
  {
   "cell_type": "markdown",
   "id": "b1d600f2-20e4-424f-be60-b47a48053fd2",
   "metadata": {},
   "source": [
    "#### Notes for findings and Visualiszations: \n",
    "\r\n",
    "The geospatial analysis query provides insights into the average geographical locations (longitude and latitude) and arrest counts for different demographic groups (combinations of sex and race). Here are the findings based on the provided result:\r\n",
    "\r\n",
    "Average Geographical Locations:\r\n",
    "\r\n",
    "The columns avg_lng and avg_lat represent the average longitude and latitude, respectively, for each combination of sex and race.\r\n",
    "For example, Hispanic or Latino Males (sex=M, race=HISPANIC OR LATINO) have an average longitude of approximately 7.40 and an average latitude of approximately 85.78.\r\n",
    "Arrest Counts:\r\n",
    "\r\n",
    "The column arrest_count represents the total number of arrests for each combination of sex and race.\r\n",
    "For example, Hispanic or Latino Males have the highest arrest count with 13,613 arrests, followed by White Males with 9,408 arrests and Black Males with 7,713 arrests.\r\n",
    "Variation in Geographical Locations:\r\n",
    "\r\n",
    "There is variation in the average geographical locations across different demographic groups. This could be indicative of different patterns of arrests in different areas.\r\n",
    "Demographic Distribution:\r\n",
    "\r\n",
    "The table provides a breakdown of arrests, considering both demographic factors (sex and race) and geographical factors (average longitude and latitude).\r\n",
    "Potential Insights:\r\n",
    "\r\n",
    "Further analysis could involve visualizing these geospatial patterns on a map to identify clusters or trends in arrests for specific demographic groups.\r\n",
    "Keep in mind that these findings are based on the provided data, and the interpretation may vary based on the context and domain knowledge."
   ]
  },
  {
   "cell_type": "code",
   "execution_count": null,
   "id": "d2ee2530-5811-4f0c-aec3-786f233806e6",
   "metadata": {},
   "outputs": [],
   "source": [
    "result_geospatial_analysis = spark.sql(\"\"\"\n",
    "    SELECT\n",
    "        sex,\n",
    "        race,\n",
    "        AVG(lng) AS avg_lng,\n",
    "        AVG(lat) AS avg_lat,\n",
    "        COUNT(*) AS arrest_count\n",
    "    FROM\n",
    "        arrest_data\n",
    "    GROUP BY\n",
    "        sex, race\n",
    "    ORDER BY\n",
    "        arrest_count DESC\n",
    "\"\"\")\n",
    "print('This query performs geospatial analysis by providing the average longitude, latitude, and count for each combination of sex and race.')\n",
    "result_geospatial_analysis.show(truncate=False)"
   ]
  },
  {
   "cell_type": "markdown",
   "id": "031ad070-4c6a-4c1e-b667-fdcc0f03eeb3",
   "metadata": {},
   "source": [
    "#### 6. Searches Based On:"
   ]
  },
  {
   "cell_type": "markdown",
   "id": "017808d1-de16-4a2b-bc24-774db5bd1c03",
   "metadata": {},
   "source": [
    "#### Notes for findings and Visualiszations: \n",
    "\n",
    "Result Explanation:\r\n",
    "\r\n",
    "The result provides a tabular representation of the distribution of different reasons for conducting searches, broken down by gender, race, and search reason.\r\n",
    "Each row represents a unique combination of gender, race, and search reason, and the corresponding count of arrests for that combinatio\n",
    "ple Insiata):\r\n",
    "\r\n",
    "The table might show, for instance, that there are a certain number of arrests for searches conducted based on \"Probable Cause\" for Hispanic or Latino Males (sex=M, race=HISPANIC OR LATINO).\r\n",
    "Another row might indicate the count of arrests where searches were conducted based on \"Consent\" for White Females (sex=F, race=WHITE).\r\n",
    "This analysis allows for an understanding of how searches are distributed across different demographic groups and the reasons for conducting those searches within the dataset."
   ]
  },
  {
   "cell_type": "code",
   "execution_count": null,
   "id": "002fc537-6b37-4aed-83a7-88a0d60c85ae",
   "metadata": {},
   "outputs": [],
   "source": [
    "result_searches_based_on = spark.sql(\"\"\"\n",
    "    SELECT\n",
    "        sex,\n",
    "        race,\n",
    "        search_based_on,\n",
    "        COUNT(*) AS arrest_count\n",
    "    FROM\n",
    "        arrest_data\n",
    "    GROUP BY\n",
    "        sex, race, search_based_on\n",
    "    ORDER BY\n",
    "        arrest_count DESC\n",
    "\"\"\")\n",
    "print('This query analyzes the distribution of different reasons for conducting searches, providing the count for each combination of sex, race, and search_based_on.')\n",
    "result_searches_based_on.show(truncate=False)"
   ]
  },
  {
   "cell_type": "markdown",
   "id": "dce3a575-f1dd-4d91-a983-ea1569943528",
   "metadata": {},
   "source": [
    "#### 7. Demographic Analysis:"
   ]
  },
  {
   "cell_type": "markdown",
   "id": "651e9191-72aa-4892-821e-04971b6269fc",
   "metadata": {},
   "source": [
    "#### Notes for findings and Visualiszations: Observations:\r\n",
    "\r\n",
    "The table provides a detailed breakdown of arrests, allowing for an analysis of law enforcement interactions with individuals based on their gender and race.\r\n",
    "The counts represent the frequency of arrests for each demographic grou\n",
    "ple Insiata):\r\n",
    "\r\n",
    "Hispanic or Latino Males (sex=M, race=HISPANIC OR LATINO):\r\n",
    "Arrest Count: 13,613.\r\n",
    "White Females (sex=F, race=WHITE):\r\n",
    "Arrest Count: 4,176.\r\n",
    "Black Males (sex=M, race=BLACK):\r\n",
    "Arrest Count: 7,713.\r\n",
    "Considerations:\r\n",
    "\r\n",
    "Use this data for demographic profiling and understanding the distribution of arrests across different groups.\r\n",
    "Identify any disparities in arrest counts based on gender and race.\r\n",
    "This dataset can be a starting point for further analysis, such as examining arrest rates, trends over time, or geographic patterns.\r\n",
    "Limitations:\r\n",
    "\r\n",
    "The table provides a count of arrests but does not include additional contextual information.\r\n",
    "Demographic analysis should be approached with caution to avoid perpetuating stereotypes or biases."
   ]
  },
  {
   "cell_type": "code",
   "execution_count": null,
   "id": "12cee207-654a-49b6-9f64-52fe48191aeb",
   "metadata": {},
   "outputs": [],
   "source": [
    "result_demographic_analysis = spark.sql(\"\"\"\n",
    "    SELECT\n",
    "        sex,\n",
    "        race,\n",
    "        COUNT(*) AS arrest_count\n",
    "    FROM\n",
    "        arrest_data\n",
    "    GROUP BY\n",
    "        sex, race\n",
    "    ORDER BY\n",
    "        arrest_count DESC\n",
    "\"\"\")\n",
    "print('This query performs demographic analysis by providing the count for each combination of sex and race.')\n",
    "result_demographic_analysis.show(truncate=False)\n"
   ]
  },
  {
   "cell_type": "markdown",
   "id": "a0cd41b9-8025-4396-a5d6-a55c008777b7",
   "metadata": {},
   "source": [
    "#### 8. Average Arrest Location"
   ]
  },
  {
   "cell_type": "markdown",
   "id": "8835e41f-45f2-44ef-b238-ff0bed1e70cf",
   "metadata": {},
   "source": [
    "#### Notes for findings and Visualiszations: \n",
    "Observations:\r\n",
    "Geographical Insights:\r\n",
    "\r\n",
    "The table allows you to compare the average arrest locations for different demographic groups.\r\n",
    "For example, Hispanic or Latino males (sex=M, race=HISPANIC OR LATINO) have an average arrest location with a longitude of approximately 7.40 and a latitude of approximately 85.78.\r\n",
    "Temporal Insights:\r\n",
    "\r\n",
    "The maximum and minimum arrest dates provide insights into the temporal distribution of arrests within each demographic group.\r\n",
    "For example, the data suggests that arrests for Hispanic or Latino males span from January 1, 2015, to December 31, 2020.\r\n",
    "Arrest Volumes:\r\n",
    "\r\n",
    "The total number of records indicates the arrest volume for each demographic group.\r\n",
    "For example, Hispanic or Latino males have the highest total arrest count, with approximately 13,\n",
    "\n",
    "Interpretation\n",
    "\n",
    "Hispanic or Latino Males (sex=M, race=HISPANIC OR LATINO):\r\n",
    "\r\n",
    "Average arrest location: Longitude 7.40, Latitude 85.78.\r\n",
    "Arrest date range: January 1, 2015, to December 31, 2020.\r\n",
    "Total arrest count: 13,613.\r\n",
    "White Females (sex=F, race=WHITE):\r\n",
    "\r\n",
    "Average arrest location: [Average values for longitude and latitude].\r\n",
    "Arrest date range: [Date range].\r\n",
    "Total arrest count: [Count].\r\n",
    "Considerations:\r\n",
    "Comparative Analysis:\r\n",
    "\r\n",
    "Use the table to compare arrest patterns between different demographic groups.\r\n",
    "Temporal Trends:\r\n",
    "\r\n",
    "Explore how arrest patterns have evolved over time within each demographic category.\r\n",
    "Geographical Disparities:\r\n",
    "\r\n",
    "Investigate if there are geographical disparities in arrests across different gender and race groups.\r\n",
    "Limitations:\r\n",
    "Geographical Precision:\r\n",
    "\r\n",
    "The average longitude and latitude represent central points and may not capture the full spatial variability within a demographic category.\r\n",
    "Temporal Resolution:\r\n",
    "\r\n",
    "The date range provides an overview but might not capture finer temporal details.\r\n",
    "This table serves as a valuable tool for understanding the spatial and temporal dimensions of arrests within different demographic groups, enabling further analysis and insights into law enforcement activities.\r\n",
    "\r\n",
    "\r\n",
    "\r\n",
    "\r\n",
    "\r\n",
    "613 records."
   ]
  },
  {
   "cell_type": "code",
   "execution_count": null,
   "id": "71a6cd40-4841-4067-bc84-f0298f8caecc",
   "metadata": {},
   "outputs": [],
   "source": [
    "\n",
    "# Run SQL queries on the DataFrame\n",
    "result = spark.sql(\"\"\"\n",
    "    SELECT\n",
    "        AVG(lng) AS avg_lng,\n",
    "        AVG(lat) AS avg_lat,\n",
    "        MAX(arrest_date) AS max_arrest_date,\n",
    "        MIN(arrest_date) AS min_arrest_date,\n",
    "        COUNT(*) AS total_records\n",
    "    FROM\n",
    "        arrest_data\n",
    "    GROUP BY\n",
    "        sex, race\n",
    "\"\"\")\n",
    "print('The table allows us to compare and contrast different demographic groups based on their average geographical location, arrest date ranges, and arrest volumes.')\n",
    "# Show the result\n",
    "result.show()"
   ]
  },
  {
   "cell_type": "markdown",
   "id": "e532ee13-da5e-40b9-993f-78b127565f78",
   "metadata": {},
   "source": [
    "### 9. Geographical Distribution "
   ]
  },
  {
   "cell_type": "markdown",
   "id": "6944ce49-2b7b-4ece-9562-6ea9121538d6",
   "metadata": {},
   "source": [
    "#### Notes for findings and Visualiszations: \n",
    "\n",
    "\n",
    "Key Insights:\r\n",
    "Location Information:\r\n",
    "\r\n",
    "The table includes the average longitude and latitude values for each gender and racial or ethnic category, providing an indication of the central location associated with arrests.\r\n",
    "Arrest Counts (arrest_count):\r\n",
    "\r\n",
    "Indicates the total number of arrests for each combination of gender and race.\r\n",
    "The table is ordered by the arrest count in descending order.\r\n",
    "Observations:\r\n",
    "Dominant Contributors to Arrests:\r\n",
    "\r\n",
    "The table shows which gender and racial or ethnic categories contribute the most to the total arrest count.\r\n",
    "In this example, Hispanic or Latino males have the highest average arrest count, followed by white males and black males.\r\n",
    "Geographical Context:\r\n",
    "\r\n",
    "The average longitude and latitude values provide an approximate central location associated with arrests for each demogr\n",
    "aInterpretation \n",
    "Hispanic or Latino Males (sex=M, race=HISPANIC OR LATINO):\r\n",
    "\r\n",
    "Highest average arrest count.\r\n",
    "Associated with a specific geographical location, characterized by an average longitude of approximately 7.40 and an average latitude of approximately 85.78.\r\n",
    "White Males (sex=M, race=WHITE):\r\n",
    "\r\n",
    "Second-highest average arrest count.\r\n",
    "Associated with a different geographical location, characterized by an average longitude of approximately 7.41 and an average latitude of approximately 85.80.\r\n",
    "Black Males (sex=M, race=BLACK):\r\n",
    "\r\n",
    "Third-highest average arrest count.\r\n",
    "Associated with another geographical location, characterized by an average longitude of approximately 7.77 and an average latitude of approximately 85.78.\r\n",
    "Considerations:\r\n",
    "Spatial Distribution:\r\n",
    "\r\n",
    "The table allows for an exploration of the spatial distribution of arrests, highlighting areas where certain demographic groups are more frequently arrested.\r\n",
    "Potential Hotspots:\r\n",
    "\r\n",
    "Areas with higher average arrest counts may indicate potential hotspots for law enforcement activities related to specific demographic categories.\r\n",
    "Limitations:\r\n",
    "Geographical Precision:\r\n",
    "\r\n",
    "The provided averages represent central points and might not accurately capture the spatial variability within a demographic category.\r\n",
    "Context and External Factors:\r\n",
    "\r\n",
    "The analysis is based solely on arrest counts and geographical averages, and external factors influencing arrest locations are not considered here.\r\n",
    "This table serves as a tool for understanding the geographical distribution of arrests across different demographic categories, offering insights into potential patterns and disparities in law enforcement activities.ic category.\r\n",
    "Ex"
   ]
  },
  {
   "cell_type": "code",
   "execution_count": null,
   "id": "e45e8345-e008-4f78-994b-52d91d03b9cc",
   "metadata": {},
   "outputs": [],
   "source": [
    "result_location = spark.sql(\"\"\"\n",
    "    SELECT\n",
    "        sex,\n",
    "        race,\n",
    "        AVG(lng) AS avg_lng,\n",
    "        AVG(lat) AS avg_lat,\n",
    "        COUNT(*) AS arrest_count\n",
    "    FROM\n",
    "        arrest_data\n",
    "    GROUP BY\n",
    "        sex, race\n",
    "    ORDER BY\n",
    "        arrest_count DESC\n",
    "\"\"\")\n",
    "\n",
    "result_location.show()"
   ]
  },
  {
   "cell_type": "markdown",
   "id": "a225956e-dfd6-496a-b5c2-eb985aa03643",
   "metadata": {},
   "source": [
    "### 10. highlighting the count and percentage of arrests based on 'sex' and 'race'"
   ]
  },
  {
   "cell_type": "markdown",
   "id": "4277bccd-8114-42e2-b625-91f3a3fb38b9",
   "metadata": {},
   "source": [
    "#### Notes for findings and Visualiszations: \n",
    "Hispanic or Latino Males:\r\n",
    "\r\n",
    "Males of Hispanic or Latino ethnicity contribute the highest percentage (32.86%) to the total arrest count, indicating a significant presence in the dataset.\r\n",
    "White and Black Males:\r\n",
    "\r\n",
    "White males (22.71%) and black males (18.62%) are the next two significant contributors to the total arrest count.\r\n",
    "Gender Disparities:\r\n",
    "\r\n",
    "The table provides insights into potential gender disparities in arrests, with a breakdown of contributions from both males and females.\r\n",
    "Considerations:\r\n",
    "Limitations:\r\n",
    "\r\n",
    "The analysis is based on the available data and may not capture the entire context of arrests. Further exploration and context-specific knowledge may be needed.\r\n",
    "Policy and Social Implications:\r\n",
    "\r\n",
    "Discussions around the percentages can lead to considerations of policy implications and potential areas for further examination of law enforcement practices.\r\n",
    "This table serves as a summary of the distribution of arrests across different demographic categories, offering insights into the relative contributions of each group to the overall arrest count."
   ]
  },
  {
   "cell_type": "code",
   "execution_count": null,
   "id": "32a15ae2-18af-4554-a9bd-a508a1f5e0f1",
   "metadata": {},
   "outputs": [],
   "source": [
    "result_with_percentages = spark.sql(\"\"\"\n",
    "    SELECT\n",
    "        sex,\n",
    "        race,\n",
    "        COUNT(*) AS arrest_count,\n",
    "        (COUNT(*) / SUM(COUNT(*)) OVER ()) * 100 AS arrest_percentage\n",
    "    FROM\n",
    "        arrest_data\n",
    "    GROUP BY\n",
    "        sex, race\n",
    "    ORDER BY\n",
    "        arrest_count DESC\n",
    "\"\"\")\n",
    "\n",
    "result_with_percentages.show()"
   ]
  },
  {
   "cell_type": "markdown",
   "id": "171144a7-260d-4042-b21e-085cda8b256b",
   "metadata": {},
   "source": [
    "#### 11. Percentage by year"
   ]
  },
  {
   "cell_type": "markdown",
   "id": "b4bb4a5b-d734-48d0-984d-99e4a81b3baf",
   "metadata": {},
   "source": [
    "#### Notes for findings and Visualiszations: \n",
    "\n",
    "This table serves as a valuable tool for understanding how arrests are distributed across gender and racial or ethnic categories over multiple years, offering insights into potential trends or shifts in law enforcement practices.\n",
    "\n",
    "\n",
    "Yearly Distribution:\r\n",
    "\r\n",
    "The table is segmented by arrest year, providing insights into changes in arrest patterns over time.\r\n",
    "Dominant Contributors Each Year:\r\n",
    "\r\n",
    "For each year, the table shows which gender and racial or ethnic categories contribute the most to the total arrest c\n",
    "\n",
    "##### Considerations:\n",
    "Yearly Trends:\r\n",
    "\r\n",
    "The table facilitates the examination of trends in arrests over time, providing insights into whether certain demographic categories consistently contribute more to arrests or if there are variations.\r\n",
    "Potential Changes in Enforcement:\r\n",
    "\r\n",
    "Substantial changes in percentages from one year to the next might indicate shifts in law enforcement priorities, policies, or practices.\r\n",
    "Intersectionality:\r\n",
    "\r\n",
    "The intersection of gender and race allows for a nuanced understanding of arrest patterns, considering the unique experiences of different demographic groups.ount."
   ]
  },
  {
   "cell_type": "code",
   "execution_count": null,
   "id": "554a1b25-0a0a-42e3-a0b0-534ac91657af",
   "metadata": {
    "scrolled": true
   },
   "outputs": [],
   "source": [
    "result_by_year = spark.sql(\"\"\"\n",
    "    SELECT\n",
    "        sex,\n",
    "        race,\n",
    "        YEAR(arrest_date) AS arrest_year,\n",
    "        COUNT(*) AS arrest_count,\n",
    "        (COUNT(*) / SUM(COUNT(*)) OVER (PARTITION BY YEAR(arrest_date))) * 100 AS arrest_percentage\n",
    "    FROM\n",
    "        arrest_data\n",
    "    GROUP BY\n",
    "        sex, race, arrest_year\n",
    "    ORDER BY\n",
    "        arrest_year, arrest_count DESC\n",
    "\"\"\")\n",
    "\n",
    "result_by_year.show(truncate=False)"
   ]
  },
  {
   "cell_type": "code",
   "execution_count": 28,
   "id": "8db45024-a889-4ba4-a724-e09854e27436",
   "metadata": {},
   "outputs": [],
   "source": [
    "# Convert Spark DataFrame to Pandas DataFrame\n",
    "pandas_df = df.toPandas()\n",
    "\n",
    "# Save Pandas DataFrame as JSON file\n",
    "pandas_df.to_json('austinArrests.json', orient='records', lines=True)\n"
   ]
  },
  {
   "cell_type": "code",
   "execution_count": null,
   "id": "4d81295b-f213-4204-ba3e-0b893a6dc37d",
   "metadata": {},
   "outputs": [],
   "source": []
  }
 ],
 "metadata": {
  "kernelspec": {
   "display_name": "Python 3 (ipykernel)",
   "language": "python",
   "name": "python3"
  },
  "language_info": {
   "codemirror_mode": {
    "name": "ipython",
    "version": 3
   },
   "file_extension": ".py",
   "mimetype": "text/x-python",
   "name": "python",
   "nbconvert_exporter": "python",
   "pygments_lexer": "ipython3",
   "version": "3.10.13"
  }
 },
 "nbformat": 4,
 "nbformat_minor": 5
}
