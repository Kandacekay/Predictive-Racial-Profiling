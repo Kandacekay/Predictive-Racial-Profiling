{
 "cells": [
  {
   "cell_type": "code",
   "execution_count": 1,
   "id": "f2f2b10d-6620-40a4-9fe6-92048a20bca8",
   "metadata": {
    "tags": []
   },
   "outputs": [
    {
     "name": "stdout",
     "output_type": "stream",
     "text": [
      "Requirement already satisfied: openpyxl in c:\\users\\drenaline\\anaconda3\\envs\\dev\\lib\\site-packages (3.1.2)\n",
      "Requirement already satisfied: et-xmlfile in c:\\users\\drenaline\\anaconda3\\envs\\dev\\lib\\site-packages (from openpyxl) (1.1.0)\n"
     ]
    }
   ],
   "source": [
    "import pandas as pd\n",
    "!pip install openpyxl"
   ]
  },
  {
   "cell_type": "code",
   "execution_count": 2,
   "id": "d89bb276-517e-4b08-91ee-4fcca20dbbcb",
   "metadata": {
    "tags": []
   },
   "outputs": [
    {
     "name": "stdout",
     "output_type": "stream",
     "text": [
      "Failed to process 2015_Racial_Profiling_Arrests_20231116.csv: name 'df' is not defined\n",
      "Failed to process 2016_RP_Arrests_20231116.csv: name 'df' is not defined\n",
      "Failed to process 2017_Racial_Profiling_Arrests_20231116.csv: name 'df' is not defined\n",
      "Failed to process 2018_RP_Arrests_20231116.csv: name 'df' is not defined\n",
      "Failed to process 2019_Racial_Profiling__RP__Arrests_20231116.csv: name 'df' is not defined\n",
      "Failed to process 2020_Racial_Profiling__RP__dataset_20231113.csv: name 'df' is not defined\n",
      "No files were processed.\n"
     ]
    }
   ],
   "source": [
    "import os\n",
    "\n",
    "folder_path = 'C:/Users/Drenaline/Documents/Project 4 Idea/Racial Profiling'\n",
    "dataframes = []\n",
    "\n",
    "for filename in os.listdir(folder_path):\n",
    "    try:\n",
    "        if filename.endswith('.xlsx') or filename.endswith('.csv'):\n",
    "            file_path = os.path.join(folder_path, filename)\n",
    "            \n",
    "            if filename.endswith('.xlsx'):\n",
    "                combined_data_df = pd.read_excel(file_path)\n",
    "            else:\n",
    "                combined_data_df = pd.read_csv(file_path)\n",
    "\n",
    "            dataframes.append(df)\n",
    "    except Exception as e:\n",
    "        print(f\"Failed to process {filename}: {e}\")\n",
    "\n",
    "if dataframes:\n",
    "    combined_data = pd.concat(dataframes, ignore_index=True)\n",
    "    combined_data.to_excel(os.path.join(folder_path, 'CombinedData.xlsx'), index=False)\n",
    "else:\n",
    "    print(\"No files were processed.\")"
   ]
  },
  {
   "cell_type": "code",
   "execution_count": 3,
   "id": "22779597-01a8-4521-b09f-aec0c9afcba6",
   "metadata": {
    "tags": []
   },
   "outputs": [
    {
     "name": "stdout",
     "output_type": "stream",
     "text": [
      "                     Stop Date Stop Time TCOLE Sex    TCOLE RACE ETHNICITY  \\\n",
      "0      2020-03-08T00:00:00.000      2242         F  ASIAN/PACIFIC ISLANDER   \n",
      "1      2020-07-12T00:00:00.000      0118         F  ASIAN/PACIFIC ISLANDER   \n",
      "2      2020-08-22T00:00:00.000      0053         F  ASIAN/PACIFIC ISLANDER   \n",
      "3      2020-04-11T00:00:00.000      1523         F  ASIAN/PACIFIC ISLANDER   \n",
      "4      2020-10-10T00:00:00.000      0002         F  ASIAN/PACIFIC ISLANDER   \n",
      "...                        ...       ...       ...                     ...   \n",
      "68547  2020-04-17T00:00:00.000      2047         M                   WHITE   \n",
      "68548  2020-01-07T00:00:00.000      2117         U  ASIAN/PACIFIC ISLANDER   \n",
      "68549  2020-01-07T00:00:00.000      2134         U  ASIAN/PACIFIC ISLANDER   \n",
      "68550  2020-01-07T00:00:00.000      2153         U  ASIAN/PACIFIC ISLANDER   \n",
      "68551  2020-12-27T00:00:00.000      1444         U                   WHITE   \n",
      "\n",
      "                                Standardized Race Known  \\\n",
      "0      NO - RACE OR ETHNICITY WAS NOT KNOWN BEFORE STOP   \n",
      "1      NO - RACE OR ETHNICITY WAS NOT KNOWN BEFORE STOP   \n",
      "2      NO - RACE OR ETHNICITY WAS NOT KNOWN BEFORE STOP   \n",
      "3      NO - RACE OR ETHNICITY WAS NOT KNOWN BEFORE STOP   \n",
      "4      NO - RACE OR ETHNICITY WAS NOT KNOWN BEFORE STOP   \n",
      "...                                                 ...   \n",
      "68547     YES - RACE OR ETHNICITY WAS KNOWN BEFORE STOP   \n",
      "68548  NO - RACE OR ETHNICITY WAS NOT KNOWN BEFORE STOP   \n",
      "68549  NO - RACE OR ETHNICITY WAS NOT KNOWN BEFORE STOP   \n",
      "68550  NO - RACE OR ETHNICITY WAS NOT KNOWN BEFORE STOP   \n",
      "68551  NO - RACE OR ETHNICITY WAS NOT KNOWN BEFORE STOP   \n",
      "\n",
      "                           Reason for Stop Search Yes or No  \\\n",
      "0                 Moving Traffic Violation          YES = 1   \n",
      "1                 Moving Traffic Violation          YES = 1   \n",
      "2                 Moving Traffic Violation          YES = 1   \n",
      "3      Violation of law other than traffic          YES = 1   \n",
      "4      Violation of law other than traffic          YES = 1   \n",
      "...                                    ...              ...   \n",
      "68547  Violation of law other than traffic          YES = 1   \n",
      "68548             Moving Traffic Violation           NO = 2   \n",
      "68549             Moving Traffic Violation           NO = 2   \n",
      "68550             Moving Traffic Violation           NO = 2   \n",
      "68551  Violation of law other than traffic           NO = 2   \n",
      "\n",
      "      TCOLE Search Found Standardized Race X_COORDINATE Y_COORDINATE  \n",
      "0                  DRUGS             ASIAN      3124702     10075981  \n",
      "1                NOTHING             ASIAN      3104801     10047593  \n",
      "2                  OTHER             ASIAN      3112312     10051985  \n",
      "3                NOTHING    MIDDLE EASTERN      3121013     10051175  \n",
      "4                NOTHING             ASIAN      3113257     10078810  \n",
      "...                  ...               ...          ...          ...  \n",
      "68547            NOTHING             WHITE      3135053     10119764  \n",
      "68548          No Search    MIDDLE EASTERN      3099309     10153315  \n",
      "68549          No Search    MIDDLE EASTERN      3099309     10153315  \n",
      "68550          No Search    MIDDLE EASTERN      3099305     10153252  \n",
      "68551          No Search             WHITE      3105026     10071706  \n",
      "\n",
      "[68552 rows x 11 columns]\n"
     ]
    }
   ],
   "source": [
    "print(combined_data_df)"
   ]
  },
  {
   "cell_type": "code",
   "execution_count": 5,
   "id": "87b98d77-8b8e-4b0e-add1-7dfc4fd8863d",
   "metadata": {
    "tags": []
   },
   "outputs": [],
   "source": [
    "combined_data_df.to_csv('Combined_Arrest_Data_2015-2020.csv', index=False)"
   ]
  }
 ],
 "metadata": {
  "kernelspec": {
   "display_name": "Python 3 (ipykernel)",
   "language": "python",
   "name": "python3"
  },
  "language_info": {
   "codemirror_mode": {
    "name": "ipython",
    "version": 3
   },
   "file_extension": ".py",
   "mimetype": "text/x-python",
   "name": "python",
   "nbconvert_exporter": "python",
   "pygments_lexer": "ipython3",
   "version": "3.10.13"
  }
 },
 "nbformat": 4,
 "nbformat_minor": 5
}
