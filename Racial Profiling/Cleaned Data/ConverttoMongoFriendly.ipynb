{
 "cells": [
  {
   "cell_type": "code",
   "execution_count": 3,
   "id": "0feb1070-541f-425b-83d7-bc78b6278921",
   "metadata": {
    "tags": []
   },
   "outputs": [],
   "source": [
    "#convering my file to json then to a file to allow for data pulling!\n",
    "import pandas as pd\n",
    "\n",
    "file_path = 'C:/Users/Drenaline/Documents/Project 4 Idea/Racial Profiling/Combined_Arrest_Data_2015-2020.csv'\n",
    "combined_data_df = pd.read_csv(file_path)\n",
    "json_data = combined_data_df.to_json(orient='records', lines=True)\n",
    "\n",
    "# Save the JSON data to a file\n",
    "with open('data.json', 'w') as file:\n",
    "    file.write(json_data)"
   ]
  },
  {
   "cell_type": "code",
   "execution_count": null,
   "id": "97f82fb4-739b-4622-80cd-fda7251f85bb",
   "metadata": {},
   "outputs": [],
   "source": []
  }
 ],
 "metadata": {
  "kernelspec": {
   "display_name": "Python 3 (ipykernel)",
   "language": "python",
   "name": "python3"
  },
  "language_info": {
   "codemirror_mode": {
    "name": "ipython",
    "version": 3
   },
   "file_extension": ".py",
   "mimetype": "text/x-python",
   "name": "python",
   "nbconvert_exporter": "python",
   "pygments_lexer": "ipython3",
   "version": "3.10.13"
  }
 },
 "nbformat": 4,
 "nbformat_minor": 5
}
