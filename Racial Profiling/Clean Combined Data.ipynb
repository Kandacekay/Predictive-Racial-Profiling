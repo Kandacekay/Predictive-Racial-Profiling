{
 "cells": [
  {
   "cell_type": "code",
   "execution_count": 1,
   "id": "d004b3b9-1483-476c-ba76-22e1bd96b65a",
   "metadata": {
    "tags": []
   },
   "outputs": [],
   "source": [
    "import pandas as pd"
   ]
  },
  {
   "cell_type": "code",
   "execution_count": 3,
   "id": "c391df1b-ada9-4785-b309-07c1a7bfd099",
   "metadata": {
    "tags": []
   },
   "outputs": [
    {
     "ename": "KeyError",
     "evalue": "'Stop Date'",
     "output_type": "error",
     "traceback": [
      "\u001b[1;31m---------------------------------------------------------------------------\u001b[0m",
      "\u001b[1;31mKeyError\u001b[0m                                  Traceback (most recent call last)",
      "File \u001b[1;32m~\\anaconda3\\envs\\dev\\lib\\site-packages\\pandas\\core\\indexes\\base.py:3790\u001b[0m, in \u001b[0;36mIndex.get_loc\u001b[1;34m(self, key)\u001b[0m\n\u001b[0;32m   3789\u001b[0m \u001b[38;5;28;01mtry\u001b[39;00m:\n\u001b[1;32m-> 3790\u001b[0m     \u001b[38;5;28;01mreturn\u001b[39;00m \u001b[38;5;28;43mself\u001b[39;49m\u001b[38;5;241;43m.\u001b[39;49m\u001b[43m_engine\u001b[49m\u001b[38;5;241;43m.\u001b[39;49m\u001b[43mget_loc\u001b[49m\u001b[43m(\u001b[49m\u001b[43mcasted_key\u001b[49m\u001b[43m)\u001b[49m\n\u001b[0;32m   3791\u001b[0m \u001b[38;5;28;01mexcept\u001b[39;00m \u001b[38;5;167;01mKeyError\u001b[39;00m \u001b[38;5;28;01mas\u001b[39;00m err:\n",
      "File \u001b[1;32mindex.pyx:152\u001b[0m, in \u001b[0;36mpandas._libs.index.IndexEngine.get_loc\u001b[1;34m()\u001b[0m\n",
      "File \u001b[1;32mindex.pyx:181\u001b[0m, in \u001b[0;36mpandas._libs.index.IndexEngine.get_loc\u001b[1;34m()\u001b[0m\n",
      "File \u001b[1;32mpandas\\_libs\\hashtable_class_helper.pxi:7080\u001b[0m, in \u001b[0;36mpandas._libs.hashtable.PyObjectHashTable.get_item\u001b[1;34m()\u001b[0m\n",
      "File \u001b[1;32mpandas\\_libs\\hashtable_class_helper.pxi:7088\u001b[0m, in \u001b[0;36mpandas._libs.hashtable.PyObjectHashTable.get_item\u001b[1;34m()\u001b[0m\n",
      "\u001b[1;31mKeyError\u001b[0m: 'Stop Date'",
      "\nThe above exception was the direct cause of the following exception:\n",
      "\u001b[1;31mKeyError\u001b[0m                                  Traceback (most recent call last)",
      "Cell \u001b[1;32mIn[3], line 4\u001b[0m\n\u001b[0;32m      2\u001b[0m file_path \u001b[38;5;241m=\u001b[39m \u001b[38;5;124m'\u001b[39m\u001b[38;5;124mC:/Users/Drenaline/Documents/Project 4 Idea/Racial Profiling/Combined_Arrest_Data_2015-2020.csv\u001b[39m\u001b[38;5;124m'\u001b[39m\n\u001b[0;32m      3\u001b[0m combined_data_df \u001b[38;5;241m=\u001b[39m pd\u001b[38;5;241m.\u001b[39mread_csv(file_path)\n\u001b[1;32m----> 4\u001b[0m combined_data_df[\u001b[38;5;124m'\u001b[39m\u001b[38;5;124mStop Date\u001b[39m\u001b[38;5;124m'\u001b[39m] \u001b[38;5;241m=\u001b[39m pd\u001b[38;5;241m.\u001b[39mto_datetime(\u001b[43mcombined_data_df\u001b[49m\u001b[43m[\u001b[49m\u001b[38;5;124;43m'\u001b[39;49m\u001b[38;5;124;43mStop Date\u001b[39;49m\u001b[38;5;124;43m'\u001b[39;49m\u001b[43m]\u001b[49m)\n\u001b[0;32m      6\u001b[0m \u001b[38;5;66;03m# Format it to MM/DD/YYYY\u001b[39;00m\n\u001b[0;32m      7\u001b[0m combined_data_df[\u001b[38;5;124m'\u001b[39m\u001b[38;5;124mStop Date\u001b[39m\u001b[38;5;124m'\u001b[39m] \u001b[38;5;241m=\u001b[39m combined_data_df[\u001b[38;5;124m'\u001b[39m\u001b[38;5;124mStop Date\u001b[39m\u001b[38;5;124m'\u001b[39m]\u001b[38;5;241m.\u001b[39mdt\u001b[38;5;241m.\u001b[39mstrftime(\u001b[38;5;124m'\u001b[39m\u001b[38;5;124m%\u001b[39m\u001b[38;5;124mm/\u001b[39m\u001b[38;5;132;01m%d\u001b[39;00m\u001b[38;5;124m/\u001b[39m\u001b[38;5;124m%\u001b[39m\u001b[38;5;124mY\u001b[39m\u001b[38;5;124m'\u001b[39m)\n",
      "File \u001b[1;32m~\\anaconda3\\envs\\dev\\lib\\site-packages\\pandas\\core\\frame.py:3893\u001b[0m, in \u001b[0;36mDataFrame.__getitem__\u001b[1;34m(self, key)\u001b[0m\n\u001b[0;32m   3891\u001b[0m \u001b[38;5;28;01mif\u001b[39;00m \u001b[38;5;28mself\u001b[39m\u001b[38;5;241m.\u001b[39mcolumns\u001b[38;5;241m.\u001b[39mnlevels \u001b[38;5;241m>\u001b[39m \u001b[38;5;241m1\u001b[39m:\n\u001b[0;32m   3892\u001b[0m     \u001b[38;5;28;01mreturn\u001b[39;00m \u001b[38;5;28mself\u001b[39m\u001b[38;5;241m.\u001b[39m_getitem_multilevel(key)\n\u001b[1;32m-> 3893\u001b[0m indexer \u001b[38;5;241m=\u001b[39m \u001b[38;5;28;43mself\u001b[39;49m\u001b[38;5;241;43m.\u001b[39;49m\u001b[43mcolumns\u001b[49m\u001b[38;5;241;43m.\u001b[39;49m\u001b[43mget_loc\u001b[49m\u001b[43m(\u001b[49m\u001b[43mkey\u001b[49m\u001b[43m)\u001b[49m\n\u001b[0;32m   3894\u001b[0m \u001b[38;5;28;01mif\u001b[39;00m is_integer(indexer):\n\u001b[0;32m   3895\u001b[0m     indexer \u001b[38;5;241m=\u001b[39m [indexer]\n",
      "File \u001b[1;32m~\\anaconda3\\envs\\dev\\lib\\site-packages\\pandas\\core\\indexes\\base.py:3797\u001b[0m, in \u001b[0;36mIndex.get_loc\u001b[1;34m(self, key)\u001b[0m\n\u001b[0;32m   3792\u001b[0m     \u001b[38;5;28;01mif\u001b[39;00m \u001b[38;5;28misinstance\u001b[39m(casted_key, \u001b[38;5;28mslice\u001b[39m) \u001b[38;5;129;01mor\u001b[39;00m (\n\u001b[0;32m   3793\u001b[0m         \u001b[38;5;28misinstance\u001b[39m(casted_key, abc\u001b[38;5;241m.\u001b[39mIterable)\n\u001b[0;32m   3794\u001b[0m         \u001b[38;5;129;01mand\u001b[39;00m \u001b[38;5;28many\u001b[39m(\u001b[38;5;28misinstance\u001b[39m(x, \u001b[38;5;28mslice\u001b[39m) \u001b[38;5;28;01mfor\u001b[39;00m x \u001b[38;5;129;01min\u001b[39;00m casted_key)\n\u001b[0;32m   3795\u001b[0m     ):\n\u001b[0;32m   3796\u001b[0m         \u001b[38;5;28;01mraise\u001b[39;00m InvalidIndexError(key)\n\u001b[1;32m-> 3797\u001b[0m     \u001b[38;5;28;01mraise\u001b[39;00m \u001b[38;5;167;01mKeyError\u001b[39;00m(key) \u001b[38;5;28;01mfrom\u001b[39;00m \u001b[38;5;21;01merr\u001b[39;00m\n\u001b[0;32m   3798\u001b[0m \u001b[38;5;28;01mexcept\u001b[39;00m \u001b[38;5;167;01mTypeError\u001b[39;00m:\n\u001b[0;32m   3799\u001b[0m     \u001b[38;5;66;03m# If we have a listlike key, _check_indexing_error will raise\u001b[39;00m\n\u001b[0;32m   3800\u001b[0m     \u001b[38;5;66;03m#  InvalidIndexError. Otherwise we fall through and re-raise\u001b[39;00m\n\u001b[0;32m   3801\u001b[0m     \u001b[38;5;66;03m#  the TypeError.\u001b[39;00m\n\u001b[0;32m   3802\u001b[0m     \u001b[38;5;28mself\u001b[39m\u001b[38;5;241m.\u001b[39m_check_indexing_error(key)\n",
      "\u001b[1;31mKeyError\u001b[0m: 'Stop Date'"
     ]
    }
   ],
   "source": [
    "#loading the good ole CSV file\n",
    "file_path = 'C:/Users/Drenaline/Documents/Project 4 Idea/Racial Profiling/Combined_Arrest_Data_2015-2020.csv'\n",
    "combined_data_df = pd.read_csv(file_path)\n",
    "combined_data_df['Stop Date'] = pd.to_datetime(combined_data_df['Stop Date'])\n",
    "\n",
    "# Format it to MM/DD/YYYY\n",
    "combined_data_df['Stop Date'] = combined_data_df['Stop Date'].dt.strftime('%m/%d/%Y')\n"
   ]
  },
  {
   "cell_type": "code",
   "execution_count": null,
   "id": "aadf88b6-6dd7-4b24-9345-6413de0fc2b0",
   "metadata": {
    "tags": []
   },
   "outputs": [],
   "source": [
    "print(combined_data_df.head())"
   ]
  },
  {
   "cell_type": "code",
   "execution_count": null,
   "id": "215cd6bd-2033-4c5b-9970-629bc5542f39",
   "metadata": {
    "tags": []
   },
   "outputs": [],
   "source": [
    "#didn't work the datetime way trying an alternative & keep the main sheet accidentally overrode the previous now have saved backup files of it\n",
    "\n",
    "def convert_time(time_str):\n",
    "    if pd.isna(time_str) or time_str in ['', ' ', 'NaN']:\n",
    "        return None\n",
    "    # Ensure the string is of length 4 by padding with leading zeros if necessary\n",
    "    time_str = time_str.zfill(4)\n",
    "    # Parse hours and minutes\n",
    "    hour, minute = int(time_str[:2]), int(time_str[2:])\n",
    "    # Format time into 'HH:MM AM/PM'\n",
    "    return f\"{hour % 12 or 12}:{minute:02d} {'AM' if hour < 12 else 'PM'}\"\n",
    "\n",
    "# Apply the conversion function only to the 'Stop Time' column\n",
    "combined_data_df['Stop Time'] = combined_data_df['Stop Time'].apply(convert_time)\n",
    "\n",
    "# Display the modified DataFrame\n",
    "print(combined_data_df)"
   ]
  },
  {
   "cell_type": "code",
   "execution_count": null,
   "id": "cfb55c9e-2d1e-45c3-a0ad-bdaf9e801109",
   "metadata": {
    "tags": []
   },
   "outputs": [],
   "source": [
    "print(combined_data_df.head())"
   ]
  },
  {
   "cell_type": "code",
   "execution_count": 6,
   "id": "4b894e5b-ce1e-4d8e-a451-85876b65d637",
   "metadata": {
    "tags": []
   },
   "outputs": [
    {
     "name": "stdout",
     "output_type": "stream",
     "text": [
      "  Arrest Date Arrest Time Sex          Race Ethnicity  \\\n",
      "0  03/08/2020    10:42 PM   F  ASIAN/PACIFIC ISLANDER   \n",
      "1  07/12/2020     1:18 AM   F  ASIAN/PACIFIC ISLANDER   \n",
      "2  08/22/2020    12:53 AM   F  ASIAN/PACIFIC ISLANDER   \n",
      "3  04/11/2020     3:23 PM   F  ASIAN/PACIFIC ISLANDER   \n",
      "4  10/10/2020    12:02 AM   F  ASIAN/PACIFIC ISLANDER   \n",
      "\n",
      "                            Standardized Race Known  \\\n",
      "0  NO - RACE OR ETHNICITY WAS NOT KNOWN BEFORE STOP   \n",
      "1  NO - RACE OR ETHNICITY WAS NOT KNOWN BEFORE STOP   \n",
      "2  NO - RACE OR ETHNICITY WAS NOT KNOWN BEFORE STOP   \n",
      "3  NO - RACE OR ETHNICITY WAS NOT KNOWN BEFORE STOP   \n",
      "4  NO - RACE OR ETHNICITY WAS NOT KNOWN BEFORE STOP   \n",
      "\n",
      "                       Reason for Stop Search Yes or No Result of Search  \\\n",
      "0             Moving Traffic Violation          YES = 1            DRUGS   \n",
      "1             Moving Traffic Violation          YES = 1          NOTHING   \n",
      "2             Moving Traffic Violation          YES = 1            OTHER   \n",
      "3  Violation of law other than traffic          YES = 1          NOTHING   \n",
      "4  Violation of law other than traffic          YES = 1          NOTHING   \n",
      "\n",
      "  Standardized Race X_COORDINATE Y_COORDINATE  \n",
      "0             ASIAN      3124702     10075981  \n",
      "1             ASIAN      3104801     10047593  \n",
      "2             ASIAN      3112312     10051985  \n",
      "3    MIDDLE EASTERN      3121013     10051175  \n",
      "4             ASIAN      3113257     10078810  \n"
     ]
    }
   ],
   "source": [
    "#Time to Rename Some Columns\n",
    "\n",
    "combined_data_df.rename(columns={\n",
    "    'Stop Date': 'Arrest Date',\n",
    "    'Stop Time': 'Arrest Time',\n",
    "    'TCOLE Sex': 'Sex',\n",
    "    'TCOLE RACE ETHNICITY': 'Race Ethnicity',\n",
    "    'TCOLE Search Found': 'Result of Search'\n",
    "}, inplace=True)\n",
    "\n",
    "#check renaming to verify changes \n",
    "print(combined_data_df.head())"
   ]
  },
  {
   "cell_type": "code",
   "execution_count": 4,
   "id": "a61b1fee-76c0-4133-9ccf-1de2cd6fae7d",
   "metadata": {
    "tags": []
   },
   "outputs": [],
   "source": [
    "# Sort the DataFrame by the 'Arrest Date' column in ascending order (oldest to newest)\n",
    "combined_data_df.sort_values(by='Arrest Date', ascending=True, inplace=True)\n",
    "\n",
    "# Reset the index to reflect the new order\n",
    "combined_data_df.reset_index(drop=True, inplace=True)"
   ]
  },
  {
   "cell_type": "code",
   "execution_count": 5,
   "id": "227de7f6-e84d-488a-82f5-5ac989a73a86",
   "metadata": {
    "tags": []
   },
   "outputs": [
    {
     "name": "stdout",
     "output_type": "stream",
     "text": [
      "  Arrest Date Arrest Time Sex   Race or Ethnicity  \\\n",
      "0    1/1/2020     8:49 AM   M               WHITE   \n",
      "1    1/1/2020     1:27 PM   F               WHITE   \n",
      "2    1/1/2020    11:18 AM   M  HISPANIC OR LATINO   \n",
      "3    1/1/2020     1:39 PM   F               WHITE   \n",
      "4    1/1/2020    11:33 AM   M  HISPANIC OR LATINO   \n",
      "\n",
      "                            Standardized Race Known           Reason for Stop  \\\n",
      "0  NO - RACE OR ETHNICITY WAS NOT KNOWN BEFORE STOP  Moving Traffic Violation   \n",
      "1  NO - RACE OR ETHNICITY WAS NOT KNOWN BEFORE STOP  Moving Traffic Violation   \n",
      "2  NO - RACE OR ETHNICITY WAS NOT KNOWN BEFORE STOP  Moving Traffic Violation   \n",
      "3  NO - RACE OR ETHNICITY WAS NOT KNOWN BEFORE STOP  Moving Traffic Violation   \n",
      "4  NO - RACE OR ETHNICITY WAS NOT KNOWN BEFORE STOP  Moving Traffic Violation   \n",
      "\n",
      "  Search Yes or No Result of Search   Standardized Race X_COORDINATE  \\\n",
      "0           NO = 2        No Search               WHITE      3125333   \n",
      "1           NO = 2        No Search               WHITE      3094826   \n",
      "2           NO = 2        No Search  HISPANIC OR LATINO          NaN   \n",
      "3           NO = 2        No Search               WHITE      3094826   \n",
      "4           NO = 2        No Search  HISPANIC OR LATINO          NaN   \n",
      "\n",
      "  Y_COORDINATE  \n",
      "0     10092434  \n",
      "1     10144783  \n",
      "2          NaN  \n",
      "3     10144783  \n",
      "4          NaN  \n"
     ]
    }
   ],
   "source": [
    "print(combined_data_df.head())"
   ]
  },
  {
   "cell_type": "code",
   "execution_count": 11,
   "id": "44623f91-9efb-40ba-9cb1-5f8872f50106",
   "metadata": {
    "tags": []
   },
   "outputs": [
    {
     "name": "stdout",
     "output_type": "stream",
     "text": [
      "  Arrest Date Arrest Time Sex   Race or Ethnicity  \\\n",
      "0    1/1/2020     8:49 AM   M               WHITE   \n",
      "1    1/1/2020     1:27 PM   F               WHITE   \n",
      "2    1/1/2020    11:18 AM   M  HISPANIC OR LATINO   \n",
      "3    1/1/2020     1:39 PM   F               WHITE   \n",
      "4    1/1/2020    11:33 AM   M  HISPANIC OR LATINO   \n",
      "\n",
      "                            Standardized Race Known           Reason for Stop  \\\n",
      "0  NO - RACE OR ETHNICITY WAS NOT KNOWN BEFORE STOP  Moving Traffic Violation   \n",
      "1  NO - RACE OR ETHNICITY WAS NOT KNOWN BEFORE STOP  Moving Traffic Violation   \n",
      "2  NO - RACE OR ETHNICITY WAS NOT KNOWN BEFORE STOP  Moving Traffic Violation   \n",
      "3  NO - RACE OR ETHNICITY WAS NOT KNOWN BEFORE STOP  Moving Traffic Violation   \n",
      "4  NO - RACE OR ETHNICITY WAS NOT KNOWN BEFORE STOP  Moving Traffic Violation   \n",
      "\n",
      "  Search Yes or No Result of Search   Standardized Race  X_COORDINATE  \\\n",
      "0           NO = 2        No Search               WHITE     3125333.0   \n",
      "1           NO = 2        No Search               WHITE     3094826.0   \n",
      "2           NO = 2        No Search  HISPANIC OR LATINO           NaN   \n",
      "3           NO = 2        No Search               WHITE     3094826.0   \n",
      "4           NO = 2        No Search  HISPANIC OR LATINO           NaN   \n",
      "\n",
      "   Y_COORDINATE    Lat   Lon  \n",
      "0    10092434.0  10.09  3.13  \n",
      "1    10144783.0  10.14  3.09  \n",
      "2           NaN    NaN   NaN  \n",
      "3    10144783.0  10.14  3.09  \n",
      "4           NaN    NaN   NaN  \n"
     ]
    }
   ],
   "source": [
    "import pandas as pd\n",
    "import numpy as np\n",
    "\n",
    "# Convert X_COORDINATE and Y_COORDINATE columns to numeric\n",
    "combined_data_df['X_COORDINATE'] = pd.to_numeric(combined_data_df['X_COORDINATE'], errors='coerce')\n",
    "combined_data_df['Y_COORDINATE'] = pd.to_numeric(combined_data_df['Y_COORDINATE'], errors='coerce')\n",
    "\n",
    "# Define your conversion logic here\n",
    "def convert_coordinates(x, y):\n",
    "    # Check if x and y are NaN (after conversion to numeric, non-numeric values will be NaN)\n",
    "    if pd.isna(x) or pd.isna(y):\n",
    "        return np.nan, np.nan\n",
    "    \n",
    "    # Convert x and y to numeric (float) values and round them\n",
    "    lat = round(y / 10**6, 2)  # Adjust the number of decimal places as needed\n",
    "    lon = round(x / 10**6, 2)  # Adjust the number of decimal places as needed\n",
    "    return lat, lon\n",
    "\n",
    "# Apply the custom function to each row in the DataFrame and expand the results into separate columns\n",
    "combined_data_df[['Lat', 'Lon']] = combined_data_df.apply(\n",
    "    lambda row: convert_coordinates(row['X_COORDINATE'], row['Y_COORDINATE']), \n",
    "    axis=1, \n",
    "    result_type='expand'\n",
    ")\n",
    "\n",
    "# Print the DataFrame to verify the results\n",
    "print(combined_data_df.head())\n"
   ]
  },
  {
   "cell_type": "code",
   "execution_count": 12,
   "id": "8e26b4c0-d3e3-447d-91ce-0a764146d50b",
   "metadata": {
    "tags": []
   },
   "outputs": [
    {
     "name": "stdout",
     "output_type": "stream",
     "text": [
      "  Arrest Date Arrest Time Sex   Race or Ethnicity  \\\n",
      "0    1/1/2020     8:49 AM   M               WHITE   \n",
      "1    1/1/2020     1:27 PM   F               WHITE   \n",
      "2    1/1/2020    11:18 AM   M  HISPANIC OR LATINO   \n",
      "3    1/1/2020     1:39 PM   F               WHITE   \n",
      "4    1/1/2020    11:33 AM   M  HISPANIC OR LATINO   \n",
      "\n",
      "                            Standardized Race Known           Reason for Stop  \\\n",
      "0  NO - RACE OR ETHNICITY WAS NOT KNOWN BEFORE STOP  Moving Traffic Violation   \n",
      "1  NO - RACE OR ETHNICITY WAS NOT KNOWN BEFORE STOP  Moving Traffic Violation   \n",
      "2  NO - RACE OR ETHNICITY WAS NOT KNOWN BEFORE STOP  Moving Traffic Violation   \n",
      "3  NO - RACE OR ETHNICITY WAS NOT KNOWN BEFORE STOP  Moving Traffic Violation   \n",
      "4  NO - RACE OR ETHNICITY WAS NOT KNOWN BEFORE STOP  Moving Traffic Violation   \n",
      "\n",
      "  Search Yes or No Result of Search   Standardized Race  X_COORDINATE  \\\n",
      "0           NO = 2        No Search               WHITE     3125333.0   \n",
      "1           NO = 2        No Search               WHITE     3094826.0   \n",
      "2           NO = 2        No Search  HISPANIC OR LATINO           NaN   \n",
      "3           NO = 2        No Search               WHITE     3094826.0   \n",
      "4           NO = 2        No Search  HISPANIC OR LATINO           NaN   \n",
      "\n",
      "   Y_COORDINATE    Lat   Lon  \n",
      "0    10092434.0  10.09  3.13  \n",
      "1    10144783.0  10.14  3.09  \n",
      "2           NaN    NaN   NaN  \n",
      "3    10144783.0  10.14  3.09  \n",
      "4           NaN    NaN   NaN  \n"
     ]
    }
   ],
   "source": [
    "print(combined_data_df.head())"
   ]
  },
  {
   "cell_type": "code",
   "execution_count": 13,
   "id": "1df10dee-4101-434f-9e96-322836285627",
   "metadata": {
    "tags": []
   },
   "outputs": [
    {
     "name": "stdout",
     "output_type": "stream",
     "text": [
      "  Arrest Date Arrest Time Sex   Race or Ethnicity  \\\n",
      "0    1/1/2020     8:49 AM   M               WHITE   \n",
      "1    1/1/2020     1:27 PM   F               WHITE   \n",
      "2    1/1/2020    11:18 AM   M  HISPANIC OR LATINO   \n",
      "3    1/1/2020     1:39 PM   F               WHITE   \n",
      "4    1/1/2020    11:33 AM   M  HISPANIC OR LATINO   \n",
      "\n",
      "                            Standardized Race Known           Reason for Stop  \\\n",
      "0  NO - RACE OR ETHNICITY WAS NOT KNOWN BEFORE STOP  Moving Traffic Violation   \n",
      "1  NO - RACE OR ETHNICITY WAS NOT KNOWN BEFORE STOP  Moving Traffic Violation   \n",
      "2  NO - RACE OR ETHNICITY WAS NOT KNOWN BEFORE STOP  Moving Traffic Violation   \n",
      "3  NO - RACE OR ETHNICITY WAS NOT KNOWN BEFORE STOP  Moving Traffic Violation   \n",
      "4  NO - RACE OR ETHNICITY WAS NOT KNOWN BEFORE STOP  Moving Traffic Violation   \n",
      "\n",
      "  Search Yes or No Result of Search   Standardized Race    Lat   Lon  \n",
      "0           NO = 2        No Search               WHITE  10.09  3.13  \n",
      "1           NO = 2        No Search               WHITE  10.14  3.09  \n",
      "2           NO = 2        No Search  HISPANIC OR LATINO    NaN   NaN  \n",
      "3           NO = 2        No Search               WHITE  10.14  3.09  \n",
      "4           NO = 2        No Search  HISPANIC OR LATINO    NaN   NaN  \n"
     ]
    }
   ],
   "source": [
    "# Drop the X_COORDINATE and Y_COORDINATE columns from the DataFrame\n",
    "combined_data_df.drop(['X_COORDINATE', 'Y_COORDINATE'], axis=1, inplace=True)\n",
    "\n",
    "# Print the DataFrame to verify the changes\n",
    "print(combined_data_df.head())\n"
   ]
  },
  {
   "cell_type": "code",
   "execution_count": 14,
   "id": "2363867e-79c9-4aa3-91e8-415a180419d0",
   "metadata": {
    "tags": []
   },
   "outputs": [
    {
     "name": "stdout",
     "output_type": "stream",
     "text": [
      "  Arrest Date Arrest Time Sex   Race or Ethnicity  \\\n",
      "0    1/1/2020     8:49 AM   M               WHITE   \n",
      "1    1/1/2020     1:27 PM   F               WHITE   \n",
      "2    1/1/2020    11:18 AM   M  HISPANIC OR LATINO   \n",
      "3    1/1/2020     1:39 PM   F               WHITE   \n",
      "4    1/1/2020    11:33 AM   M  HISPANIC OR LATINO   \n",
      "\n",
      "                                     Race Known Y/N           Reason for Stop  \\\n",
      "0  NO - RACE OR ETHNICITY WAS NOT KNOWN BEFORE STOP  Moving Traffic Violation   \n",
      "1  NO - RACE OR ETHNICITY WAS NOT KNOWN BEFORE STOP  Moving Traffic Violation   \n",
      "2  NO - RACE OR ETHNICITY WAS NOT KNOWN BEFORE STOP  Moving Traffic Violation   \n",
      "3  NO - RACE OR ETHNICITY WAS NOT KNOWN BEFORE STOP  Moving Traffic Violation   \n",
      "4  NO - RACE OR ETHNICITY WAS NOT KNOWN BEFORE STOP  Moving Traffic Violation   \n",
      "\n",
      "  Search Y/N Search Result   Standardized Race    Lat   Lon  \n",
      "0     NO = 2     No Search               WHITE  10.09  3.13  \n",
      "1     NO = 2     No Search               WHITE  10.14  3.09  \n",
      "2     NO = 2     No Search  HISPANIC OR LATINO    NaN   NaN  \n",
      "3     NO = 2     No Search               WHITE  10.14  3.09  \n",
      "4     NO = 2     No Search  HISPANIC OR LATINO    NaN   NaN  \n"
     ]
    }
   ],
   "source": [
    "combined_data_df.rename(columns={\n",
    "    'Search Yes or No': 'Search Y/N',\n",
    "    'Standardized Race Known': 'Race Known Y/N',\n",
    "    'Result of Search': 'Search Result'\n",
    "}, inplace=True)\n",
    "\n",
    "#check renaming to verify changes \n",
    "print(combined_data_df.head())"
   ]
  },
  {
   "cell_type": "code",
   "execution_count": 15,
   "id": "42796e81-f598-4674-8a12-0865fd6a78b0",
   "metadata": {
    "tags": []
   },
   "outputs": [],
   "source": [
    "combined_data_df.to_csv('C:/Users/Drenaline/Documents/Project 4 Idea/Racial Profiling/Combined_Arrest_Data_2015-2020.csv', index=False)"
   ]
  }
 ],
 "metadata": {
  "kernelspec": {
   "display_name": "Python 3 (ipykernel)",
   "language": "python",
   "name": "python3"
  },
  "language_info": {
   "codemirror_mode": {
    "name": "ipython",
    "version": 3
   },
   "file_extension": ".py",
   "mimetype": "text/x-python",
   "name": "python",
   "nbconvert_exporter": "python",
   "pygments_lexer": "ipython3",
   "version": "3.10.13"
  }
 },
 "nbformat": 4,
 "nbformat_minor": 5
}
