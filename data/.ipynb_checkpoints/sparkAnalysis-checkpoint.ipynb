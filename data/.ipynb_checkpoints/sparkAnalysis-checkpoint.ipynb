{
 "cells": [
  {
   "cell_type": "code",
   "execution_count": 1,
   "id": "8591795a-ae64-4c6b-a62b-a72e7e40fb16",
   "metadata": {},
   "outputs": [],
   "source": [
    "# Import findspark and initialize. \n",
    "import pandas as pd\n",
    "import findspark\n",
    "findspark.init()"
   ]
  },
  {
   "cell_type": "code",
   "execution_count": 2,
   "id": "86ad6082-7419-48c3-af9e-7ed4a9d396fc",
   "metadata": {},
   "outputs": [],
   "source": [
    "# Import packages\n",
    "from pyspark.sql import SparkSession\n",
    "from pyspark.sql import Row\n",
    "from pyspark.sql.types import StructType,StructField,StringType, DateType,IntegerType\n",
    "\n"
   ]
  },
  {
   "cell_type": "code",
   "execution_count": 3,
   "id": "cb5f6464-6f07-4a58-99f6-a4a261d3770f",
   "metadata": {
    "scrolled": true
   },
   "outputs": [
    {
     "name": "stderr",
     "output_type": "stream",
     "text": [
      "C:\\Spark\\Spark3\\python\\pyspark\\sql\\pandas\\conversion.py:485: FutureWarning: is_datetime64tz_dtype is deprecated and will be removed in a future version. Check `isinstance(dtype, pd.DatetimeTZDtype)` instead.\n",
      "  if should_localize and is_datetime64tz_dtype(s.dtype) and s.dt.tz is not None:\n"
     ]
    },
    {
     "name": "stdout",
     "output_type": "stream",
     "text": [
      "+-----------+--------------------+---+------------------+--------+--------------------+--------------------+------------+--------------------+------------------+-----------------+\n",
      "|arrest_date|         arrest_time|sex|              race|searched|      reason_stopped|     search_based_on|search_found|          race_known|               lng|              lat|\n",
      "+-----------+--------------------+---+------------------+--------+--------------------+--------------------+------------+--------------------+------------------+-----------------+\n",
      "| 2015-01-01|1970-01-01 00:00:...|  M|HISPANIC OR LATINO| YES = 1|    CALL FOR SERVICE|INCIDENTAL TO ARREST|     NOTHING|NO - RACE OR ETHN...|7.1814650738840085|85.77304446297813|\n",
      "| 2015-01-01|1970-01-01 00:00:...|  M|             WHITE| YES = 1|VIOLATION OF TRAN...|INCIDENTAL TO ARREST|       DRUGS|NO - RACE OR ETHN...| 6.341422548848474| 85.7819417813572|\n",
      "| 2015-01-01|1970-01-01 00:00:...|  F|             WHITE| YES = 1|VIOLATION OF TRAN...|INCIDENTAL TO ARREST|       DRUGS|NO - RACE OR ETHN...| 6.341422548848474| 85.7819417813572|\n",
      "| 2015-01-01|1970-01-01 00:00:...|  M|             WHITE| YES = 1|VIOLATION OF TRAN...|INCIDENTAL TO ARREST|     NOTHING|NO - RACE OR ETHN...| 7.072722216649785| 85.7993475739116|\n",
      "| 2015-01-01|1970-01-01 00:00:...|  F|             WHITE| YES = 1|  CONSENSUAL CONTACT|INCIDENTAL TO ARREST|       OTHER|NO - RACE OR ETHN...| 7.134598012147304|85.77738430453181|\n",
      "+-----------+--------------------+---+------------------+--------+--------------------+--------------------+------------+--------------------+------------------+-----------------+\n",
      "only showing top 5 rows\n",
      "\n"
     ]
    }
   ],
   "source": [
    "# Import our input dataset\n",
    "df = pd.read_csv('https://profilingbucket.s3.us-east-2.amazonaws.com/combined_cleaned_data.csv')\n",
    "\n",
    "profiling_arrest_analysis = pd.DataFrame(df)\n",
    "\n",
    "spark = SparkSession.builder.appName(\"pandasToSpark\").getOrCreate()\n",
    "\n",
    "# Convert Pandas DataFrame to Spark DataFrame\n",
    "spark_df = spark.createDataFrame(profiling_arrest_analysis)\n",
    "\n",
    "# Show the Spark DataFrame\n",
    "spark_df.show(5)"
   ]
  },
  {
   "cell_type": "code",
   "execution_count": 4,
   "id": "a33780df-d7a9-4979-8811-71015e386b69",
   "metadata": {
    "scrolled": true
   },
   "outputs": [
    {
     "data": {
      "text/plain": [
       "[('arrest_date', 'string'),\n",
       " ('arrest_time', 'string'),\n",
       " ('sex', 'string'),\n",
       " ('race', 'string'),\n",
       " ('searched', 'string'),\n",
       " ('reason_stopped', 'string'),\n",
       " ('search_based_on', 'string'),\n",
       " ('search_found', 'string'),\n",
       " ('race_known', 'string'),\n",
       " ('lng', 'double'),\n",
       " ('lat', 'double')]"
      ]
     },
     "execution_count": 4,
     "metadata": {},
     "output_type": "execute_result"
    }
   ],
   "source": [
    "spark_df.dtypes"
   ]
  },
  {
   "cell_type": "code",
   "execution_count": 5,
   "id": "c1776175-d0c4-4b1c-9cb2-014345999f85",
   "metadata": {},
   "outputs": [
    {
     "name": "stdout",
     "output_type": "stream",
     "text": [
      "+-----------+-----------+---+----+--------+--------------+---------------+------------+----------+---+---+\n",
      "|arrest_date|arrest_time|sex|race|searched|reason_stopped|search_based_on|search_found|race_known|lng|lat|\n",
      "+-----------+-----------+---+----+--------+--------------+---------------+------------+----------+---+---+\n",
      "|          0|          0|  0|   0|       0|             0|              0|           0|         0|  0|  0|\n",
      "+-----------+-----------+---+----+--------+--------------+---------------+------------+----------+---+---+\n",
      "\n"
     ]
    }
   ],
   "source": [
    "from pyspark.sql.functions import count, col, when\n",
    "\n",
    "# Check for Null Values/'\n",
    "spark_df.select([count(when(col(c).isNull(), c)).alias(c) for c in spark_df.columns]).show()\n"
   ]
  },
  {
   "cell_type": "code",
   "execution_count": 6,
   "id": "5d48b518-34e7-4aba-b9ac-e77dbc681d45",
   "metadata": {},
   "outputs": [],
   "source": [
    "from pyspark.sql.functions import col, to_timestamp\n",
    "\n",
    "# Convert 'arrest_date' and 'arrest_time' to timestamp\n",
    "spark_df = spark_df.withColumn('arrest_date', to_timestamp(col('arrest_date')))\n",
    "spark_df = spark_df.withColumn('arrest_time', to_timestamp(col('arrest_time')))\n",
    "\n",
    "# Convert 'lng' and 'lat' to double\n",
    "spark_df = spark_df.withColumn('lng',spark_df['lng'].cast('double'))\n",
    "spark_df = spark_df.withColumn('lat',spark_df['lat'].cast('double'))"
   ]
  },
  {
   "cell_type": "code",
   "execution_count": 7,
   "id": "395a577b-c29d-45a0-8030-afb800a20306",
   "metadata": {},
   "outputs": [
    {
     "name": "stdout",
     "output_type": "stream",
     "text": [
      "root\n",
      " |-- arrest_date: timestamp (nullable = true)\n",
      " |-- arrest_time: timestamp (nullable = true)\n",
      " |-- sex: string (nullable = true)\n",
      " |-- race: string (nullable = true)\n",
      " |-- searched: string (nullable = true)\n",
      " |-- reason_stopped: string (nullable = true)\n",
      " |-- search_based_on: string (nullable = true)\n",
      " |-- search_found: string (nullable = true)\n",
      " |-- race_known: string (nullable = true)\n",
      " |-- lng: double (nullable = true)\n",
      " |-- lat: double (nullable = true)\n",
      "\n"
     ]
    }
   ],
   "source": [
    " # Get the data types of the columns. \n",
    "spark_df.printSchema()"
   ]
  },
  {
   "cell_type": "code",
   "execution_count": 8,
   "id": "8354910c-34ed-46cf-b6b2-1e3761208f82",
   "metadata": {},
   "outputs": [
    {
     "name": "stderr",
     "output_type": "stream",
     "text": [
      "C:\\Spark\\Spark3\\python\\pyspark\\sql\\pandas\\types.py:563: FutureWarning: is_datetime64tz_dtype is deprecated and will be removed in a future version. Check `isinstance(dtype, pd.DatetimeTZDtype)` instead.\n",
      "  if not is_datetime64tz_dtype(pser.dtype):\n",
      "C:\\Spark\\Spark3\\python\\pyspark\\sql\\pandas\\types.py:379: FutureWarning: is_datetime64tz_dtype is deprecated and will be removed in a future version. Check `isinstance(dtype, pd.DatetimeTZDtype)` instead.\n",
      "  if is_datetime64tz_dtype(s.dtype):\n",
      "C:\\Spark\\Spark3\\python\\pyspark\\sql\\pandas\\types.py:563: FutureWarning: is_datetime64tz_dtype is deprecated and will be removed in a future version. Check `isinstance(dtype, pd.DatetimeTZDtype)` instead.\n",
      "  if not is_datetime64tz_dtype(pser.dtype):\n",
      "C:\\Spark\\Spark3\\python\\pyspark\\sql\\pandas\\types.py:379: FutureWarning: is_datetime64tz_dtype is deprecated and will be removed in a future version. Check `isinstance(dtype, pd.DatetimeTZDtype)` instead.\n",
      "  if is_datetime64tz_dtype(s.dtype):\n"
     ]
    }
   ],
   "source": [
    "pandas_df = spark_df.toPandas()\n",
    "pandas_df\n",
    "# Save Pandas DataFrame as JSON file\n",
    "pandas_df.to_json(\"cleaned_data/austinArrests.json\", orient=\"records\")"
   ]
  },
  {
   "cell_type": "markdown",
   "id": "a493b6e6-c5bc-41af-9ebc-889642d6a8a7",
   "metadata": {},
   "source": [
    "### Analysis:\n",
    "#### 1. Aggregations by Month or Day:"
   ]
  },
  {
   "cell_type": "code",
   "execution_count": 9,
   "id": "d4aa1840-207e-4808-96b2-9788d96442bb",
   "metadata": {},
   "outputs": [],
   "source": [
    "# Register the DataFrame as a temporary SQL table\n",
    "spark_df.createOrReplaceTempView(\"arrest_data\")"
   ]
  },
  {
   "cell_type": "code",
   "execution_count": 10,
   "id": "62c46494-688d-4064-8bbc-1bc84e946a72",
   "metadata": {},
   "outputs": [
    {
     "name": "stdout",
     "output_type": "stream",
     "text": [
      "+---+------------------------------+------------+------------+\n",
      "|sex|race                          |arrest_month|arrest_count|\n",
      "+---+------------------------------+------------+------------+\n",
      "|M  |HISPANIC OR LATINO            |1           |1473        |\n",
      "|M  |WHITE                         |1           |1033        |\n",
      "|M  |BLACK                         |1           |823         |\n",
      "|F  |WHITE                         |1           |439         |\n",
      "|F  |HISPANIC OR LATINO            |1           |375         |\n",
      "|F  |BLACK                         |1           |243         |\n",
      "|M  |ASIAN                         |1           |43          |\n",
      "|M  |MIDDLE EASTERN                |1           |15          |\n",
      "|F  |ASIAN                         |1           |7           |\n",
      "|M  |UNKNOWN                       |1           |6           |\n",
      "|M  |HAWAIIAN/PACIFIC ISLANDER     |1           |6           |\n",
      "|F  |UNKNOWN                       |1           |5           |\n",
      "|F  |MIDDLE EASTERN                |1           |1           |\n",
      "|F  |HAWAIIAN/PACIFIC ISLANDER     |1           |1           |\n",
      "|M  |AMERICAN INDIAN/ALASKAN NATIVE|1           |1           |\n",
      "|M  |HISPANIC OR LATINO            |2           |1283        |\n",
      "|M  |WHITE                         |2           |894         |\n",
      "|M  |BLACK                         |2           |711         |\n",
      "|F  |WHITE                         |2           |434         |\n",
      "|F  |HISPANIC OR LATINO            |2           |381         |\n",
      "+---+------------------------------+------------+------------+\n",
      "only showing top 20 rows\n",
      "\n"
     ]
    }
   ],
   "source": [
    "from pyspark.sql.functions import month, dayofmonth\n",
    "\n",
    "result_by_month = spark.sql(\"\"\"\n",
    "    SELECT\n",
    "        sex,\n",
    "        race,\n",
    "        month(arrest_date) AS arrest_month,\n",
    "        COUNT(*) AS arrest_count\n",
    "    FROM\n",
    "        arrest_data\n",
    "    GROUP BY\n",
    "        sex, race, arrest_month\n",
    "    ORDER BY\n",
    "        arrest_month, arrest_count DESC\n",
    "\"\"\")\n",
    "\n",
    "result_by_month.show(truncate=False)"
   ]
  },
  {
   "cell_type": "markdown",
   "id": "7a36343b-5055-4da8-9e7a-da832ef1e223",
   "metadata": {},
   "source": [
    "#### 2. Temporal Trends:"
   ]
  },
  {
   "cell_type": "code",
   "execution_count": 11,
   "id": "5952bb9b-c9f3-4651-a18a-1c53951e130b",
   "metadata": {},
   "outputs": [
    {
     "name": "stdout",
     "output_type": "stream",
     "text": [
      "This query analyzes temporal trends by providing the count for each combination of sex, race, and arrest date.\n",
      "+---+------------------+-------------------+------------+\n",
      "|sex|race              |arrest_date        |arrest_count|\n",
      "+---+------------------+-------------------+------------+\n",
      "|M  |HISPANIC OR LATINO|2015-01-01 00:00:00|11          |\n",
      "|M  |BLACK             |2015-01-01 00:00:00|6           |\n",
      "|M  |WHITE             |2015-01-01 00:00:00|4           |\n",
      "|F  |WHITE             |2015-01-01 00:00:00|3           |\n",
      "|M  |ASIAN             |2015-01-01 00:00:00|1           |\n",
      "|M  |BLACK             |2015-01-02 00:00:00|5           |\n",
      "|M  |HISPANIC OR LATINO|2015-01-02 00:00:00|3           |\n",
      "|F  |WHITE             |2015-01-02 00:00:00|3           |\n",
      "|M  |WHITE             |2015-01-02 00:00:00|3           |\n",
      "|F  |BLACK             |2015-01-02 00:00:00|1           |\n",
      "|M  |ASIAN             |2015-01-02 00:00:00|1           |\n",
      "|M  |HISPANIC OR LATINO|2015-01-03 00:00:00|13          |\n",
      "|M  |WHITE             |2015-01-03 00:00:00|5           |\n",
      "|F  |BLACK             |2015-01-03 00:00:00|4           |\n",
      "|M  |BLACK             |2015-01-03 00:00:00|4           |\n",
      "|F  |WHITE             |2015-01-03 00:00:00|3           |\n",
      "|F  |HISPANIC OR LATINO|2015-01-03 00:00:00|2           |\n",
      "|M  |BLACK             |2015-01-04 00:00:00|11          |\n",
      "|M  |HISPANIC OR LATINO|2015-01-04 00:00:00|10          |\n",
      "|M  |WHITE             |2015-01-04 00:00:00|5           |\n",
      "+---+------------------+-------------------+------------+\n",
      "only showing top 20 rows\n",
      "\n"
     ]
    }
   ],
   "source": [
    "result_temporal_trends = spark.sql(\"\"\"\n",
    "    SELECT\n",
    "        sex,\n",
    "        race,\n",
    "        arrest_date,\n",
    "        COUNT(*) AS arrest_count\n",
    "    FROM\n",
    "        arrest_data\n",
    "    GROUP BY\n",
    "        sex, race, arrest_date\n",
    "    ORDER BY\n",
    "        arrest_date, arrest_count DESC\n",
    "\"\"\")\n",
    "print('This query analyzes temporal trends by providing the count for each combination of sex, race, and arrest date.')\n",
    "result_temporal_trends.show(truncate=False)"
   ]
  },
  {
   "cell_type": "markdown",
   "id": "8bb8ee4b-e199-41a2-b073-25441d879530",
   "metadata": {},
   "source": [
    "#### 3. Reasons for Arrest:"
   ]
  },
  {
   "cell_type": "code",
   "execution_count": 12,
   "id": "140903e3-fd2a-4217-8fea-cc3e455a0262",
   "metadata": {},
   "outputs": [
    {
     "name": "stdout",
     "output_type": "stream",
     "text": [
      "This query explores the reasons for arrest, providing the count for each combination of sex, race, and reason_stopped.\n",
      "+---+------------------+---------------------------------------------+------------+\n",
      "|sex|race              |reason_stopped                               |arrest_count|\n",
      "+---+------------------+---------------------------------------------+------------+\n",
      "|M  |HISPANIC OR LATINO|Moving Traffic Violation                     |5231        |\n",
      "|M  |HISPANIC OR LATINO|VIOLATION OF TRANSPORTATION CODE/VEHICLE LAWS|4367        |\n",
      "|M  |BLACK             |Moving Traffic Violation                     |3217        |\n",
      "|M  |WHITE             |VIOLATION OF TRANSPORTATION CODE/VEHICLE LAWS|3216        |\n",
      "|M  |WHITE             |Moving Traffic Violation                     |3005        |\n",
      "|M  |BLACK             |VIOLATION OF TRANSPORTATION CODE/VEHICLE LAWS|2584        |\n",
      "|M  |HISPANIC OR LATINO|Violation of law other than traffic          |2417        |\n",
      "|M  |WHITE             |Violation of law other than traffic          |1680        |\n",
      "|F  |HISPANIC OR LATINO|Moving Traffic Violation                     |1420        |\n",
      "|F  |WHITE             |VIOLATION OF TRANSPORTATION CODE/VEHICLE LAWS|1409        |\n",
      "|F  |WHITE             |Moving Traffic Violation                     |1368        |\n",
      "|F  |HISPANIC OR LATINO|VIOLATION OF TRANSPORTATION CODE/VEHICLE LAWS|1120        |\n",
      "|F  |BLACK             |Moving Traffic Violation                     |913         |\n",
      "|M  |BLACK             |Violation of law other than traffic          |895         |\n",
      "|F  |WHITE             |Violation of law other than traffic          |828         |\n",
      "|M  |WHITE             |not_listed                                   |711         |\n",
      "|F  |BLACK             |VIOLATION OF TRANSPORTATION CODE/VEHICLE LAWS|694         |\n",
      "|M  |HISPANIC OR LATINO|not_listed                                   |659         |\n",
      "|F  |HISPANIC OR LATINO|Violation of law other than traffic          |657         |\n",
      "|M  |BLACK             |not_listed                                   |366         |\n",
      "+---+------------------+---------------------------------------------+------------+\n",
      "only showing top 20 rows\n",
      "\n"
     ]
    }
   ],
   "source": [
    "result_reasons_for_arrest = spark.sql(\"\"\"\n",
    "    SELECT\n",
    "        sex,\n",
    "        race,\n",
    "        reason_stopped,\n",
    "        COUNT(*) AS arrest_count\n",
    "    FROM\n",
    "        arrest_data\n",
    "    GROUP BY\n",
    "        sex, race, reason_stopped\n",
    "    ORDER BY\n",
    "        arrest_count DESC\n",
    "\"\"\")\n",
    "print('This query explores the reasons for arrest, providing the count for each combination of sex, race, and reason_stopped.')\n",
    "result_reasons_for_arrest.show(truncate=False)\n"
   ]
  },
  {
   "cell_type": "markdown",
   "id": "61e09f1b-a7e6-4a1d-b108-001e6d3d2b9a",
   "metadata": {},
   "source": [
    "#### 4. Search Outcomes:"
   ]
  },
  {
   "cell_type": "code",
   "execution_count": 13,
   "id": "12a8eaac-4073-4934-8bbe-6c47f61dba63",
   "metadata": {},
   "outputs": [
    {
     "name": "stdout",
     "output_type": "stream",
     "text": [
      "This query investigates outcomes of searches by providing the count for each combination of sex, race, and search_found.\n",
      "+---+------------------+------------+------------+\n",
      "|sex|race              |search_found|arrest_count|\n",
      "+---+------------------+------------+------------+\n",
      "|M  |HISPANIC OR LATINO|NOTHING     |7561        |\n",
      "|M  |WHITE             |NOTHING     |5027        |\n",
      "|M  |BLACK             |NOTHING     |3976        |\n",
      "|F  |WHITE             |NOTHING     |2560        |\n",
      "|F  |HISPANIC OR LATINO|NOTHING     |2226        |\n",
      "|M  |HISPANIC OR LATINO|not_listed  |2019        |\n",
      "|M  |WHITE             |not_listed  |1804        |\n",
      "|M  |HISPANIC OR LATINO|DRUGS       |1415        |\n",
      "|M  |HISPANIC OR LATINO|OTHER       |1289        |\n",
      "|F  |BLACK             |NOTHING     |1254        |\n",
      "|M  |BLACK             |not_listed  |1224        |\n",
      "|M  |BLACK             |DRUGS       |1115        |\n",
      "|M  |WHITE             |OTHER       |1016        |\n",
      "|M  |HISPANIC OR LATINO|CASH        |838         |\n",
      "|M  |WHITE             |DRUGS       |832         |\n",
      "|F  |WHITE             |not_listed  |753         |\n",
      "|F  |HISPANIC OR LATINO|not_listed  |691         |\n",
      "|M  |BLACK             |OTHER       |621         |\n",
      "|M  |BLACK             |CASH        |501         |\n",
      "|F  |BLACK             |not_listed  |492         |\n",
      "+---+------------------+------------+------------+\n",
      "only showing top 20 rows\n",
      "\n"
     ]
    }
   ],
   "source": [
    "result_search_outcomes = spark.sql(\"\"\"\n",
    "    SELECT\n",
    "        sex,\n",
    "        race,\n",
    "        search_found,\n",
    "        COUNT(*) AS arrest_count\n",
    "    FROM\n",
    "        arrest_data\n",
    "    GROUP BY\n",
    "        sex, race, search_found\n",
    "    ORDER BY\n",
    "        arrest_count DESC\n",
    "\"\"\")\n",
    "print('This query investigates outcomes of searches by providing the count for each combination of sex, race, and search_found.')\n",
    "result_search_outcomes.show(truncate=False)"
   ]
  },
  {
   "cell_type": "markdown",
   "id": "c9e0b107-1461-4031-9fa7-08947ca0adf3",
   "metadata": {},
   "source": [
    "#### 5. Geospatial Analysis:"
   ]
  },
  {
   "cell_type": "code",
   "execution_count": 14,
   "id": "d2ee2530-5811-4f0c-aec3-786f233806e6",
   "metadata": {},
   "outputs": [
    {
     "name": "stdout",
     "output_type": "stream",
     "text": [
      "This query performs geospatial analysis by providing the average longitude, latitude, and count for each combination of sex and race.\n",
      "+----------+------------------------------+------------------+-----------------+------------+\n",
      "|sex       |race                          |avg_lng           |avg_lat          |arrest_count|\n",
      "+----------+------------------------------+------------------+-----------------+------------+\n",
      "|M         |HISPANIC OR LATINO            |7.40132349233462  |85.77564294734236|13613       |\n",
      "|M         |WHITE                         |7.407710483696598 |85.79754172823796|9408        |\n",
      "|M         |BLACK                         |7.7663369672558105|85.77610387547293|7713        |\n",
      "|F         |WHITE                         |7.396047135349547 |85.79728711701722|4176        |\n",
      "|F         |HISPANIC OR LATINO            |7.369510084157036 |85.77706442631212|3599        |\n",
      "|F         |BLACK                         |7.850413210906305 |85.77782897332624|2192        |\n",
      "|M         |ASIAN                         |7.73240840208576  |85.80456896240166|321         |\n",
      "|M         |MIDDLE EASTERN                |7.542754208162593 |85.79898914586826|122         |\n",
      "|F         |ASIAN                         |7.604823325384605 |85.80329658911349|106         |\n",
      "|M         |UNKNOWN                       |7.342916613197363 |85.78865258017701|75          |\n",
      "|F         |UNKNOWN                       |7.620816835428394 |85.78816393881644|36          |\n",
      "|M         |HAWAIIAN/PACIFIC ISLANDER     |7.4072394663941585|85.80325925316868|19          |\n",
      "|F         |MIDDLE EASTERN                |7.064944785724222 |85.76244460146759|16          |\n",
      "|M         |AMERICAN INDIAN/ALASKAN NATIVE|7.032839976875181 |85.76727523431832|15          |\n",
      "|F         |AMERICAN INDIAN/ALASKAN NATIVE|7.337627601151965 |85.78428277933055|5           |\n",
      "|F         |HAWAIIAN/PACIFIC ISLANDER     |6.668664676695525 |85.77835994644833|3           |\n",
      "|not_listed|not_listed                    |7.180251256422963 |85.78326853785133|3           |\n",
      "|U         |UNKNOWN                       |7.026480993721711 |85.70338799336137|1           |\n",
      "+----------+------------------------------+------------------+-----------------+------------+\n",
      "\n"
     ]
    }
   ],
   "source": [
    "result_geospatial_analysis = spark.sql(\"\"\"\n",
    "    SELECT\n",
    "        sex,\n",
    "        race,\n",
    "        AVG(lng) AS avg_lng,\n",
    "        AVG(lat) AS avg_lat,\n",
    "        COUNT(*) AS arrest_count\n",
    "    FROM\n",
    "        arrest_data\n",
    "    GROUP BY\n",
    "        sex, race\n",
    "    ORDER BY\n",
    "        arrest_count DESC\n",
    "\"\"\")\n",
    "print('This query performs geospatial analysis by providing the average longitude, latitude, and count for each combination of sex and race.')\n",
    "result_geospatial_analysis.show(truncate=False)"
   ]
  },
  {
   "cell_type": "markdown",
   "id": "031ad070-4c6a-4c1e-b667-fdcc0f03eeb3",
   "metadata": {},
   "source": [
    "#### 6. Searches Based On:"
   ]
  },
  {
   "cell_type": "code",
   "execution_count": 15,
   "id": "002fc537-6b37-4aed-83a7-88a0d60c85ae",
   "metadata": {},
   "outputs": [
    {
     "name": "stdout",
     "output_type": "stream",
     "text": [
      "This query analyzes the distribution of different reasons for conducting searches, providing the count for each combination of sex, race, and search_based_on.\n",
      "+---+------------------+--------------------+------------+\n",
      "|sex|race              |search_based_on     |arrest_count|\n",
      "+---+------------------+--------------------+------------+\n",
      "|M  |HISPANIC OR LATINO|INCIDENTAL TO ARREST|8197        |\n",
      "|M  |WHITE             |INCIDENTAL TO ARREST|5754        |\n",
      "|M  |BLACK             |INCIDENTAL TO ARREST|3797        |\n",
      "|M  |HISPANIC OR LATINO|not_listed          |2747        |\n",
      "|F  |WHITE             |INCIDENTAL TO ARREST|2741        |\n",
      "|F  |HISPANIC OR LATINO|INCIDENTAL TO ARREST|2224        |\n",
      "|M  |WHITE             |not_listed          |2209        |\n",
      "|M  |HISPANIC OR LATINO|PROBABLE CAUSE      |2088        |\n",
      "|M  |BLACK             |PROBABLE CAUSE      |1951        |\n",
      "|M  |BLACK             |not_listed          |1608        |\n",
      "|F  |BLACK             |INCIDENTAL TO ARREST|1162        |\n",
      "|M  |WHITE             |PROBABLE CAUSE      |995         |\n",
      "|F  |WHITE             |not_listed          |878         |\n",
      "|F  |HISPANIC OR LATINO|not_listed          |807         |\n",
      "|F  |BLACK             |not_listed          |555         |\n",
      "|F  |HISPANIC OR LATINO|PROBABLE CAUSE      |428         |\n",
      "|F  |BLACK             |PROBABLE CAUSE      |384         |\n",
      "|F  |WHITE             |PROBABLE CAUSE      |370         |\n",
      "|M  |HISPANIC OR LATINO|FRISK FOR SAFETY    |291         |\n",
      "|M  |ASIAN             |INCIDENTAL TO ARREST|212         |\n",
      "+---+------------------+--------------------+------------+\n",
      "only showing top 20 rows\n",
      "\n"
     ]
    }
   ],
   "source": [
    "result_searches_based_on = spark.sql(\"\"\"\n",
    "    SELECT\n",
    "        sex,\n",
    "        race,\n",
    "        search_based_on,\n",
    "        COUNT(*) AS arrest_count\n",
    "    FROM\n",
    "        arrest_data\n",
    "    GROUP BY\n",
    "        sex, race, search_based_on\n",
    "    ORDER BY\n",
    "        arrest_count DESC\n",
    "\"\"\")\n",
    "print('This query analyzes the distribution of different reasons for conducting searches, providing the count for each combination of sex, race, and search_based_on.')\n",
    "result_searches_based_on.show(truncate=False)"
   ]
  },
  {
   "cell_type": "markdown",
   "id": "dce3a575-f1dd-4d91-a983-ea1569943528",
   "metadata": {},
   "source": [
    "#### 7. Demographic Analysis:"
   ]
  },
  {
   "cell_type": "code",
   "execution_count": 16,
   "id": "12cee207-654a-49b6-9f64-52fe48191aeb",
   "metadata": {},
   "outputs": [
    {
     "name": "stdout",
     "output_type": "stream",
     "text": [
      "This query performs demographic analysis by providing the count for each combination of sex and race.\n",
      "+----------+------------------------------+------------+\n",
      "|sex       |race                          |arrest_count|\n",
      "+----------+------------------------------+------------+\n",
      "|M         |HISPANIC OR LATINO            |13613       |\n",
      "|M         |WHITE                         |9408        |\n",
      "|M         |BLACK                         |7713        |\n",
      "|F         |WHITE                         |4176        |\n",
      "|F         |HISPANIC OR LATINO            |3599        |\n",
      "|F         |BLACK                         |2192        |\n",
      "|M         |ASIAN                         |321         |\n",
      "|M         |MIDDLE EASTERN                |122         |\n",
      "|F         |ASIAN                         |106         |\n",
      "|M         |UNKNOWN                       |75          |\n",
      "|F         |UNKNOWN                       |36          |\n",
      "|M         |HAWAIIAN/PACIFIC ISLANDER     |19          |\n",
      "|F         |MIDDLE EASTERN                |16          |\n",
      "|M         |AMERICAN INDIAN/ALASKAN NATIVE|15          |\n",
      "|F         |AMERICAN INDIAN/ALASKAN NATIVE|5           |\n",
      "|F         |HAWAIIAN/PACIFIC ISLANDER     |3           |\n",
      "|not_listed|not_listed                    |3           |\n",
      "|U         |UNKNOWN                       |1           |\n",
      "+----------+------------------------------+------------+\n",
      "\n"
     ]
    }
   ],
   "source": [
    "result_demographic_analysis = spark.sql(\"\"\"\n",
    "    SELECT\n",
    "        sex,\n",
    "        race,\n",
    "        COUNT(*) AS arrest_count\n",
    "    FROM\n",
    "        arrest_data\n",
    "    GROUP BY\n",
    "        sex, race\n",
    "    ORDER BY\n",
    "        arrest_count DESC\n",
    "\"\"\")\n",
    "print('This query performs demographic analysis by providing the count for each combination of sex and race.')\n",
    "result_demographic_analysis.show(truncate=False)\n"
   ]
  },
  {
   "cell_type": "code",
   "execution_count": 17,
   "id": "71a6cd40-4841-4067-bc84-f0298f8caecc",
   "metadata": {},
   "outputs": [
    {
     "name": "stdout",
     "output_type": "stream",
     "text": [
      "+------------------+-----------------+-------------------+-------------------+-------------+\n",
      "|           avg_lng|          avg_lat|    max_arrest_date|    min_arrest_date|total_records|\n",
      "+------------------+-----------------+-------------------+-------------------+-------------+\n",
      "|  7.40132349233462|85.77564294734236|2020-12-31 00:00:00|2015-01-01 00:00:00|        13613|\n",
      "| 7.620816835428394|85.78816393881644|2019-10-04 00:00:00|2015-01-26 00:00:00|           36|\n",
      "| 7.850413210906305|85.77782897332624|2020-12-30 00:00:00|2015-01-02 00:00:00|         2192|\n",
      "| 7.337627601151965|85.78428277933055|2019-03-03 00:00:00|2015-08-09 00:00:00|            5|\n",
      "| 7.064944785724222|85.76244460146759|2020-07-10 00:00:00|2015-05-15 00:00:00|           16|\n",
      "| 7.542754208162593|85.79898914586826|2020-10-13 00:00:00|2015-01-04 00:00:00|          122|\n",
      "|  7.73240840208576|85.80456896240166|2020-12-23 00:00:00|2015-01-01 00:00:00|          321|\n",
      "|7.4072394663941585|85.80325925316868|2020-11-01 00:00:00|2015-11-10 00:00:00|           19|\n",
      "| 7.369510084157036|85.77706442631212|2020-12-27 00:00:00|2015-01-03 00:00:00|         3599|\n",
      "| 7.342916613197363|85.78865258017701|2019-05-20 00:00:00|2015-01-26 00:00:00|           75|\n",
      "|7.7663369672558105|85.77610387547293|2020-12-31 00:00:00|2015-01-01 00:00:00|         7713|\n",
      "| 7.604823325384605|85.80329658911349|2020-11-23 00:00:00|2015-01-06 00:00:00|          106|\n",
      "| 7.032839976875181|85.76727523431832|2020-12-06 00:00:00|2015-06-27 00:00:00|           15|\n",
      "| 7.407710483696598|85.79754172823796|2020-12-31 00:00:00|2015-01-01 00:00:00|         9408|\n",
      "| 7.396047135349547|85.79728711701722|2020-12-31 00:00:00|2015-01-01 00:00:00|         4176|\n",
      "| 7.026480993721711|85.70338799336137|2018-03-18 00:00:00|2018-03-18 00:00:00|            1|\n",
      "| 6.668664676695525|85.77835994644833|2018-10-27 00:00:00|2016-11-04 00:00:00|            3|\n",
      "| 7.180251256422963|85.78326853785133|2019-08-28 00:00:00|2018-12-18 00:00:00|            3|\n",
      "+------------------+-----------------+-------------------+-------------------+-------------+\n",
      "\n"
     ]
    }
   ],
   "source": [
    "\n",
    "# Run SQL queries on the DataFrame\n",
    "result = spark.sql(\"\"\"\n",
    "    SELECT\n",
    "        AVG(lng) AS avg_lng,\n",
    "        AVG(lat) AS avg_lat,\n",
    "        MAX(arrest_date) AS max_arrest_date,\n",
    "        MIN(arrest_date) AS min_arrest_date,\n",
    "        COUNT(*) AS total_records\n",
    "    FROM\n",
    "        arrest_data\n",
    "    GROUP BY\n",
    "        sex, race\n",
    "\"\"\")\n",
    "\n",
    "# Show the result\n",
    "result.show()"
   ]
  },
  {
   "cell_type": "code",
   "execution_count": 18,
   "id": "e45e8345-e008-4f78-994b-52d91d03b9cc",
   "metadata": {},
   "outputs": [
    {
     "name": "stdout",
     "output_type": "stream",
     "text": [
      "+----------+--------------------+------------------+-----------------+------------+\n",
      "|       sex|                race|           avg_lng|          avg_lat|arrest_count|\n",
      "+----------+--------------------+------------------+-----------------+------------+\n",
      "|         M|  HISPANIC OR LATINO|  7.40132349233462|85.77564294734236|       13613|\n",
      "|         M|               WHITE| 7.407710483696598|85.79754172823796|        9408|\n",
      "|         M|               BLACK|7.7663369672558105|85.77610387547293|        7713|\n",
      "|         F|               WHITE| 7.396047135349547|85.79728711701722|        4176|\n",
      "|         F|  HISPANIC OR LATINO| 7.369510084157036|85.77706442631212|        3599|\n",
      "|         F|               BLACK| 7.850413210906305|85.77782897332624|        2192|\n",
      "|         M|               ASIAN|  7.73240840208576|85.80456896240166|         321|\n",
      "|         M|      MIDDLE EASTERN| 7.542754208162593|85.79898914586826|         122|\n",
      "|         F|               ASIAN| 7.604823325384605|85.80329658911349|         106|\n",
      "|         M|             UNKNOWN| 7.342916613197363|85.78865258017701|          75|\n",
      "|         F|             UNKNOWN| 7.620816835428394|85.78816393881644|          36|\n",
      "|         M|HAWAIIAN/PACIFIC ...|7.4072394663941585|85.80325925316868|          19|\n",
      "|         F|      MIDDLE EASTERN| 7.064944785724222|85.76244460146759|          16|\n",
      "|         M|AMERICAN INDIAN/A...| 7.032839976875181|85.76727523431832|          15|\n",
      "|         F|AMERICAN INDIAN/A...| 7.337627601151965|85.78428277933055|           5|\n",
      "|         F|HAWAIIAN/PACIFIC ...| 6.668664676695525|85.77835994644833|           3|\n",
      "|not_listed|          not_listed| 7.180251256422963|85.78326853785133|           3|\n",
      "|         U|             UNKNOWN| 7.026480993721711|85.70338799336137|           1|\n",
      "+----------+--------------------+------------------+-----------------+------------+\n",
      "\n"
     ]
    }
   ],
   "source": [
    "result_location = spark.sql(\"\"\"\n",
    "    SELECT\n",
    "        sex,\n",
    "        race,\n",
    "        AVG(lng) AS avg_lng,\n",
    "        AVG(lat) AS avg_lat,\n",
    "        COUNT(*) AS arrest_count\n",
    "    FROM\n",
    "        arrest_data\n",
    "    GROUP BY\n",
    "        sex, race\n",
    "    ORDER BY\n",
    "        arrest_count DESC\n",
    "\"\"\")\n",
    "\n",
    "result_location.show()"
   ]
  },
  {
   "cell_type": "code",
   "execution_count": 19,
   "id": "32a15ae2-18af-4554-a9bd-a508a1f5e0f1",
   "metadata": {},
   "outputs": [
    {
     "name": "stdout",
     "output_type": "stream",
     "text": [
      "+----------+--------------------+------------+--------------------+\n",
      "|       sex|                race|arrest_count|   arrest_percentage|\n",
      "+----------+--------------------+------------+--------------------+\n",
      "|         M|  HISPANIC OR LATINO|       13613|     32.863385075924|\n",
      "|         M|               WHITE|        9408|   22.71201989233035|\n",
      "|         M|               BLACK|        7713|   18.62009028800425|\n",
      "|         F|               WHITE|        4176|  10.081355768534388|\n",
      "|         F|  HISPANIC OR LATINO|        3599|   8.688409820631051|\n",
      "|         F|               BLACK|        2192|   5.291746131376288|\n",
      "|         M|               ASIAN|         321|  0.7749318011732612|\n",
      "|         M|      MIDDLE EASTERN|         122|  0.2945223668010526|\n",
      "|         F|               ASIAN|         106| 0.25589648263042275|\n",
      "|         M|             UNKNOWN|          75|  0.1810588320498274|\n",
      "|         F|             UNKNOWN|          36| 0.08690823938391715|\n",
      "|         M|HAWAIIAN/PACIFIC ...|          19| 0.04586823745262294|\n",
      "|         F|      MIDDLE EASTERN|          16| 0.03862588417062984|\n",
      "|         M|AMERICAN INDIAN/A...|          15| 0.03621176640996548|\n",
      "|         F|AMERICAN INDIAN/A...|           5|0.012070588803321826|\n",
      "|         F|HAWAIIAN/PACIFIC ...|           3|0.007242353281993...|\n",
      "|not_listed|          not_listed|           3|0.007242353281993...|\n",
      "|         U|             UNKNOWN|           1|0.002414117760664365|\n",
      "+----------+--------------------+------------+--------------------+\n",
      "\n"
     ]
    }
   ],
   "source": [
    "result_with_percentages = spark.sql(\"\"\"\n",
    "    SELECT\n",
    "        sex,\n",
    "        race,\n",
    "        COUNT(*) AS arrest_count,\n",
    "        (COUNT(*) / SUM(COUNT(*)) OVER ()) * 100 AS arrest_percentage\n",
    "    FROM\n",
    "        arrest_data\n",
    "    GROUP BY\n",
    "        sex, race\n",
    "    ORDER BY\n",
    "        arrest_count DESC\n",
    "\"\"\")\n",
    "\n",
    "result_with_percentages.show()"
   ]
  },
  {
   "cell_type": "code",
   "execution_count": 20,
   "id": "554a1b25-0a0a-42e3-a0b0-534ac91657af",
   "metadata": {
    "scrolled": true
   },
   "outputs": [
    {
     "name": "stdout",
     "output_type": "stream",
     "text": [
      "+---+------------------------------+-----------+------------+-------------------+\n",
      "|sex|race                          |arrest_year|arrest_count|arrest_percentage  |\n",
      "+---+------------------------------+-----------+------------+-------------------+\n",
      "|M  |HISPANIC OR LATINO            |2015       |3011        |32.69627538277772  |\n",
      "|M  |WHITE                         |2015       |2257        |24.50863285915952  |\n",
      "|M  |BLACK                         |2015       |1705        |18.514496688022586 |\n",
      "|F  |WHITE                         |2015       |890         |9.6644586817244    |\n",
      "|F  |HISPANIC OR LATINO            |2015       |724         |7.861874253447715  |\n",
      "|F  |BLACK                         |2015       |459         |4.984254533608427  |\n",
      "|M  |ASIAN                         |2015       |75          |0.8144206754262134 |\n",
      "|M  |MIDDLE EASTERN                |2015       |26          |0.2823325008144207 |\n",
      "|F  |ASIAN                         |2015       |24          |0.2606146161363883 |\n",
      "|M  |UNKNOWN                       |2015       |24          |0.2606146161363883 |\n",
      "|F  |UNKNOWN                       |2015       |5           |0.0542947116950809 |\n",
      "|M  |AMERICAN INDIAN/ALASKAN NATIVE|2015       |4           |0.04343576935606472|\n",
      "|F  |MIDDLE EASTERN                |2015       |2           |0.02171788467803236|\n",
      "|M  |HAWAIIAN/PACIFIC ISLANDER     |2015       |2           |0.02171788467803236|\n",
      "|F  |AMERICAN INDIAN/ALASKAN NATIVE|2015       |1           |0.01085894233901618|\n",
      "|M  |HISPANIC OR LATINO            |2016       |2703        |29.431620209059233 |\n",
      "|M  |WHITE                         |2016       |2372        |25.827526132404184 |\n",
      "|M  |BLACK                         |2016       |1673        |18.216463414634145 |\n",
      "|F  |WHITE                         |2016       |1045        |11.378484320557492 |\n",
      "|F  |HISPANIC OR LATINO            |2016       |732         |7.970383275261324  |\n",
      "+---+------------------------------+-----------+------------+-------------------+\n",
      "only showing top 20 rows\n",
      "\n"
     ]
    }
   ],
   "source": [
    "result_by_year = spark.sql(\"\"\"\n",
    "    SELECT\n",
    "        sex,\n",
    "        race,\n",
    "        YEAR(arrest_date) AS arrest_year,\n",
    "        COUNT(*) AS arrest_count,\n",
    "        (COUNT(*) / SUM(COUNT(*)) OVER (PARTITION BY YEAR(arrest_date))) * 100 AS arrest_percentage\n",
    "    FROM\n",
    "        arrest_data\n",
    "    GROUP BY\n",
    "        sex, race, arrest_year\n",
    "    ORDER BY\n",
    "        arrest_year, arrest_count DESC\n",
    "\"\"\")\n",
    "\n",
    "result_by_year.show(truncate=False)"
   ]
  },
  {
   "cell_type": "code",
   "execution_count": null,
   "id": "a02a9c8e-dcb1-4fe7-9f0a-283e34fbb0db",
   "metadata": {},
   "outputs": [],
   "source": []
  }
 ],
 "metadata": {
  "kernelspec": {
   "display_name": "Python 3 (ipykernel)",
   "language": "python",
   "name": "python3"
  },
  "language_info": {
   "codemirror_mode": {
    "name": "ipython",
    "version": 3
   },
   "file_extension": ".py",
   "mimetype": "text/x-python",
   "name": "python",
   "nbconvert_exporter": "python",
   "pygments_lexer": "ipython3",
   "version": "3.10.13"
  }
 },
 "nbformat": 4,
 "nbformat_minor": 5
}
